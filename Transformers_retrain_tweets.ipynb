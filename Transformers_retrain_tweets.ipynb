{
 "cells": [
  {
   "cell_type": "code",
   "execution_count": null,
   "metadata": {
    "id": "FUrHTFW4dXl6"
   },
   "outputs": [],
   "source": [
    "import pandas as pd\n",
    "from sklearn.model_selection import train_test_split\n",
    "\n",
    "df=pd.read_csv('/content/drive/MyDrive/EWS/Twitter/LABEL TWEETS/twitter_data_labeled/phase2_1.csv')\n",
    "\n",
    "df.head()\n",
    "\n",
    "df.columns\n",
    "\n",
    "tweets=df.tweet.to_list()\n",
    "\n",
    "tweets_train, tweets_validation = train_test_split(tweets,test_size=0.1,random_state=8)\n",
    "\n",
    "def save_txt(texts,name):\n",
    "    with open(name, 'w') as f:\n",
    "        for text in texts:\n",
    "            text = text if text[-1]=='/n' else text+'/n'\n",
    "            f.write(text)\n",
    "\n",
    "save_txt(tweets_train,'tweet_train.txt')\n",
    "\n",
    "save_txt(tweets_validation,'tweets_validation.txt')"
   ]
  },
  {
   "cell_type": "code",
   "execution_count": 1,
   "metadata": {
    "colab": {
     "base_uri": "https://localhost:8080/"
    },
    "executionInfo": {
     "elapsed": 15274,
     "status": "ok",
     "timestamp": 1647124867350,
     "user": {
      "displayName": "Juan Alberto Argüello García-Pertusa",
      "photoUrl": "https://lh3.googleusercontent.com/a-/AOh14GhsXrBJneL0bJM2BcoyDUsxUb5j7MFw6Eo1If1YEw=s64",
      "userId": "07485474505881417131"
     },
     "user_tz": 300
    },
    "id": "5_J1FbitSoAm",
    "outputId": "3112dfe6-00fe-4ec1-b63f-dce9cdc68339"
   },
   "outputs": [
    {
     "name": "stdout",
     "output_type": "stream",
     "text": [
      "Mounted at /content/drive\n"
     ]
    }
   ],
   "source": [
    "from google.colab import drive\n",
    "drive.mount('/content/drive')"
   ]
  },
  {
   "cell_type": "markdown",
   "metadata": {
    "id": "SLUs27H6RgF1"
   },
   "source": [
    "# New Section"
   ]
  },
  {
   "cell_type": "code",
   "execution_count": null,
   "metadata": {
    "colab": {
     "base_uri": "https://localhost:8080/"
    },
    "executionInfo": {
     "elapsed": 157,
     "status": "ok",
     "timestamp": 1636737456587,
     "user": {
      "displayName": "Juan Alberto Arguello Garcia Pertusa",
      "photoUrl": "https://lh3.googleusercontent.com/a-/AOh14GgLNEssX-ZQ-3Wt21S35bSF4i8fDxb0sYwOKN6fjZdCGwyOSfhMFvAQ1UK3eBgEEMRvdXTIPi_toS8mrBJVBrh6nL2HBoRx4GFfZEgsqg-dybjyTTdUmdEKiu28y4qWKa_MfiUdINIpvp2H0XFbxKAvXYIUgAuwosan_sZ90lqXKduxKUNhQFQNm7AtLBxmQocFxa9lMw3e81yu_LnH1gMgy0BZqX98JkYD8Y6OeZpCpHNfCY8PdgFGTkd9T525ClQsm3NMjO2XoCbLAxinM-LUfPucjpKrPburF-lSAdi1UBbvrY2dGxzU6unNCVQdRV1JZhEgT4PC_DSSppMkPOdca_0ojf5cu4BkGCRd7EdfDDRP32kJuNGj8a1UZMW293DJRslrl4rxUJUZFOw7ZRTgsINR8d2EIyC78OFvW6oIfAqYZEg0fEw_F7v9KMBKidAgx0bR3qu5RjIY9HMHecjbr9rN7DyDScVfElKZ2fwHcnK2lhQrYcdZCfvqYDSZKl6e7nwABn1aq03nUn-pRUZyCRYQ6g3EfM5liOMpa-JP5Ab6nUHHRnYvGRUsyEw9izJR7TP0u_aVkBi51jK-wywGmz2RFIkF-Btte-1Vv2j4mkqrwRNuUqtn8v5NNE2N-141RaT839OGMOZWAqk3iSyIFsOrdjNeXsYPoAFbb2BZyFs3m02vIb-kRMrlQDbaQmrMSPPL2HfSXRgy5U9g2CKe4ak80dfZaX5xYEMa4BlHAANSm8DhC-opLInCtMLDBFelJw=s64",
      "userId": "11559378201574576734"
     },
     "user_tz": 300
    },
    "id": "RLiB2BGXeIpB",
    "outputId": "812453f6-0d4b-4035-d2ce-f0f32ba61099"
   },
   "outputs": [
    {
     "name": "stdout",
     "output_type": "stream",
     "text": [
      "drive  sample_data  tweets_validation.txt  tweet_train.txt\n"
     ]
    }
   ],
   "source": [
    "!ls"
   ]
  },
  {
   "cell_type": "code",
   "execution_count": null,
   "metadata": {
    "colab": {
     "base_uri": "https://localhost:8080/"
    },
    "executionInfo": {
     "elapsed": 11788,
     "status": "ok",
     "timestamp": 1636737474340,
     "user": {
      "displayName": "Juan Alberto Arguello Garcia Pertusa",
      "photoUrl": "https://lh3.googleusercontent.com/a-/AOh14GgLNEssX-ZQ-3Wt21S35bSF4i8fDxb0sYwOKN6fjZdCGwyOSfhMFvAQ1UK3eBgEEMRvdXTIPi_toS8mrBJVBrh6nL2HBoRx4GFfZEgsqg-dybjyTTdUmdEKiu28y4qWKa_MfiUdINIpvp2H0XFbxKAvXYIUgAuwosan_sZ90lqXKduxKUNhQFQNm7AtLBxmQocFxa9lMw3e81yu_LnH1gMgy0BZqX98JkYD8Y6OeZpCpHNfCY8PdgFGTkd9T525ClQsm3NMjO2XoCbLAxinM-LUfPucjpKrPburF-lSAdi1UBbvrY2dGxzU6unNCVQdRV1JZhEgT4PC_DSSppMkPOdca_0ojf5cu4BkGCRd7EdfDDRP32kJuNGj8a1UZMW293DJRslrl4rxUJUZFOw7ZRTgsINR8d2EIyC78OFvW6oIfAqYZEg0fEw_F7v9KMBKidAgx0bR3qu5RjIY9HMHecjbr9rN7DyDScVfElKZ2fwHcnK2lhQrYcdZCfvqYDSZKl6e7nwABn1aq03nUn-pRUZyCRYQ6g3EfM5liOMpa-JP5Ab6nUHHRnYvGRUsyEw9izJR7TP0u_aVkBi51jK-wywGmz2RFIkF-Btte-1Vv2j4mkqrwRNuUqtn8v5NNE2N-141RaT839OGMOZWAqk3iSyIFsOrdjNeXsYPoAFbb2BZyFs3m02vIb-kRMrlQDbaQmrMSPPL2HfSXRgy5U9g2CKe4ak80dfZaX5xYEMa4BlHAANSm8DhC-opLInCtMLDBFelJw=s64",
      "userId": "11559378201574576734"
     },
     "user_tz": 300
    },
    "id": "mlmSWF5_eLZV",
    "outputId": "b66bfe1c-556b-4146-dc9d-d1f3f1b02e3e"
   },
   "outputs": [
    {
     "name": "stdout",
     "output_type": "stream",
     "text": [
      "Cloning into 'transformers'...\n",
      "remote: Enumerating objects: 88986, done.\u001b[K\n",
      "remote: Counting objects: 100% (208/208), done.\u001b[K\n",
      "remote: Compressing objects: 100% (107/107), done.\u001b[K\n",
      "remote: Total 88986 (delta 98), reused 171 (delta 81), pack-reused 88778\u001b[K\n",
      "Receiving objects: 100% (88986/88986), 71.82 MiB | 22.00 MiB/s, done.\n",
      "Resolving deltas: 100% (64090/64090), done.\n"
     ]
    }
   ],
   "source": [
    "!git clone https://github.com/huggingface/transformers"
   ]
  },
  {
   "cell_type": "code",
   "execution_count": null,
   "metadata": {
    "colab": {
     "base_uri": "https://localhost:8080/"
    },
    "executionInfo": {
     "elapsed": 169,
     "status": "ok",
     "timestamp": 1636737474473,
     "user": {
      "displayName": "Juan Alberto Arguello Garcia Pertusa",
      "photoUrl": "https://lh3.googleusercontent.com/a-/AOh14GgLNEssX-ZQ-3Wt21S35bSF4i8fDxb0sYwOKN6fjZdCGwyOSfhMFvAQ1UK3eBgEEMRvdXTIPi_toS8mrBJVBrh6nL2HBoRx4GFfZEgsqg-dybjyTTdUmdEKiu28y4qWKa_MfiUdINIpvp2H0XFbxKAvXYIUgAuwosan_sZ90lqXKduxKUNhQFQNm7AtLBxmQocFxa9lMw3e81yu_LnH1gMgy0BZqX98JkYD8Y6OeZpCpHNfCY8PdgFGTkd9T525ClQsm3NMjO2XoCbLAxinM-LUfPucjpKrPburF-lSAdi1UBbvrY2dGxzU6unNCVQdRV1JZhEgT4PC_DSSppMkPOdca_0ojf5cu4BkGCRd7EdfDDRP32kJuNGj8a1UZMW293DJRslrl4rxUJUZFOw7ZRTgsINR8d2EIyC78OFvW6oIfAqYZEg0fEw_F7v9KMBKidAgx0bR3qu5RjIY9HMHecjbr9rN7DyDScVfElKZ2fwHcnK2lhQrYcdZCfvqYDSZKl6e7nwABn1aq03nUn-pRUZyCRYQ6g3EfM5liOMpa-JP5Ab6nUHHRnYvGRUsyEw9izJR7TP0u_aVkBi51jK-wywGmz2RFIkF-Btte-1Vv2j4mkqrwRNuUqtn8v5NNE2N-141RaT839OGMOZWAqk3iSyIFsOrdjNeXsYPoAFbb2BZyFs3m02vIb-kRMrlQDbaQmrMSPPL2HfSXRgy5U9g2CKe4ak80dfZaX5xYEMa4BlHAANSm8DhC-opLInCtMLDBFelJw=s64",
      "userId": "11559378201574576734"
     },
     "user_tz": 300
    },
    "id": "rOO26Uu0ejjJ",
    "outputId": "babd68d4-0c1e-4c4e-aba5-6371a52153ee"
   },
   "outputs": [
    {
     "name": "stdout",
     "output_type": "stream",
     "text": [
      "/content\n"
     ]
    }
   ],
   "source": [
    "!pwd"
   ]
  },
  {
   "cell_type": "code",
   "execution_count": null,
   "metadata": {
    "colab": {
     "base_uri": "https://localhost:8080/"
    },
    "executionInfo": {
     "elapsed": 9516,
     "status": "ok",
     "timestamp": 1636737483986,
     "user": {
      "displayName": "Juan Alberto Arguello Garcia Pertusa",
      "photoUrl": "https://lh3.googleusercontent.com/a-/AOh14GgLNEssX-ZQ-3Wt21S35bSF4i8fDxb0sYwOKN6fjZdCGwyOSfhMFvAQ1UK3eBgEEMRvdXTIPi_toS8mrBJVBrh6nL2HBoRx4GFfZEgsqg-dybjyTTdUmdEKiu28y4qWKa_MfiUdINIpvp2H0XFbxKAvXYIUgAuwosan_sZ90lqXKduxKUNhQFQNm7AtLBxmQocFxa9lMw3e81yu_LnH1gMgy0BZqX98JkYD8Y6OeZpCpHNfCY8PdgFGTkd9T525ClQsm3NMjO2XoCbLAxinM-LUfPucjpKrPburF-lSAdi1UBbvrY2dGxzU6unNCVQdRV1JZhEgT4PC_DSSppMkPOdca_0ojf5cu4BkGCRd7EdfDDRP32kJuNGj8a1UZMW293DJRslrl4rxUJUZFOw7ZRTgsINR8d2EIyC78OFvW6oIfAqYZEg0fEw_F7v9KMBKidAgx0bR3qu5RjIY9HMHecjbr9rN7DyDScVfElKZ2fwHcnK2lhQrYcdZCfvqYDSZKl6e7nwABn1aq03nUn-pRUZyCRYQ6g3EfM5liOMpa-JP5Ab6nUHHRnYvGRUsyEw9izJR7TP0u_aVkBi51jK-wywGmz2RFIkF-Btte-1Vv2j4mkqrwRNuUqtn8v5NNE2N-141RaT839OGMOZWAqk3iSyIFsOrdjNeXsYPoAFbb2BZyFs3m02vIb-kRMrlQDbaQmrMSPPL2HfSXRgy5U9g2CKe4ak80dfZaX5xYEMa4BlHAANSm8DhC-opLInCtMLDBFelJw=s64",
      "userId": "11559378201574576734"
     },
     "user_tz": 300
    },
    "id": "BEfhRAP-lyKd",
    "outputId": "fa38fca1-eab2-4bdd-f1c5-f7c620db39f9"
   },
   "outputs": [
    {
     "name": "stdout",
     "output_type": "stream",
     "text": [
      "Collecting datasets==1.15.1\n",
      "  Downloading datasets-1.15.1-py3-none-any.whl (290 kB)\n",
      "\u001b[K     |████████████████████████████████| 290 kB 5.3 MB/s \n",
      "\u001b[?25hCollecting huggingface-hub<1.0.0,>=0.1.0\n",
      "  Downloading huggingface_hub-0.1.2-py3-none-any.whl (59 kB)\n",
      "\u001b[K     |████████████████████████████████| 59 kB 6.9 MB/s \n",
      "\u001b[?25hRequirement already satisfied: packaging in /usr/local/lib/python3.7/dist-packages (from datasets==1.15.1) (21.2)\n",
      "Requirement already satisfied: importlib-metadata in /usr/local/lib/python3.7/dist-packages (from datasets==1.15.1) (4.8.2)\n",
      "Collecting fsspec[http]>=2021.05.0\n",
      "  Downloading fsspec-2021.11.0-py3-none-any.whl (132 kB)\n",
      "\u001b[K     |████████████████████████████████| 132 kB 45.0 MB/s \n",
      "\u001b[?25hRequirement already satisfied: pyarrow!=4.0.0,>=1.0.0 in /usr/local/lib/python3.7/dist-packages (from datasets==1.15.1) (3.0.0)\n",
      "Requirement already satisfied: numpy>=1.17 in /usr/local/lib/python3.7/dist-packages (from datasets==1.15.1) (1.19.5)\n",
      "Requirement already satisfied: multiprocess in /usr/local/lib/python3.7/dist-packages (from datasets==1.15.1) (0.70.12.2)\n",
      "Collecting aiohttp\n",
      "  Downloading aiohttp-3.8.0-cp37-cp37m-manylinux_2_5_x86_64.manylinux1_x86_64.manylinux_2_12_x86_64.manylinux2010_x86_64.whl (1.1 MB)\n",
      "\u001b[K     |████████████████████████████████| 1.1 MB 40.4 MB/s \n",
      "\u001b[?25hCollecting xxhash\n",
      "  Downloading xxhash-2.0.2-cp37-cp37m-manylinux2010_x86_64.whl (243 kB)\n",
      "\u001b[K     |████████████████████████████████| 243 kB 44.9 MB/s \n",
      "\u001b[?25hRequirement already satisfied: dill in /usr/local/lib/python3.7/dist-packages (from datasets==1.15.1) (0.3.4)\n",
      "Requirement already satisfied: requests>=2.19.0 in /usr/local/lib/python3.7/dist-packages (from datasets==1.15.1) (2.23.0)\n",
      "Requirement already satisfied: tqdm>=4.62.1 in /usr/local/lib/python3.7/dist-packages (from datasets==1.15.1) (4.62.3)\n",
      "Requirement already satisfied: pandas in /usr/local/lib/python3.7/dist-packages (from datasets==1.15.1) (1.1.5)\n",
      "Requirement already satisfied: filelock in /usr/local/lib/python3.7/dist-packages (from huggingface-hub<1.0.0,>=0.1.0->datasets==1.15.1) (3.3.2)\n",
      "Requirement already satisfied: pyyaml in /usr/local/lib/python3.7/dist-packages (from huggingface-hub<1.0.0,>=0.1.0->datasets==1.15.1) (3.13)\n",
      "Requirement already satisfied: typing-extensions>=3.7.4.3 in /usr/local/lib/python3.7/dist-packages (from huggingface-hub<1.0.0,>=0.1.0->datasets==1.15.1) (3.10.0.2)\n",
      "Requirement already satisfied: pyparsing<3,>=2.0.2 in /usr/local/lib/python3.7/dist-packages (from packaging->datasets==1.15.1) (2.4.7)\n",
      "Requirement already satisfied: certifi>=2017.4.17 in /usr/local/lib/python3.7/dist-packages (from requests>=2.19.0->datasets==1.15.1) (2021.10.8)\n",
      "Requirement already satisfied: idna<3,>=2.5 in /usr/local/lib/python3.7/dist-packages (from requests>=2.19.0->datasets==1.15.1) (2.10)\n",
      "Requirement already satisfied: urllib3!=1.25.0,!=1.25.1,<1.26,>=1.21.1 in /usr/local/lib/python3.7/dist-packages (from requests>=2.19.0->datasets==1.15.1) (1.24.3)\n",
      "Requirement already satisfied: chardet<4,>=3.0.2 in /usr/local/lib/python3.7/dist-packages (from requests>=2.19.0->datasets==1.15.1) (3.0.4)\n",
      "Requirement already satisfied: attrs>=17.3.0 in /usr/local/lib/python3.7/dist-packages (from aiohttp->datasets==1.15.1) (21.2.0)\n",
      "Collecting asynctest==0.13.0\n",
      "  Downloading asynctest-0.13.0-py3-none-any.whl (26 kB)\n",
      "Requirement already satisfied: charset-normalizer<3.0,>=2.0 in /usr/local/lib/python3.7/dist-packages (from aiohttp->datasets==1.15.1) (2.0.7)\n",
      "Collecting aiosignal>=1.1.2\n",
      "  Downloading aiosignal-1.2.0-py3-none-any.whl (8.2 kB)\n",
      "Collecting yarl<2.0,>=1.0\n",
      "  Downloading yarl-1.7.2-cp37-cp37m-manylinux_2_5_x86_64.manylinux1_x86_64.manylinux_2_12_x86_64.manylinux2010_x86_64.whl (271 kB)\n",
      "\u001b[K     |████████████████████████████████| 271 kB 44.0 MB/s \n",
      "\u001b[?25hCollecting frozenlist>=1.1.1\n",
      "  Downloading frozenlist-1.2.0-cp37-cp37m-manylinux_2_5_x86_64.manylinux1_x86_64.manylinux_2_12_x86_64.manylinux2010_x86_64.whl (192 kB)\n",
      "\u001b[K     |████████████████████████████████| 192 kB 44.2 MB/s \n",
      "\u001b[?25hCollecting multidict<7.0,>=4.5\n",
      "  Downloading multidict-5.2.0-cp37-cp37m-manylinux_2_5_x86_64.manylinux1_x86_64.manylinux_2_12_x86_64.manylinux2010_x86_64.whl (160 kB)\n",
      "\u001b[K     |████████████████████████████████| 160 kB 39.9 MB/s \n",
      "\u001b[?25hCollecting async-timeout<5.0,>=4.0.0a3\n",
      "  Downloading async_timeout-4.0.1-py3-none-any.whl (5.7 kB)\n",
      "Requirement already satisfied: zipp>=0.5 in /usr/local/lib/python3.7/dist-packages (from importlib-metadata->datasets==1.15.1) (3.6.0)\n",
      "Requirement already satisfied: python-dateutil>=2.7.3 in /usr/local/lib/python3.7/dist-packages (from pandas->datasets==1.15.1) (2.8.2)\n",
      "Requirement already satisfied: pytz>=2017.2 in /usr/local/lib/python3.7/dist-packages (from pandas->datasets==1.15.1) (2018.9)\n",
      "Requirement already satisfied: six>=1.5 in /usr/local/lib/python3.7/dist-packages (from python-dateutil>=2.7.3->pandas->datasets==1.15.1) (1.15.0)\n",
      "Installing collected packages: multidict, frozenlist, yarl, asynctest, async-timeout, aiosignal, fsspec, aiohttp, xxhash, huggingface-hub, datasets\n",
      "Successfully installed aiohttp-3.8.0 aiosignal-1.2.0 async-timeout-4.0.1 asynctest-0.13.0 datasets-1.15.1 frozenlist-1.2.0 fsspec-2021.11.0 huggingface-hub-0.1.2 multidict-5.2.0 xxhash-2.0.2 yarl-1.7.2\n"
     ]
    }
   ],
   "source": [
    "!pip install datasets==1.15.1"
   ]
  },
  {
   "cell_type": "code",
   "execution_count": null,
   "metadata": {
    "colab": {
     "base_uri": "https://localhost:8080/"
    },
    "executionInfo": {
     "elapsed": 1356,
     "status": "ok",
     "timestamp": 1636121854664,
     "user": {
      "displayName": "Juan Alberto Arguello Garcia Pertusa",
      "photoUrl": "https://lh3.googleusercontent.com/a-/AOh14GiIG43Q5xcFWamqYoIrwBW7mAmnExYIasw4nkGWgrTRbB_VywrAxe8fxLAu3Di764iNlO6TRMFhR971WrGylu427Am5-M7LRf6PMviVZGTBLvJHPXqyQhRFm7B990WBFIqByI3RaXfECN2m9kRdcuKnxgsqZW6prR27d6NjC3F8HJcjRFyH5Wz1PqtvYsznqh6SYJFfOApiw0ZzXlXkr6SQ0QlF77GM--46imxI_9Js9p7dCTdCghRHK7zi0St_GTWmQzaMPiaFm3pWcpcndMbIW4VFLf2V_bsFqWcyJNQ6XYVF_pzcyjcQIEMhH7kLlGlEBs-1PWs5LLOjg-nZnIlPmXFJZzrwHVjPGErpajMIhxfN9MoF4Sj1agdE2AzR4O-cDHzKFhFfNaDsCNjFW6m4geKQ1FmIs0fRTrB8dzKSJxbEzrXi__8-mKnTQFAv3VOECbDRQLxtswjnfdPW6spwpeqTIGM0gsjlrDRhhQUscihCpkSv0NgD1dYWbB6pmhVE1sxHDXbXkryPbGfXaGM06F1Lk5pgiEaggXbacCgaqqQdurm0j858Um1Y9LUlOqvIm2a7T5mogvfxg-8pAfG9vHWl0sWD8E1FqdwiAXZVy0tohwZJiav0lm1AiktDciwqfBL9ajXWQcA5slkQM7NtJKdlGuJ_uUZy1PX2r9y9lyUFE-PCxJ_-qTpCkyGACZYvs6Glp8WduSGmg4nI-LWr9bmSMQn9kxw6bC2uG73BEmxtOokyhqNo_T3LJTY6S9i03A=s64",
      "userId": "11559378201574576734"
     },
     "user_tz": 240
    },
    "id": "qfxj8Pd_deod",
    "outputId": "62b63905-c3bc-4576-962a-dba0951b0c25"
   },
   "outputs": [
    {
     "name": "stdout",
     "output_type": "stream",
     "text": [
      "Found existing installation: transformers 4.13.0.dev0\n",
      "Can't uninstall 'transformers'. No files were found to uninstall.\n"
     ]
    }
   ],
   "source": [
    "# !pip uninstall transformers "
   ]
  },
  {
   "cell_type": "code",
   "execution_count": null,
   "metadata": {
    "colab": {
     "base_uri": "https://localhost:8080/"
    },
    "executionInfo": {
     "elapsed": 8263,
     "status": "ok",
     "timestamp": 1636737497119,
     "user": {
      "displayName": "Juan Alberto Arguello Garcia Pertusa",
      "photoUrl": "https://lh3.googleusercontent.com/a-/AOh14GgLNEssX-ZQ-3Wt21S35bSF4i8fDxb0sYwOKN6fjZdCGwyOSfhMFvAQ1UK3eBgEEMRvdXTIPi_toS8mrBJVBrh6nL2HBoRx4GFfZEgsqg-dybjyTTdUmdEKiu28y4qWKa_MfiUdINIpvp2H0XFbxKAvXYIUgAuwosan_sZ90lqXKduxKUNhQFQNm7AtLBxmQocFxa9lMw3e81yu_LnH1gMgy0BZqX98JkYD8Y6OeZpCpHNfCY8PdgFGTkd9T525ClQsm3NMjO2XoCbLAxinM-LUfPucjpKrPburF-lSAdi1UBbvrY2dGxzU6unNCVQdRV1JZhEgT4PC_DSSppMkPOdca_0ojf5cu4BkGCRd7EdfDDRP32kJuNGj8a1UZMW293DJRslrl4rxUJUZFOw7ZRTgsINR8d2EIyC78OFvW6oIfAqYZEg0fEw_F7v9KMBKidAgx0bR3qu5RjIY9HMHecjbr9rN7DyDScVfElKZ2fwHcnK2lhQrYcdZCfvqYDSZKl6e7nwABn1aq03nUn-pRUZyCRYQ6g3EfM5liOMpa-JP5Ab6nUHHRnYvGRUsyEw9izJR7TP0u_aVkBi51jK-wywGmz2RFIkF-Btte-1Vv2j4mkqrwRNuUqtn8v5NNE2N-141RaT839OGMOZWAqk3iSyIFsOrdjNeXsYPoAFbb2BZyFs3m02vIb-kRMrlQDbaQmrMSPPL2HfSXRgy5U9g2CKe4ak80dfZaX5xYEMa4BlHAANSm8DhC-opLInCtMLDBFelJw=s64",
      "userId": "11559378201574576734"
     },
     "user_tz": 300
    },
    "id": "DYD0hC2LdlIp",
    "outputId": "0b2efb92-5823-4720-9a16-50b612613b37"
   },
   "outputs": [
    {
     "name": "stdout",
     "output_type": "stream",
     "text": [
      "Collecting transformers==4.12.3\n",
      "  Downloading transformers-4.12.3-py3-none-any.whl (3.1 MB)\n",
      "\u001b[K     |████████████████████████████████| 3.1 MB 5.2 MB/s \n",
      "\u001b[?25hRequirement already satisfied: importlib-metadata in /usr/local/lib/python3.7/dist-packages (from transformers==4.12.3) (4.8.2)\n",
      "Requirement already satisfied: filelock in /usr/local/lib/python3.7/dist-packages (from transformers==4.12.3) (3.3.2)\n",
      "Requirement already satisfied: packaging>=20.0 in /usr/local/lib/python3.7/dist-packages (from transformers==4.12.3) (21.2)\n",
      "Requirement already satisfied: huggingface-hub<1.0,>=0.1.0 in /usr/local/lib/python3.7/dist-packages (from transformers==4.12.3) (0.1.2)\n",
      "Requirement already satisfied: numpy>=1.17 in /usr/local/lib/python3.7/dist-packages (from transformers==4.12.3) (1.19.5)\n",
      "Collecting pyyaml>=5.1\n",
      "  Downloading PyYAML-6.0-cp37-cp37m-manylinux_2_5_x86_64.manylinux1_x86_64.manylinux_2_12_x86_64.manylinux2010_x86_64.whl (596 kB)\n",
      "\u001b[K     |████████████████████████████████| 596 kB 48.6 MB/s \n",
      "\u001b[?25hCollecting tokenizers<0.11,>=0.10.1\n",
      "  Downloading tokenizers-0.10.3-cp37-cp37m-manylinux_2_5_x86_64.manylinux1_x86_64.manylinux_2_12_x86_64.manylinux2010_x86_64.whl (3.3 MB)\n",
      "\u001b[K     |████████████████████████████████| 3.3 MB 33.4 MB/s \n",
      "\u001b[?25hRequirement already satisfied: tqdm>=4.27 in /usr/local/lib/python3.7/dist-packages (from transformers==4.12.3) (4.62.3)\n",
      "Requirement already satisfied: regex!=2019.12.17 in /usr/local/lib/python3.7/dist-packages (from transformers==4.12.3) (2019.12.20)\n",
      "Collecting sacremoses\n",
      "  Downloading sacremoses-0.0.46-py3-none-any.whl (895 kB)\n",
      "\u001b[K     |████████████████████████████████| 895 kB 28.1 MB/s \n",
      "\u001b[?25hRequirement already satisfied: requests in /usr/local/lib/python3.7/dist-packages (from transformers==4.12.3) (2.23.0)\n",
      "Requirement already satisfied: typing-extensions>=3.7.4.3 in /usr/local/lib/python3.7/dist-packages (from huggingface-hub<1.0,>=0.1.0->transformers==4.12.3) (3.10.0.2)\n",
      "Requirement already satisfied: pyparsing<3,>=2.0.2 in /usr/local/lib/python3.7/dist-packages (from packaging>=20.0->transformers==4.12.3) (2.4.7)\n",
      "Requirement already satisfied: zipp>=0.5 in /usr/local/lib/python3.7/dist-packages (from importlib-metadata->transformers==4.12.3) (3.6.0)\n",
      "Requirement already satisfied: urllib3!=1.25.0,!=1.25.1,<1.26,>=1.21.1 in /usr/local/lib/python3.7/dist-packages (from requests->transformers==4.12.3) (1.24.3)\n",
      "Requirement already satisfied: certifi>=2017.4.17 in /usr/local/lib/python3.7/dist-packages (from requests->transformers==4.12.3) (2021.10.8)\n",
      "Requirement already satisfied: idna<3,>=2.5 in /usr/local/lib/python3.7/dist-packages (from requests->transformers==4.12.3) (2.10)\n",
      "Requirement already satisfied: chardet<4,>=3.0.2 in /usr/local/lib/python3.7/dist-packages (from requests->transformers==4.12.3) (3.0.4)\n",
      "Requirement already satisfied: click in /usr/local/lib/python3.7/dist-packages (from sacremoses->transformers==4.12.3) (7.1.2)\n",
      "Requirement already satisfied: six in /usr/local/lib/python3.7/dist-packages (from sacremoses->transformers==4.12.3) (1.15.0)\n",
      "Requirement already satisfied: joblib in /usr/local/lib/python3.7/dist-packages (from sacremoses->transformers==4.12.3) (1.1.0)\n",
      "Installing collected packages: pyyaml, tokenizers, sacremoses, transformers\n",
      "  Attempting uninstall: pyyaml\n",
      "    Found existing installation: PyYAML 3.13\n",
      "    Uninstalling PyYAML-3.13:\n",
      "      Successfully uninstalled PyYAML-3.13\n",
      "Successfully installed pyyaml-6.0 sacremoses-0.0.46 tokenizers-0.10.3 transformers-4.12.3\n"
     ]
    }
   ],
   "source": [
    "!pip install transformers==4.12.3"
   ]
  },
  {
   "cell_type": "code",
   "execution_count": null,
   "metadata": {
    "colab": {
     "base_uri": "https://localhost:8080/"
    },
    "executionInfo": {
     "elapsed": 15,
     "status": "ok",
     "timestamp": 1636118383808,
     "user": {
      "displayName": "Juan Alberto Arguello Garcia Pertusa",
      "photoUrl": "https://lh3.googleusercontent.com/a-/AOh14GiIG43Q5xcFWamqYoIrwBW7mAmnExYIasw4nkGWgrTRbB_VywrAxe8fxLAu3Di764iNlO6TRMFhR971WrGylu427Am5-M7LRf6PMviVZGTBLvJHPXqyQhRFm7B990WBFIqByI3RaXfECN2m9kRdcuKnxgsqZW6prR27d6NjC3F8HJcjRFyH5Wz1PqtvYsznqh6SYJFfOApiw0ZzXlXkr6SQ0QlF77GM--46imxI_9Js9p7dCTdCghRHK7zi0St_GTWmQzaMPiaFm3pWcpcndMbIW4VFLf2V_bsFqWcyJNQ6XYVF_pzcyjcQIEMhH7kLlGlEBs-1PWs5LLOjg-nZnIlPmXFJZzrwHVjPGErpajMIhxfN9MoF4Sj1agdE2AzR4O-cDHzKFhFfNaDsCNjFW6m4geKQ1FmIs0fRTrB8dzKSJxbEzrXi__8-mKnTQFAv3VOECbDRQLxtswjnfdPW6spwpeqTIGM0gsjlrDRhhQUscihCpkSv0NgD1dYWbB6pmhVE1sxHDXbXkryPbGfXaGM06F1Lk5pgiEaggXbacCgaqqQdurm0j858Um1Y9LUlOqvIm2a7T5mogvfxg-8pAfG9vHWl0sWD8E1FqdwiAXZVy0tohwZJiav0lm1AiktDciwqfBL9ajXWQcA5slkQM7NtJKdlGuJ_uUZy1PX2r9y9lyUFE-PCxJ_-qTpCkyGACZYvs6Glp8WduSGmg4nI-LWr9bmSMQn9kxw6bC2uG73BEmxtOokyhqNo_T3LJTY6S9i03A=s64",
      "userId": "11559378201574576734"
     },
     "user_tz": 240
    },
    "id": "XKRajbcbmJdx",
    "outputId": "a3d45efe-4e92-4d9d-935a-99c81b13cf90"
   },
   "outputs": [
    {
     "name": "stdout",
     "output_type": "stream",
     "text": [
      "/content/transformers\n"
     ]
    }
   ],
   "source": [
    "%cd transformers"
   ]
  },
  {
   "cell_type": "code",
   "execution_count": null,
   "metadata": {
    "colab": {
     "base_uri": "https://localhost:8080/"
    },
    "executionInfo": {
     "elapsed": 13661,
     "status": "ok",
     "timestamp": 1636118400575,
     "user": {
      "displayName": "Juan Alberto Arguello Garcia Pertusa",
      "photoUrl": "https://lh3.googleusercontent.com/a-/AOh14GiIG43Q5xcFWamqYoIrwBW7mAmnExYIasw4nkGWgrTRbB_VywrAxe8fxLAu3Di764iNlO6TRMFhR971WrGylu427Am5-M7LRf6PMviVZGTBLvJHPXqyQhRFm7B990WBFIqByI3RaXfECN2m9kRdcuKnxgsqZW6prR27d6NjC3F8HJcjRFyH5Wz1PqtvYsznqh6SYJFfOApiw0ZzXlXkr6SQ0QlF77GM--46imxI_9Js9p7dCTdCghRHK7zi0St_GTWmQzaMPiaFm3pWcpcndMbIW4VFLf2V_bsFqWcyJNQ6XYVF_pzcyjcQIEMhH7kLlGlEBs-1PWs5LLOjg-nZnIlPmXFJZzrwHVjPGErpajMIhxfN9MoF4Sj1agdE2AzR4O-cDHzKFhFfNaDsCNjFW6m4geKQ1FmIs0fRTrB8dzKSJxbEzrXi__8-mKnTQFAv3VOECbDRQLxtswjnfdPW6spwpeqTIGM0gsjlrDRhhQUscihCpkSv0NgD1dYWbB6pmhVE1sxHDXbXkryPbGfXaGM06F1Lk5pgiEaggXbacCgaqqQdurm0j858Um1Y9LUlOqvIm2a7T5mogvfxg-8pAfG9vHWl0sWD8E1FqdwiAXZVy0tohwZJiav0lm1AiktDciwqfBL9ajXWQcA5slkQM7NtJKdlGuJ_uUZy1PX2r9y9lyUFE-PCxJ_-qTpCkyGACZYvs6Glp8WduSGmg4nI-LWr9bmSMQn9kxw6bC2uG73BEmxtOokyhqNo_T3LJTY6S9i03A=s64",
      "userId": "11559378201574576734"
     },
     "user_tz": 240
    },
    "id": "6GcVZW5-mROo",
    "outputId": "f5cd59b9-779a-4719-b363-bd4726b51164"
   },
   "outputs": [
    {
     "name": "stdout",
     "output_type": "stream",
     "text": [
      "Obtaining file:///content/transformers\n",
      "  Installing build dependencies ... \u001b[?25l\u001b[?25hdone\n",
      "  Getting requirements to build wheel ... \u001b[?25l\u001b[?25hdone\n",
      "    Preparing wheel metadata ... \u001b[?25l\u001b[?25hdone\n",
      "Requirement already satisfied: filelock in /usr/local/lib/python3.7/dist-packages (from transformers==4.13.0.dev0) (3.3.0)\n",
      "Requirement already satisfied: packaging>=20.0 in /usr/local/lib/python3.7/dist-packages (from transformers==4.13.0.dev0) (21.0)\n",
      "Requirement already satisfied: numpy>=1.17 in /usr/local/lib/python3.7/dist-packages (from transformers==4.13.0.dev0) (1.19.5)\n",
      "Requirement already satisfied: tokenizers<0.11,>=0.10.1 in /usr/local/lib/python3.7/dist-packages (from transformers==4.13.0.dev0) (0.10.3)\n",
      "Requirement already satisfied: sacremoses in /usr/local/lib/python3.7/dist-packages (from transformers==4.13.0.dev0) (0.0.46)\n",
      "Requirement already satisfied: huggingface-hub<1.0,>=0.1.0 in /usr/local/lib/python3.7/dist-packages (from transformers==4.13.0.dev0) (0.1.0)\n",
      "Requirement already satisfied: requests in /usr/local/lib/python3.7/dist-packages (from transformers==4.13.0.dev0) (2.23.0)\n",
      "Requirement already satisfied: importlib-metadata in /usr/local/lib/python3.7/dist-packages (from transformers==4.13.0.dev0) (4.8.1)\n",
      "Requirement already satisfied: tqdm>=4.27 in /usr/local/lib/python3.7/dist-packages (from transformers==4.13.0.dev0) (4.62.3)\n",
      "Requirement already satisfied: pyyaml>=5.1 in /usr/local/lib/python3.7/dist-packages (from transformers==4.13.0.dev0) (6.0)\n",
      "Requirement already satisfied: regex!=2019.12.17 in /usr/local/lib/python3.7/dist-packages (from transformers==4.13.0.dev0) (2019.12.20)\n",
      "Requirement already satisfied: typing-extensions in /usr/local/lib/python3.7/dist-packages (from huggingface-hub<1.0,>=0.1.0->transformers==4.13.0.dev0) (3.7.4.3)\n",
      "Requirement already satisfied: pyparsing>=2.0.2 in /usr/local/lib/python3.7/dist-packages (from packaging>=20.0->transformers==4.13.0.dev0) (2.4.7)\n",
      "Requirement already satisfied: zipp>=0.5 in /usr/local/lib/python3.7/dist-packages (from importlib-metadata->transformers==4.13.0.dev0) (3.6.0)\n",
      "Requirement already satisfied: certifi>=2017.4.17 in /usr/local/lib/python3.7/dist-packages (from requests->transformers==4.13.0.dev0) (2021.5.30)\n",
      "Requirement already satisfied: urllib3!=1.25.0,!=1.25.1,<1.26,>=1.21.1 in /usr/local/lib/python3.7/dist-packages (from requests->transformers==4.13.0.dev0) (1.24.3)\n",
      "Requirement already satisfied: chardet<4,>=3.0.2 in /usr/local/lib/python3.7/dist-packages (from requests->transformers==4.13.0.dev0) (3.0.4)\n",
      "Requirement already satisfied: idna<3,>=2.5 in /usr/local/lib/python3.7/dist-packages (from requests->transformers==4.13.0.dev0) (2.10)\n",
      "Requirement already satisfied: click in /usr/local/lib/python3.7/dist-packages (from sacremoses->transformers==4.13.0.dev0) (7.1.2)\n",
      "Requirement already satisfied: six in /usr/local/lib/python3.7/dist-packages (from sacremoses->transformers==4.13.0.dev0) (1.15.0)\n",
      "Requirement already satisfied: joblib in /usr/local/lib/python3.7/dist-packages (from sacremoses->transformers==4.13.0.dev0) (1.0.1)\n",
      "Installing collected packages: transformers\n",
      "  Attempting uninstall: transformers\n",
      "    Found existing installation: transformers 4.13.0.dev0\n",
      "    Can't uninstall 'transformers'. No files were found to uninstall.\n",
      "  Running setup.py develop for transformers\n",
      "Successfully installed transformers-4.13.0.dev0\n"
     ]
    }
   ],
   "source": [
    "!pip install -e ."
   ]
  },
  {
   "cell_type": "code",
   "execution_count": null,
   "metadata": {
    "colab": {
     "base_uri": "https://localhost:8080/"
    },
    "executionInfo": {
     "elapsed": 5,
     "status": "ok",
     "timestamp": 1636118401677,
     "user": {
      "displayName": "Juan Alberto Arguello Garcia Pertusa",
      "photoUrl": "https://lh3.googleusercontent.com/a-/AOh14GiIG43Q5xcFWamqYoIrwBW7mAmnExYIasw4nkGWgrTRbB_VywrAxe8fxLAu3Di764iNlO6TRMFhR971WrGylu427Am5-M7LRf6PMviVZGTBLvJHPXqyQhRFm7B990WBFIqByI3RaXfECN2m9kRdcuKnxgsqZW6prR27d6NjC3F8HJcjRFyH5Wz1PqtvYsznqh6SYJFfOApiw0ZzXlXkr6SQ0QlF77GM--46imxI_9Js9p7dCTdCghRHK7zi0St_GTWmQzaMPiaFm3pWcpcndMbIW4VFLf2V_bsFqWcyJNQ6XYVF_pzcyjcQIEMhH7kLlGlEBs-1PWs5LLOjg-nZnIlPmXFJZzrwHVjPGErpajMIhxfN9MoF4Sj1agdE2AzR4O-cDHzKFhFfNaDsCNjFW6m4geKQ1FmIs0fRTrB8dzKSJxbEzrXi__8-mKnTQFAv3VOECbDRQLxtswjnfdPW6spwpeqTIGM0gsjlrDRhhQUscihCpkSv0NgD1dYWbB6pmhVE1sxHDXbXkryPbGfXaGM06F1Lk5pgiEaggXbacCgaqqQdurm0j858Um1Y9LUlOqvIm2a7T5mogvfxg-8pAfG9vHWl0sWD8E1FqdwiAXZVy0tohwZJiav0lm1AiktDciwqfBL9ajXWQcA5slkQM7NtJKdlGuJ_uUZy1PX2r9y9lyUFE-PCxJ_-qTpCkyGACZYvs6Glp8WduSGmg4nI-LWr9bmSMQn9kxw6bC2uG73BEmxtOokyhqNo_T3LJTY6S9i03A=s64",
      "userId": "11559378201574576734"
     },
     "user_tz": 240
    },
    "id": "khw4QQa_mu-K",
    "outputId": "0d6e415e-0c90-400d-f46e-94c4d8b56cef"
   },
   "outputs": [
    {
     "name": "stdout",
     "output_type": "stream",
     "text": [
      "/content\n"
     ]
    }
   ],
   "source": [
    "%cd .."
   ]
  },
  {
   "cell_type": "code",
   "execution_count": null,
   "metadata": {
    "colab": {
     "base_uri": "https://localhost:8080/"
    },
    "id": "kZNHyl9Zepa8",
    "outputId": "9b76c910-2312-4919-b7b0-47188ce72181"
   },
   "outputs": [
    {
     "name": "stdout",
     "output_type": "stream",
     "text": [
      "10/28/2021 19:07:23 - WARNING - __main__ - Process rank: -1, device: cuda:0, n_gpu: 1distributed training: False, 16-bits training: True\n",
      "10/28/2021 19:07:23 - INFO - __main__ - Training/evaluation parameters TrainingArguments(\n",
      "_n_gpu=1,\n",
      "adafactor=False,\n",
      "adam_beta1=0.9,\n",
      "adam_beta2=0.999,\n",
      "adam_epsilon=1e-08,\n",
      "dataloader_drop_last=False,\n",
      "dataloader_num_workers=2,\n",
      "dataloader_pin_memory=True,\n",
      "ddp_find_unused_parameters=None,\n",
      "debug=[],\n",
      "deepspeed=None,\n",
      "disable_tqdm=False,\n",
      "do_eval=True,\n",
      "do_predict=False,\n",
      "do_train=True,\n",
      "eval_accumulation_steps=10,\n",
      "eval_steps=10,\n",
      "evaluation_strategy=IntervalStrategy.STEPS,\n",
      "fp16=True,\n",
      "fp16_backend=auto,\n",
      "fp16_full_eval=False,\n",
      "fp16_opt_level=O1,\n",
      "gradient_accumulation_steps=128,\n",
      "gradient_checkpointing=False,\n",
      "greater_is_better=None,\n",
      "group_by_length=False,\n",
      "hub_model_id=None,\n",
      "hub_strategy=HubStrategy.EVERY_SAVE,\n",
      "hub_token=<HUB_TOKEN>,\n",
      "ignore_data_skip=False,\n",
      "label_names=None,\n",
      "label_smoothing_factor=0.0,\n",
      "learning_rate=0.0001,\n",
      "length_column_name=length,\n",
      "load_best_model_at_end=False,\n",
      "local_rank=-1,\n",
      "log_level=-1,\n",
      "log_level_replica=-1,\n",
      "log_on_each_node=True,\n",
      "logging_dir=repretrainbertweet/runs/Oct28_19-07-23_52967d70458f,\n",
      "logging_first_step=False,\n",
      "logging_nan_inf_filter=True,\n",
      "logging_steps=10,\n",
      "logging_strategy=IntervalStrategy.STEPS,\n",
      "lr_scheduler_type=SchedulerType.LINEAR,\n",
      "max_grad_norm=1.0,\n",
      "max_steps=-1,\n",
      "metric_for_best_model=None,\n",
      "mp_parameters=,\n",
      "no_cuda=False,\n",
      "num_train_epochs=2.0,\n",
      "output_dir=repretrainbertweet,\n",
      "overwrite_output_dir=True,\n",
      "past_index=-1,\n",
      "per_device_eval_batch_size=32,\n",
      "per_device_train_batch_size=16,\n",
      "prediction_loss_only=False,\n",
      "push_to_hub=False,\n",
      "push_to_hub_model_id=None,\n",
      "push_to_hub_organization=None,\n",
      "push_to_hub_token=<PUSH_TO_HUB_TOKEN>,\n",
      "remove_unused_columns=True,\n",
      "report_to=['tensorboard'],\n",
      "resume_from_checkpoint=None,\n",
      "run_name=repretrainbertweet,\n",
      "save_on_each_node=False,\n",
      "save_steps=10,\n",
      "save_strategy=IntervalStrategy.STEPS,\n",
      "save_total_limit=5,\n",
      "seed=20,\n",
      "sharded_ddp=[],\n",
      "skip_memory_metrics=True,\n",
      "tpu_metrics_debug=False,\n",
      "tpu_num_cores=None,\n",
      "use_legacy_prediction_loop=False,\n",
      "warmup_ratio=0.0,\n",
      "warmup_steps=0,\n",
      "weight_decay=0.0,\n",
      "xpu_backend=None,\n",
      ")\n",
      "10/28/2021 19:07:24 - WARNING - datasets.builder - Using custom data configuration default-28d4473ec6b3b299\n",
      "10/28/2021 19:07:24 - INFO - datasets.builder - Generating dataset text (/root/.cache/huggingface/datasets/text/default-28d4473ec6b3b299/0.0.0/e16f44aa1b321ece1f87b07977cc5d70be93d69b20486d6dacd62e12cf25c9a5)\n",
      "Downloading and preparing dataset text/default to /root/.cache/huggingface/datasets/text/default-28d4473ec6b3b299/0.0.0/e16f44aa1b321ece1f87b07977cc5d70be93d69b20486d6dacd62e12cf25c9a5...\n",
      "100% 2/2 [00:00<00:00, 7921.25it/s]\n",
      "10/28/2021 19:07:24 - INFO - datasets.utils.download_manager - Downloading took 0.0 min\n",
      "10/28/2021 19:07:24 - INFO - datasets.utils.download_manager - Checksum Computation took 0.0 min\n",
      "100% 2/2 [00:00<00:00, 18.49it/s]\n",
      "10/28/2021 19:07:24 - INFO - datasets.utils.info_utils - Unable to verify checksums.\n",
      "10/28/2021 19:07:24 - INFO - datasets.builder - Generating split train\n",
      "10/28/2021 19:07:24 - INFO - datasets.builder - Generating split validation\n",
      "10/28/2021 19:07:24 - INFO - datasets.utils.info_utils - Unable to verify splits sizes.\n",
      "Dataset text downloaded and prepared to /root/.cache/huggingface/datasets/text/default-28d4473ec6b3b299/0.0.0/e16f44aa1b321ece1f87b07977cc5d70be93d69b20486d6dacd62e12cf25c9a5. Subsequent calls will reuse this data.\n",
      "100% 2/2 [00:00<00:00, 842.91it/s]\n",
      "10/28/2021 19:07:24 - DEBUG - filelock - Attempting to acquire lock 139855828033360 on /root/.cache/huggingface/transformers/356366feedcea0917e30f7f235e1e062ffc2d28138445d5672a184be756c8686.a2b6026e688d1b19cebc0981d8f3a5b1668eabfda55b2c42049d5eac0bc8cb2d.lock\n",
      "10/28/2021 19:07:24 - DEBUG - filelock - Lock 139855828033360 acquired on /root/.cache/huggingface/transformers/356366feedcea0917e30f7f235e1e062ffc2d28138445d5672a184be756c8686.a2b6026e688d1b19cebc0981d8f3a5b1668eabfda55b2c42049d5eac0bc8cb2d.lock\n",
      "[INFO|file_utils.py:1753] 2021-10-28 19:07:24,775 >> https://huggingface.co/vinai/bertweet-base/resolve/main/config.json not found in cache or force_download set to True, downloading to /root/.cache/huggingface/transformers/tmp186reb3z\n",
      "Downloading: 100% 558/558 [00:00<00:00, 426kB/s]\n",
      "[INFO|file_utils.py:1757] 2021-10-28 19:07:25,121 >> storing https://huggingface.co/vinai/bertweet-base/resolve/main/config.json in cache at /root/.cache/huggingface/transformers/356366feedcea0917e30f7f235e1e062ffc2d28138445d5672a184be756c8686.a2b6026e688d1b19cebc0981d8f3a5b1668eabfda55b2c42049d5eac0bc8cb2d\n",
      "[INFO|file_utils.py:1765] 2021-10-28 19:07:25,122 >> creating metadata file for /root/.cache/huggingface/transformers/356366feedcea0917e30f7f235e1e062ffc2d28138445d5672a184be756c8686.a2b6026e688d1b19cebc0981d8f3a5b1668eabfda55b2c42049d5eac0bc8cb2d\n",
      "10/28/2021 19:07:25 - DEBUG - filelock - Attempting to release lock 139855828033360 on /root/.cache/huggingface/transformers/356366feedcea0917e30f7f235e1e062ffc2d28138445d5672a184be756c8686.a2b6026e688d1b19cebc0981d8f3a5b1668eabfda55b2c42049d5eac0bc8cb2d.lock\n",
      "10/28/2021 19:07:25 - DEBUG - filelock - Lock 139855828033360 released on /root/.cache/huggingface/transformers/356366feedcea0917e30f7f235e1e062ffc2d28138445d5672a184be756c8686.a2b6026e688d1b19cebc0981d8f3a5b1668eabfda55b2c42049d5eac0bc8cb2d.lock\n",
      "[INFO|configuration_utils.py:588] 2021-10-28 19:07:25,122 >> loading configuration file https://huggingface.co/vinai/bertweet-base/resolve/main/config.json from cache at /root/.cache/huggingface/transformers/356366feedcea0917e30f7f235e1e062ffc2d28138445d5672a184be756c8686.a2b6026e688d1b19cebc0981d8f3a5b1668eabfda55b2c42049d5eac0bc8cb2d\n",
      "[INFO|configuration_utils.py:625] 2021-10-28 19:07:25,123 >> Model config RobertaConfig {\n",
      "  \"architectures\": [\n",
      "    \"RobertaForMaskedLM\"\n",
      "  ],\n",
      "  \"attention_probs_dropout_prob\": 0.1,\n",
      "  \"bos_token_id\": 0,\n",
      "  \"classifier_dropout\": null,\n",
      "  \"eos_token_id\": 2,\n",
      "  \"gradient_checkpointing\": false,\n",
      "  \"hidden_act\": \"gelu\",\n",
      "  \"hidden_dropout_prob\": 0.1,\n",
      "  \"hidden_size\": 768,\n",
      "  \"initializer_range\": 0.02,\n",
      "  \"intermediate_size\": 3072,\n",
      "  \"layer_norm_eps\": 1e-05,\n",
      "  \"max_position_embeddings\": 130,\n",
      "  \"model_type\": \"roberta\",\n",
      "  \"num_attention_heads\": 12,\n",
      "  \"num_hidden_layers\": 12,\n",
      "  \"pad_token_id\": 1,\n",
      "  \"position_embedding_type\": \"absolute\",\n",
      "  \"tokenizer_class\": \"BertweetTokenizer\",\n",
      "  \"transformers_version\": \"4.13.0.dev0\",\n",
      "  \"type_vocab_size\": 1,\n",
      "  \"use_cache\": true,\n",
      "  \"vocab_size\": 64001\n",
      "}\n",
      "\n",
      "[INFO|tokenization_auto.py:341] 2021-10-28 19:07:25,468 >> Could not locate the tokenizer configuration file, will try to use the model config instead.\n",
      "[INFO|configuration_utils.py:588] 2021-10-28 19:07:25,811 >> loading configuration file https://huggingface.co/vinai/bertweet-base/resolve/main/config.json from cache at /root/.cache/huggingface/transformers/356366feedcea0917e30f7f235e1e062ffc2d28138445d5672a184be756c8686.a2b6026e688d1b19cebc0981d8f3a5b1668eabfda55b2c42049d5eac0bc8cb2d\n",
      "[INFO|configuration_utils.py:625] 2021-10-28 19:07:25,813 >> Model config RobertaConfig {\n",
      "  \"architectures\": [\n",
      "    \"RobertaForMaskedLM\"\n",
      "  ],\n",
      "  \"attention_probs_dropout_prob\": 0.1,\n",
      "  \"bos_token_id\": 0,\n",
      "  \"classifier_dropout\": null,\n",
      "  \"eos_token_id\": 2,\n",
      "  \"gradient_checkpointing\": false,\n",
      "  \"hidden_act\": \"gelu\",\n",
      "  \"hidden_dropout_prob\": 0.1,\n",
      "  \"hidden_size\": 768,\n",
      "  \"initializer_range\": 0.02,\n",
      "  \"intermediate_size\": 3072,\n",
      "  \"layer_norm_eps\": 1e-05,\n",
      "  \"max_position_embeddings\": 130,\n",
      "  \"model_type\": \"roberta\",\n",
      "  \"num_attention_heads\": 12,\n",
      "  \"num_hidden_layers\": 12,\n",
      "  \"pad_token_id\": 1,\n",
      "  \"position_embedding_type\": \"absolute\",\n",
      "  \"tokenizer_class\": \"BertweetTokenizer\",\n",
      "  \"transformers_version\": \"4.13.0.dev0\",\n",
      "  \"type_vocab_size\": 1,\n",
      "  \"use_cache\": true,\n",
      "  \"vocab_size\": 64001\n",
      "}\n",
      "\n",
      "10/28/2021 19:07:26 - DEBUG - filelock - Attempting to acquire lock 139855618008592 on /root/.cache/huggingface/transformers/9a877d0d57efbfeae96fec396a35595dc8c4685fe2b7b2049c6c094e24a0e8bf.f8a4dfe5c3c45a26f9df849d732decb191dc0c05ab270799695430332d143982.lock\n",
      "10/28/2021 19:07:26 - DEBUG - filelock - Lock 139855618008592 acquired on /root/.cache/huggingface/transformers/9a877d0d57efbfeae96fec396a35595dc8c4685fe2b7b2049c6c094e24a0e8bf.f8a4dfe5c3c45a26f9df849d732decb191dc0c05ab270799695430332d143982.lock\n",
      "[INFO|file_utils.py:1753] 2021-10-28 19:07:26,519 >> https://huggingface.co/vinai/bertweet-base/resolve/main/vocab.txt not found in cache or force_download set to True, downloading to /root/.cache/huggingface/transformers/tmplhbev8mn\n",
      "Downloading: 100% 824k/824k [00:00<00:00, 1.74MB/s]\n",
      "[INFO|file_utils.py:1757] 2021-10-28 19:07:27,353 >> storing https://huggingface.co/vinai/bertweet-base/resolve/main/vocab.txt in cache at /root/.cache/huggingface/transformers/9a877d0d57efbfeae96fec396a35595dc8c4685fe2b7b2049c6c094e24a0e8bf.f8a4dfe5c3c45a26f9df849d732decb191dc0c05ab270799695430332d143982\n",
      "[INFO|file_utils.py:1765] 2021-10-28 19:07:27,353 >> creating metadata file for /root/.cache/huggingface/transformers/9a877d0d57efbfeae96fec396a35595dc8c4685fe2b7b2049c6c094e24a0e8bf.f8a4dfe5c3c45a26f9df849d732decb191dc0c05ab270799695430332d143982\n",
      "10/28/2021 19:07:27 - DEBUG - filelock - Attempting to release lock 139855618008592 on /root/.cache/huggingface/transformers/9a877d0d57efbfeae96fec396a35595dc8c4685fe2b7b2049c6c094e24a0e8bf.f8a4dfe5c3c45a26f9df849d732decb191dc0c05ab270799695430332d143982.lock\n",
      "10/28/2021 19:07:27 - DEBUG - filelock - Lock 139855618008592 released on /root/.cache/huggingface/transformers/9a877d0d57efbfeae96fec396a35595dc8c4685fe2b7b2049c6c094e24a0e8bf.f8a4dfe5c3c45a26f9df849d732decb191dc0c05ab270799695430332d143982.lock\n",
      "10/28/2021 19:07:27 - DEBUG - filelock - Attempting to acquire lock 139855678622928 on /root/.cache/huggingface/transformers/1c2d05a06ac61a063ad62a7590731a28cc62f58e2802c76b5f993165f25894a9.75877d86011e5d5d46614d3a21757b705e9d20ed45a019805d25159b4837b0a4.lock\n",
      "10/28/2021 19:07:27 - DEBUG - filelock - Lock 139855678622928 acquired on /root/.cache/huggingface/transformers/1c2d05a06ac61a063ad62a7590731a28cc62f58e2802c76b5f993165f25894a9.75877d86011e5d5d46614d3a21757b705e9d20ed45a019805d25159b4837b0a4.lock\n",
      "[INFO|file_utils.py:1753] 2021-10-28 19:07:27,698 >> https://huggingface.co/vinai/bertweet-base/resolve/main/bpe.codes not found in cache or force_download set to True, downloading to /root/.cache/huggingface/transformers/tmpnawz84vs\n",
      "Downloading: 100% 1.03M/1.03M [00:00<00:00, 2.59MB/s]\n",
      "[INFO|file_utils.py:1757] 2021-10-28 19:07:28,552 >> storing https://huggingface.co/vinai/bertweet-base/resolve/main/bpe.codes in cache at /root/.cache/huggingface/transformers/1c2d05a06ac61a063ad62a7590731a28cc62f58e2802c76b5f993165f25894a9.75877d86011e5d5d46614d3a21757b705e9d20ed45a019805d25159b4837b0a4\n",
      "[INFO|file_utils.py:1765] 2021-10-28 19:07:28,552 >> creating metadata file for /root/.cache/huggingface/transformers/1c2d05a06ac61a063ad62a7590731a28cc62f58e2802c76b5f993165f25894a9.75877d86011e5d5d46614d3a21757b705e9d20ed45a019805d25159b4837b0a4\n",
      "10/28/2021 19:07:28 - DEBUG - filelock - Attempting to release lock 139855678622928 on /root/.cache/huggingface/transformers/1c2d05a06ac61a063ad62a7590731a28cc62f58e2802c76b5f993165f25894a9.75877d86011e5d5d46614d3a21757b705e9d20ed45a019805d25159b4837b0a4.lock\n",
      "10/28/2021 19:07:28 - DEBUG - filelock - Lock 139855678622928 released on /root/.cache/huggingface/transformers/1c2d05a06ac61a063ad62a7590731a28cc62f58e2802c76b5f993165f25894a9.75877d86011e5d5d46614d3a21757b705e9d20ed45a019805d25159b4837b0a4.lock\n",
      "[INFO|tokenization_utils_base.py:1742] 2021-10-28 19:07:29,931 >> loading file https://huggingface.co/vinai/bertweet-base/resolve/main/vocab.txt from cache at /root/.cache/huggingface/transformers/9a877d0d57efbfeae96fec396a35595dc8c4685fe2b7b2049c6c094e24a0e8bf.f8a4dfe5c3c45a26f9df849d732decb191dc0c05ab270799695430332d143982\n",
      "[INFO|tokenization_utils_base.py:1742] 2021-10-28 19:07:29,932 >> loading file https://huggingface.co/vinai/bertweet-base/resolve/main/bpe.codes from cache at /root/.cache/huggingface/transformers/1c2d05a06ac61a063ad62a7590731a28cc62f58e2802c76b5f993165f25894a9.75877d86011e5d5d46614d3a21757b705e9d20ed45a019805d25159b4837b0a4\n",
      "[INFO|tokenization_utils_base.py:1742] 2021-10-28 19:07:29,932 >> loading file https://huggingface.co/vinai/bertweet-base/resolve/main/added_tokens.json from cache at None\n",
      "[INFO|tokenization_utils_base.py:1742] 2021-10-28 19:07:29,932 >> loading file https://huggingface.co/vinai/bertweet-base/resolve/main/special_tokens_map.json from cache at None\n",
      "[INFO|tokenization_utils_base.py:1742] 2021-10-28 19:07:29,932 >> loading file https://huggingface.co/vinai/bertweet-base/resolve/main/tokenizer_config.json from cache at None\n",
      "[INFO|tokenization_utils_base.py:1742] 2021-10-28 19:07:29,932 >> loading file https://huggingface.co/vinai/bertweet-base/resolve/main/tokenizer.json from cache at None\n",
      "[INFO|configuration_utils.py:588] 2021-10-28 19:07:30,275 >> loading configuration file https://huggingface.co/vinai/bertweet-base/resolve/main/config.json from cache at /root/.cache/huggingface/transformers/356366feedcea0917e30f7f235e1e062ffc2d28138445d5672a184be756c8686.a2b6026e688d1b19cebc0981d8f3a5b1668eabfda55b2c42049d5eac0bc8cb2d\n",
      "[INFO|configuration_utils.py:625] 2021-10-28 19:07:30,276 >> Model config RobertaConfig {\n",
      "  \"architectures\": [\n",
      "    \"RobertaForMaskedLM\"\n",
      "  ],\n",
      "  \"attention_probs_dropout_prob\": 0.1,\n",
      "  \"bos_token_id\": 0,\n",
      "  \"classifier_dropout\": null,\n",
      "  \"eos_token_id\": 2,\n",
      "  \"gradient_checkpointing\": false,\n",
      "  \"hidden_act\": \"gelu\",\n",
      "  \"hidden_dropout_prob\": 0.1,\n",
      "  \"hidden_size\": 768,\n",
      "  \"initializer_range\": 0.02,\n",
      "  \"intermediate_size\": 3072,\n",
      "  \"layer_norm_eps\": 1e-05,\n",
      "  \"max_position_embeddings\": 130,\n",
      "  \"model_type\": \"roberta\",\n",
      "  \"num_attention_heads\": 12,\n",
      "  \"num_hidden_layers\": 12,\n",
      "  \"pad_token_id\": 1,\n",
      "  \"position_embedding_type\": \"absolute\",\n",
      "  \"tokenizer_class\": \"BertweetTokenizer\",\n",
      "  \"transformers_version\": \"4.13.0.dev0\",\n",
      "  \"type_vocab_size\": 1,\n",
      "  \"use_cache\": true,\n",
      "  \"vocab_size\": 64001\n",
      "}\n",
      "\n",
      "[WARNING|tokenization_bertweet.py:149] 2021-10-28 19:07:30,276 >> emoji is not installed, thus not converting emoticons or emojis into text. Please install emoji: pip3 install emoji\n",
      "[INFO|tokenization_utils.py:414] 2021-10-28 19:07:30,401 >> Adding <mask> to the vocabulary\n",
      "[WARNING|tokenization_utils_base.py:1934] 2021-10-28 19:07:30,401 >> Special tokens have been added in the vocabulary, make sure the associated word embeddings are fine-tuned or trained.\n",
      "10/28/2021 19:07:30 - DEBUG - filelock - Attempting to acquire lock 139855618010128 on /root/.cache/huggingface/transformers/4e07e2989cb95a6f63c704a7170b48e6e663cc203c05db424e47f4d75562cf0e.7b2adda243ecb4b085eb2d22ef1b2cd12a882a43bbb13a34c11e10f960b9bfc3.lock\n",
      "10/28/2021 19:07:30 - DEBUG - filelock - Lock 139855618010128 acquired on /root/.cache/huggingface/transformers/4e07e2989cb95a6f63c704a7170b48e6e663cc203c05db424e47f4d75562cf0e.7b2adda243ecb4b085eb2d22ef1b2cd12a882a43bbb13a34c11e10f960b9bfc3.lock\n",
      "[INFO|file_utils.py:1753] 2021-10-28 19:07:30,771 >> https://huggingface.co/vinai/bertweet-base/resolve/main/pytorch_model.bin not found in cache or force_download set to True, downloading to /root/.cache/huggingface/transformers/tmpmnwfmxsb\n",
      "Downloading: 100% 517M/517M [00:13<00:00, 39.2MB/s]\n",
      "[INFO|file_utils.py:1757] 2021-10-28 19:07:44,697 >> storing https://huggingface.co/vinai/bertweet-base/resolve/main/pytorch_model.bin in cache at /root/.cache/huggingface/transformers/4e07e2989cb95a6f63c704a7170b48e6e663cc203c05db424e47f4d75562cf0e.7b2adda243ecb4b085eb2d22ef1b2cd12a882a43bbb13a34c11e10f960b9bfc3\n",
      "[INFO|file_utils.py:1765] 2021-10-28 19:07:44,697 >> creating metadata file for /root/.cache/huggingface/transformers/4e07e2989cb95a6f63c704a7170b48e6e663cc203c05db424e47f4d75562cf0e.7b2adda243ecb4b085eb2d22ef1b2cd12a882a43bbb13a34c11e10f960b9bfc3\n",
      "10/28/2021 19:07:44 - DEBUG - filelock - Attempting to release lock 139855618010128 on /root/.cache/huggingface/transformers/4e07e2989cb95a6f63c704a7170b48e6e663cc203c05db424e47f4d75562cf0e.7b2adda243ecb4b085eb2d22ef1b2cd12a882a43bbb13a34c11e10f960b9bfc3.lock\n",
      "10/28/2021 19:07:44 - DEBUG - filelock - Lock 139855618010128 released on /root/.cache/huggingface/transformers/4e07e2989cb95a6f63c704a7170b48e6e663cc203c05db424e47f4d75562cf0e.7b2adda243ecb4b085eb2d22ef1b2cd12a882a43bbb13a34c11e10f960b9bfc3.lock\n",
      "[INFO|modeling_utils.py:1340] 2021-10-28 19:07:44,697 >> loading weights file https://huggingface.co/vinai/bertweet-base/resolve/main/pytorch_model.bin from cache at /root/.cache/huggingface/transformers/4e07e2989cb95a6f63c704a7170b48e6e663cc203c05db424e47f4d75562cf0e.7b2adda243ecb4b085eb2d22ef1b2cd12a882a43bbb13a34c11e10f960b9bfc3\n",
      "[INFO|modeling_utils.py:1607] 2021-10-28 19:07:46,973 >> All model checkpoint weights were used when initializing RobertaForMaskedLM.\n",
      "\n",
      "[INFO|modeling_utils.py:1616] 2021-10-28 19:07:46,973 >> All the weights of RobertaForMaskedLM were initialized from the model checkpoint at vinai/bertweet-base.\n",
      "If your task is similar to the task the model of the checkpoint was trained on, you can already use RobertaForMaskedLM for predictions without further training.\n",
      "Running tokenizer on dataset line_by_line:   0% 0/69 [00:00<?, ?ba/s]10/28/2021 19:07:48 - INFO - datasets.arrow_dataset - Caching processed dataset at /root/.cache/huggingface/datasets/text/default-28d4473ec6b3b299/0.0.0/e16f44aa1b321ece1f87b07977cc5d70be93d69b20486d6dacd62e12cf25c9a5/cache-be21b91123114f17.arrow\n",
      "Running tokenizer on dataset line_by_line: 100% 69/69 [00:23<00:00,  2.89ba/s]\n",
      "Running tokenizer on dataset line_by_line:   0% 0/8 [00:00<?, ?ba/s]10/28/2021 19:08:15 - INFO - datasets.arrow_dataset - Caching processed dataset at /root/.cache/huggingface/datasets/text/default-28d4473ec6b3b299/0.0.0/e16f44aa1b321ece1f87b07977cc5d70be93d69b20486d6dacd62e12cf25c9a5/cache-3a87f6285962581c.arrow\n",
      "Running tokenizer on dataset line_by_line: 100% 8/8 [00:02<00:00,  3.20ba/s]\n",
      "[INFO|trainer.py:434] 2021-10-28 19:08:36,901 >> Using amp fp16 backend\n",
      "[INFO|trainer.py:541] 2021-10-28 19:08:36,902 >> The following columns in the training set  don't have a corresponding argument in `RobertaForMaskedLM.forward` and have been ignored: special_tokens_mask.\n",
      "[INFO|trainer.py:1196] 2021-10-28 19:08:36,916 >> ***** Running training *****\n",
      "[INFO|trainer.py:1197] 2021-10-28 19:08:36,917 >>   Num examples = 38417\n",
      "[INFO|trainer.py:1198] 2021-10-28 19:08:36,917 >>   Num Epochs = 2\n",
      "[INFO|trainer.py:1199] 2021-10-28 19:08:36,917 >>   Instantaneous batch size per device = 16\n",
      "[INFO|trainer.py:1200] 2021-10-28 19:08:36,917 >>   Total train batch size (w. parallel, distributed & accumulation) = 2048\n",
      "[INFO|trainer.py:1201] 2021-10-28 19:08:36,917 >>   Gradient Accumulation steps = 128\n",
      "[INFO|trainer.py:1202] 2021-10-28 19:08:36,917 >>   Total optimization steps = 36\n",
      "{'loss': 2.8581, 'learning_rate': 7.222222222222222e-05, 'epoch': 0.53}\n",
      " 28% 10/36 [41:53<1:48:52, 251.24s/it][INFO|trainer.py:541] 2021-10-28 19:50:30,290 >> The following columns in the evaluation set  don't have a corresponding argument in `RobertaForMaskedLM.forward` and have been ignored: special_tokens_mask.\n",
      "[INFO|trainer.py:2243] 2021-10-28 19:50:30,294 >> ***** Running Evaluation *****\n",
      "[INFO|trainer.py:2245] 2021-10-28 19:50:30,294 >>   Num examples = 4322\n",
      "[INFO|trainer.py:2248] 2021-10-28 19:50:30,294 >>   Batch size = 32\n",
      "[W pthreadpool-cpp.cc:90] Warning: Leaking Caffe2 thread-pool after fork. (function pthreadpool)\n",
      "[W pthreadpool-cpp.cc:90] Warning: Leaking Caffe2 thread-pool after fork. (function pthreadpool)\n",
      "\n",
      "  0% 0/136 [00:00<?, ?it/s]\u001b[A\n",
      "  1% 2/136 [00:01<01:31,  1.47it/s]\u001b[A\n",
      "  2% 3/136 [00:02<02:09,  1.03it/s]\u001b[A\n",
      "  3% 4/136 [00:04<02:27,  1.12s/it]\u001b[A\n",
      "  4% 5/136 [00:05<02:37,  1.20s/it]\u001b[A\n",
      "  4% 6/136 [00:06<02:44,  1.26s/it]\u001b[A\n",
      "  5% 7/136 [00:08<02:47,  1.30s/it]\u001b[A\n",
      "  6% 8/136 [00:09<02:49,  1.33s/it]\u001b[A\n",
      "  7% 9/136 [00:10<02:49,  1.34s/it]\u001b[A\n",
      "  7% 10/136 [00:12<02:49,  1.34s/it]\u001b[A\n",
      "  8% 11/136 [00:13<02:49,  1.35s/it]\u001b[A\n",
      "  9% 12/136 [00:15<02:48,  1.36s/it]\u001b[A\n",
      " 10% 13/136 [00:16<02:47,  1.36s/it]\u001b[A\n",
      " 10% 14/136 [00:17<02:46,  1.36s/it]\u001b[A\n",
      " 11% 15/136 [00:19<02:44,  1.36s/it]\u001b[A\n",
      " 12% 16/136 [00:20<02:44,  1.37s/it]\u001b[A\n",
      " 12% 17/136 [00:21<02:42,  1.37s/it]\u001b[A\n",
      " 13% 18/136 [00:23<02:41,  1.37s/it]\u001b[A\n",
      " 14% 19/136 [00:24<02:40,  1.37s/it]\u001b[A\n",
      " 15% 20/136 [00:26<02:39,  1.37s/it]\u001b[A\n",
      " 15% 21/136 [00:27<02:37,  1.37s/it]\u001b[A\n",
      " 16% 22/136 [00:28<02:36,  1.37s/it]\u001b[A\n",
      " 17% 23/136 [00:30<02:34,  1.36s/it]\u001b[A\n",
      " 18% 24/136 [00:31<02:32,  1.36s/it]\u001b[A\n",
      " 18% 25/136 [00:32<02:31,  1.37s/it]\u001b[A\n",
      " 19% 26/136 [00:34<02:30,  1.37s/it]\u001b[A\n",
      " 20% 27/136 [00:35<02:28,  1.36s/it]\u001b[A\n",
      " 21% 28/136 [00:36<02:27,  1.37s/it]\u001b[A\n",
      " 21% 29/136 [00:38<02:26,  1.37s/it]\u001b[A\n",
      " 22% 30/136 [00:39<02:24,  1.37s/it]\u001b[A\n",
      " 23% 31/136 [00:41<02:23,  1.37s/it]\u001b[A\n",
      " 24% 32/136 [00:42<02:22,  1.37s/it]\u001b[A\n",
      " 24% 33/136 [00:43<02:20,  1.37s/it]\u001b[A\n",
      " 25% 34/136 [00:45<02:18,  1.36s/it]\u001b[A\n",
      " 26% 35/136 [00:46<02:17,  1.37s/it]\u001b[A\n",
      " 26% 36/136 [00:47<02:16,  1.36s/it]\u001b[A\n",
      " 27% 37/136 [00:49<02:15,  1.36s/it]\u001b[A\n",
      " 28% 38/136 [00:50<02:14,  1.37s/it]\u001b[A\n",
      " 29% 39/136 [00:51<02:12,  1.37s/it]\u001b[A\n",
      " 29% 40/136 [00:53<02:11,  1.37s/it]\u001b[A\n",
      " 30% 41/136 [00:54<02:10,  1.37s/it]\u001b[A\n",
      " 31% 42/136 [00:56<02:08,  1.37s/it]\u001b[A\n",
      " 32% 43/136 [00:57<02:07,  1.37s/it]\u001b[A\n",
      " 32% 44/136 [00:58<02:06,  1.37s/it]\u001b[A\n",
      " 33% 45/136 [01:00<02:04,  1.37s/it]\u001b[A\n",
      " 34% 46/136 [01:01<02:03,  1.37s/it]\u001b[A\n",
      " 35% 47/136 [01:02<02:01,  1.37s/it]\u001b[A\n",
      " 35% 48/136 [01:04<02:00,  1.37s/it]\u001b[A\n",
      " 36% 49/136 [01:05<01:59,  1.37s/it]\u001b[A\n",
      " 37% 50/136 [01:07<01:57,  1.37s/it]\u001b[A\n",
      " 38% 51/136 [01:08<01:56,  1.36s/it]\u001b[A\n",
      " 38% 52/136 [01:09<01:54,  1.37s/it]\u001b[A\n",
      " 39% 53/136 [01:11<01:52,  1.36s/it]\u001b[A\n",
      " 40% 54/136 [01:12<01:52,  1.37s/it]\u001b[A\n",
      " 40% 55/136 [01:13<01:50,  1.37s/it]\u001b[A\n",
      " 41% 56/136 [01:15<01:49,  1.37s/it]\u001b[A\n",
      " 42% 57/136 [01:16<01:48,  1.37s/it]\u001b[A\n",
      " 43% 58/136 [01:18<01:46,  1.37s/it]\u001b[A\n",
      " 43% 59/136 [01:19<01:45,  1.37s/it]\u001b[A\n",
      " 44% 60/136 [01:20<01:43,  1.37s/it]\u001b[A\n",
      " 45% 61/136 [01:22<01:42,  1.37s/it]\u001b[A\n",
      " 46% 62/136 [01:23<01:41,  1.37s/it]\u001b[A\n",
      " 46% 63/136 [01:24<01:39,  1.37s/it]\u001b[A\n",
      " 47% 64/136 [01:26<01:38,  1.36s/it]\u001b[A\n",
      " 48% 65/136 [01:27<01:37,  1.37s/it]\u001b[A\n",
      " 49% 66/136 [01:28<01:35,  1.37s/it]\u001b[A\n",
      " 49% 67/136 [01:30<01:34,  1.37s/it]\u001b[A\n",
      " 50% 68/136 [01:31<01:33,  1.37s/it]\u001b[A\n",
      " 51% 69/136 [01:33<01:32,  1.38s/it]\u001b[A\n",
      " 51% 70/136 [01:34<01:30,  1.37s/it]\u001b[A\n",
      " 52% 71/136 [01:35<01:29,  1.38s/it]\u001b[A\n",
      " 53% 72/136 [01:37<01:27,  1.37s/it]\u001b[A\n",
      " 54% 73/136 [01:38<01:26,  1.37s/it]\u001b[A\n",
      " 54% 74/136 [01:39<01:25,  1.37s/it]\u001b[A\n",
      " 55% 75/136 [01:41<01:23,  1.37s/it]\u001b[A\n",
      " 56% 76/136 [01:42<01:22,  1.37s/it]\u001b[A\n",
      " 57% 77/136 [01:44<01:20,  1.37s/it]\u001b[A\n",
      " 57% 78/136 [01:45<01:19,  1.37s/it]\u001b[A\n",
      " 58% 79/136 [01:46<01:18,  1.38s/it]\u001b[A\n",
      " 59% 80/136 [01:48<01:16,  1.37s/it]\u001b[A\n",
      " 60% 81/136 [01:49<01:15,  1.37s/it]\u001b[A\n",
      " 60% 82/136 [01:50<01:14,  1.37s/it]\u001b[A\n",
      " 61% 83/136 [01:52<01:12,  1.37s/it]\u001b[A\n",
      " 62% 84/136 [01:53<01:11,  1.37s/it]\u001b[A\n",
      " 62% 85/136 [01:54<01:09,  1.36s/it]\u001b[A\n",
      " 63% 86/136 [01:56<01:08,  1.36s/it]\u001b[A\n",
      " 64% 87/136 [01:57<01:07,  1.37s/it]\u001b[A\n",
      " 65% 88/136 [01:59<01:05,  1.37s/it]\u001b[A\n",
      " 65% 89/136 [02:00<01:04,  1.37s/it]\u001b[A\n",
      " 66% 90/136 [02:01<01:02,  1.37s/it]\u001b[A\n",
      " 67% 91/136 [02:03<01:01,  1.37s/it]\u001b[A\n",
      " 68% 92/136 [02:04<01:00,  1.37s/it]\u001b[A\n",
      " 68% 93/136 [02:05<00:58,  1.37s/it]\u001b[A\n",
      " 69% 94/136 [02:07<00:57,  1.37s/it]\u001b[A\n",
      " 70% 95/136 [02:08<00:56,  1.37s/it]\u001b[A\n",
      " 71% 96/136 [02:10<00:54,  1.37s/it]\u001b[A\n",
      " 71% 97/136 [02:11<00:53,  1.37s/it]\u001b[A\n",
      " 72% 98/136 [02:12<00:52,  1.37s/it]\u001b[A\n",
      " 73% 99/136 [02:14<00:50,  1.37s/it]\u001b[A\n",
      " 74% 100/136 [02:15<00:49,  1.37s/it]\u001b[A\n",
      " 74% 101/136 [02:16<00:48,  1.37s/it]\u001b[A\n",
      " 75% 102/136 [02:18<00:46,  1.37s/it]\u001b[A\n",
      " 76% 103/136 [02:19<00:45,  1.37s/it]\u001b[A\n",
      " 76% 104/136 [02:20<00:43,  1.37s/it]\u001b[A\n",
      " 77% 105/136 [02:22<00:42,  1.37s/it]\u001b[A\n",
      " 78% 106/136 [02:23<00:41,  1.37s/it]\u001b[A\n",
      " 79% 107/136 [02:25<00:39,  1.37s/it]\u001b[A\n",
      " 79% 108/136 [02:26<00:38,  1.37s/it]\u001b[A\n",
      " 80% 109/136 [02:27<00:36,  1.37s/it]\u001b[A\n",
      " 81% 110/136 [02:29<00:35,  1.36s/it]\u001b[A\n",
      " 82% 111/136 [02:30<00:34,  1.37s/it]\u001b[A\n",
      " 82% 112/136 [02:31<00:32,  1.37s/it]\u001b[A\n",
      " 83% 113/136 [02:33<00:31,  1.37s/it]\u001b[A\n",
      " 84% 114/136 [02:34<00:30,  1.37s/it]\u001b[A\n",
      " 85% 115/136 [02:36<00:28,  1.37s/it]\u001b[A\n",
      " 85% 116/136 [02:37<00:27,  1.38s/it]\u001b[A\n",
      " 86% 117/136 [02:38<00:26,  1.37s/it]\u001b[A\n",
      " 87% 118/136 [02:40<00:24,  1.38s/it]\u001b[A\n",
      " 88% 119/136 [02:41<00:23,  1.37s/it]\u001b[A\n",
      " 88% 120/136 [02:42<00:21,  1.37s/it]\u001b[A\n",
      " 89% 121/136 [02:44<00:20,  1.36s/it]\u001b[A\n",
      " 90% 122/136 [02:45<00:19,  1.37s/it]\u001b[A\n",
      " 90% 123/136 [02:47<00:17,  1.37s/it]\u001b[A\n",
      " 91% 124/136 [02:48<00:16,  1.37s/it]\u001b[A\n",
      " 92% 125/136 [02:49<00:15,  1.37s/it]\u001b[A\n",
      " 93% 126/136 [02:51<00:13,  1.37s/it]\u001b[A\n",
      " 93% 127/136 [02:52<00:12,  1.38s/it]\u001b[A\n",
      " 94% 128/136 [02:53<00:10,  1.37s/it]\u001b[A\n",
      " 95% 129/136 [02:55<00:09,  1.36s/it]\u001b[A\n",
      " 96% 130/136 [02:56<00:08,  1.37s/it]\u001b[A\n",
      " 96% 131/136 [02:58<00:06,  1.37s/it]\u001b[A\n",
      " 97% 132/136 [02:59<00:05,  1.37s/it]\u001b[A\n",
      " 98% 133/136 [03:00<00:04,  1.38s/it]\u001b[A\n",
      " 99% 134/136 [03:02<00:02,  1.37s/it]\u001b[A\n",
      " 99% 135/136 [03:03<00:01,  1.37s/it]\u001b[A\n",
      "100% 136/136 [03:03<00:00,  1.11s/it]\u001b[A\n",
      "{'eval_loss': 1.9911861419677734, 'eval_runtime': 185.0094, 'eval_samples_per_second': 23.361, 'eval_steps_per_second': 0.735, 'epoch': 0.53}\n",
      "\n",
      " 28% 10/36 [44:58<1:48:52, 251.24s/it]\n",
      "                                     \u001b[A[INFO|trainer.py:1995] 2021-10-28 19:53:35,305 >> Saving model checkpoint to repretrainbertweet/checkpoint-10\n",
      "[INFO|configuration_utils.py:417] 2021-10-28 19:53:35,307 >> Configuration saved in repretrainbertweet/checkpoint-10/config.json\n",
      "[INFO|modeling_utils.py:1058] 2021-10-28 19:53:37,240 >> Model weights saved in repretrainbertweet/checkpoint-10/pytorch_model.bin\n",
      "[INFO|tokenization_utils_base.py:2034] 2021-10-28 19:53:37,241 >> tokenizer config file saved in repretrainbertweet/checkpoint-10/tokenizer_config.json\n",
      "[INFO|tokenization_utils_base.py:2040] 2021-10-28 19:53:37,241 >> Special tokens file saved in repretrainbertweet/checkpoint-10/special_tokens_map.json\n",
      "[INFO|tokenization_utils_base.py:2085] 2021-10-28 19:53:37,241 >> added tokens file saved in repretrainbertweet/checkpoint-10/added_tokens.json\n",
      " 50% 18/36 [1:18:32<1:16:43, 255.72s/it][W pthreadpool-cpp.cc:90] Warning: Leaking Caffe2 thread-pool after fork. (function pthreadpool)\n",
      "[W pthreadpool-cpp.cc:90] Warning: Leaking Caffe2 thread-pool after fork. (function pthreadpool)\n",
      "{'loss': 2.1321, 'learning_rate': 4.4444444444444447e-05, 'epoch': 1.11}\n",
      " 56% 20/36 [1:30:02<1:18:06, 292.89s/it][INFO|trainer.py:541] 2021-10-28 20:38:39,696 >> The following columns in the evaluation set  don't have a corresponding argument in `RobertaForMaskedLM.forward` and have been ignored: special_tokens_mask.\n",
      "[INFO|trainer.py:2243] 2021-10-28 20:38:39,700 >> ***** Running Evaluation *****\n",
      "[INFO|trainer.py:2245] 2021-10-28 20:38:39,700 >>   Num examples = 4322\n",
      "[INFO|trainer.py:2248] 2021-10-28 20:38:39,700 >>   Batch size = 32\n",
      "[W pthreadpool-cpp.cc:90] Warning: Leaking Caffe2 thread-pool after fork. (function pthreadpool)\n",
      "[W pthreadpool-cpp.cc:90] Warning: Leaking Caffe2 thread-pool after fork. (function pthreadpool)\n",
      "\n",
      "  0% 0/136 [00:00<?, ?it/s]\u001b[A\n",
      "  1% 2/136 [00:01<01:30,  1.48it/s]\u001b[A\n",
      "  2% 3/136 [00:02<02:08,  1.04it/s]\u001b[A\n",
      "  3% 4/136 [00:04<02:27,  1.12s/it]\u001b[A\n",
      "  4% 5/136 [00:05<02:38,  1.21s/it]\u001b[A\n",
      "  4% 6/136 [00:06<02:44,  1.26s/it]\u001b[A\n",
      "  5% 7/136 [00:08<02:48,  1.31s/it]\u001b[A\n",
      "  6% 8/136 [00:09<02:49,  1.33s/it]\u001b[A\n",
      "  7% 9/136 [00:10<02:50,  1.34s/it]\u001b[A\n",
      "  7% 10/136 [00:12<02:50,  1.35s/it]\u001b[A\n",
      "  8% 11/136 [00:13<02:49,  1.36s/it]\u001b[A\n",
      "  9% 12/136 [00:15<02:48,  1.36s/it]\u001b[A\n",
      " 10% 13/136 [00:16<02:47,  1.36s/it]\u001b[A\n",
      " 10% 14/136 [00:17<02:45,  1.36s/it]\u001b[A\n",
      " 11% 15/136 [00:19<02:44,  1.36s/it]\u001b[A\n",
      " 12% 16/136 [00:20<02:43,  1.36s/it]\u001b[A\n",
      " 12% 17/136 [00:21<02:42,  1.37s/it]\u001b[A\n",
      " 13% 18/136 [00:23<02:41,  1.37s/it]\u001b[A\n",
      " 14% 19/136 [00:24<02:40,  1.37s/it]\u001b[A\n",
      " 15% 20/136 [00:26<02:38,  1.37s/it]\u001b[A\n",
      " 15% 21/136 [00:27<02:37,  1.37s/it]\u001b[A\n",
      " 16% 22/136 [00:28<02:36,  1.37s/it]\u001b[A\n",
      " 17% 23/136 [00:30<02:34,  1.37s/it]\u001b[A\n",
      " 18% 24/136 [00:31<02:33,  1.37s/it]\u001b[A\n",
      " 18% 25/136 [00:32<02:31,  1.36s/it]\u001b[A\n",
      " 19% 26/136 [00:34<02:30,  1.37s/it]\u001b[A\n",
      " 20% 27/136 [00:35<02:29,  1.37s/it]\u001b[A\n",
      " 21% 28/136 [00:36<02:27,  1.37s/it]\u001b[A\n",
      " 21% 29/136 [00:38<02:26,  1.37s/it]\u001b[A\n",
      " 22% 30/136 [00:39<02:25,  1.37s/it]\u001b[A\n",
      " 23% 31/136 [00:41<02:24,  1.37s/it]\u001b[A\n",
      " 24% 32/136 [00:42<02:22,  1.37s/it]\u001b[A\n",
      " 24% 33/136 [00:43<02:20,  1.37s/it]\u001b[A\n",
      " 25% 34/136 [00:45<02:19,  1.37s/it]\u001b[A\n",
      " 26% 35/136 [00:46<02:18,  1.37s/it]\u001b[A\n",
      " 26% 36/136 [00:47<02:16,  1.37s/it]\u001b[A\n",
      " 27% 37/136 [00:49<02:15,  1.37s/it]\u001b[A\n",
      " 28% 38/136 [00:50<02:13,  1.36s/it]\u001b[A\n",
      " 29% 39/136 [00:52<02:12,  1.37s/it]\u001b[A\n",
      " 29% 40/136 [00:53<02:11,  1.37s/it]\u001b[A\n",
      " 30% 41/136 [00:54<02:10,  1.37s/it]\u001b[A\n",
      " 31% 42/136 [00:56<02:08,  1.37s/it]\u001b[A\n",
      " 32% 43/136 [00:57<02:07,  1.37s/it]\u001b[A\n",
      " 32% 44/136 [00:58<02:05,  1.37s/it]\u001b[A\n",
      " 33% 45/136 [01:00<02:04,  1.37s/it]\u001b[A\n",
      " 34% 46/136 [01:01<02:02,  1.37s/it]\u001b[A\n",
      " 35% 47/136 [01:02<02:01,  1.37s/it]\u001b[A\n",
      " 35% 48/136 [01:04<02:00,  1.37s/it]\u001b[A\n",
      " 36% 49/136 [01:05<01:58,  1.37s/it]\u001b[A\n",
      " 37% 50/136 [01:07<01:57,  1.37s/it]\u001b[A\n",
      " 38% 51/136 [01:08<01:56,  1.37s/it]\u001b[A\n",
      " 38% 52/136 [01:09<01:55,  1.37s/it]\u001b[A\n",
      " 39% 53/136 [01:11<01:53,  1.37s/it]\u001b[A\n",
      " 40% 54/136 [01:12<01:52,  1.37s/it]\u001b[A\n",
      " 40% 55/136 [01:13<01:50,  1.37s/it]\u001b[A\n",
      " 41% 56/136 [01:15<01:49,  1.37s/it]\u001b[A\n",
      " 42% 57/136 [01:16<01:48,  1.37s/it]\u001b[A\n",
      " 43% 58/136 [01:18<01:46,  1.37s/it]\u001b[A\n",
      " 43% 59/136 [01:19<01:45,  1.37s/it]\u001b[A\n",
      " 44% 60/136 [01:20<01:44,  1.37s/it]\u001b[A\n",
      " 45% 61/136 [01:22<01:42,  1.37s/it]\u001b[A\n",
      " 46% 62/136 [01:23<01:41,  1.37s/it]\u001b[A\n",
      " 46% 63/136 [01:24<01:39,  1.37s/it]\u001b[A\n",
      " 47% 64/136 [01:26<01:38,  1.37s/it]\u001b[A\n",
      " 48% 65/136 [01:27<01:37,  1.37s/it]\u001b[A\n",
      " 49% 66/136 [01:28<01:35,  1.37s/it]\u001b[A\n",
      " 49% 67/136 [01:30<01:34,  1.37s/it]\u001b[A\n",
      " 50% 68/136 [01:31<01:33,  1.37s/it]\u001b[A\n",
      " 51% 69/136 [01:33<01:32,  1.37s/it]\u001b[A\n",
      " 51% 70/136 [01:34<01:30,  1.37s/it]\u001b[A\n",
      " 52% 71/136 [01:35<01:29,  1.37s/it]\u001b[A\n",
      " 53% 72/136 [01:37<01:27,  1.37s/it]\u001b[A\n",
      " 54% 73/136 [01:38<01:26,  1.37s/it]\u001b[A\n",
      " 54% 74/136 [01:39<01:24,  1.36s/it]\u001b[A\n",
      " 55% 75/136 [01:41<01:23,  1.36s/it]\u001b[A\n",
      " 56% 76/136 [01:42<01:22,  1.37s/it]\u001b[A\n",
      " 57% 77/136 [01:44<01:20,  1.37s/it]\u001b[A\n",
      " 57% 78/136 [01:45<01:19,  1.37s/it]\u001b[A\n",
      " 58% 79/136 [01:46<01:18,  1.37s/it]\u001b[A\n",
      " 59% 80/136 [01:48<01:16,  1.37s/it]\u001b[A\n",
      " 60% 81/136 [01:49<01:15,  1.37s/it]\u001b[A\n",
      " 60% 82/136 [01:50<01:13,  1.37s/it]\u001b[A\n",
      " 61% 83/136 [01:52<01:12,  1.37s/it]\u001b[A\n",
      " 62% 84/136 [01:53<01:11,  1.37s/it]\u001b[A\n",
      " 62% 85/136 [01:54<01:09,  1.37s/it]\u001b[A\n",
      " 63% 86/136 [01:56<01:08,  1.36s/it]\u001b[A\n",
      " 64% 87/136 [01:57<01:06,  1.36s/it]\u001b[A\n",
      " 65% 88/136 [01:59<01:05,  1.36s/it]\u001b[A\n",
      " 65% 89/136 [02:00<01:04,  1.37s/it]\u001b[A\n",
      " 66% 90/136 [02:01<01:02,  1.36s/it]\u001b[A\n",
      " 67% 91/136 [02:03<01:01,  1.37s/it]\u001b[A\n",
      " 68% 92/136 [02:04<01:00,  1.37s/it]\u001b[A\n",
      " 68% 93/136 [02:05<00:58,  1.36s/it]\u001b[A\n",
      " 69% 94/136 [02:07<00:57,  1.37s/it]\u001b[A\n",
      " 70% 95/136 [02:08<00:55,  1.37s/it]\u001b[A\n",
      " 71% 96/136 [02:10<00:54,  1.37s/it]\u001b[A\n",
      " 71% 97/136 [02:11<00:53,  1.37s/it]\u001b[A\n",
      " 72% 98/136 [02:12<00:52,  1.37s/it]\u001b[A\n",
      " 73% 99/136 [02:14<00:50,  1.37s/it]\u001b[A\n",
      " 74% 100/136 [02:15<00:49,  1.37s/it]\u001b[A\n",
      " 74% 101/136 [02:16<00:47,  1.37s/it]\u001b[A\n",
      " 75% 102/136 [02:18<00:46,  1.37s/it]\u001b[A\n",
      " 76% 103/136 [02:19<00:44,  1.36s/it]\u001b[A\n",
      " 76% 104/136 [02:20<00:43,  1.37s/it]\u001b[A\n",
      " 77% 105/136 [02:22<00:42,  1.37s/it]\u001b[A\n",
      " 78% 106/136 [02:23<00:41,  1.37s/it]\u001b[A\n",
      " 79% 107/136 [02:25<00:39,  1.37s/it]\u001b[A\n",
      " 79% 108/136 [02:26<00:38,  1.37s/it]\u001b[A\n",
      " 80% 109/136 [02:27<00:36,  1.36s/it]\u001b[A\n",
      " 81% 110/136 [02:29<00:35,  1.37s/it]\u001b[A\n",
      " 82% 111/136 [02:30<00:34,  1.36s/it]\u001b[A\n",
      " 82% 112/136 [02:31<00:32,  1.36s/it]\u001b[A\n",
      " 83% 113/136 [02:33<00:31,  1.36s/it]\u001b[A\n",
      " 84% 114/136 [02:34<00:30,  1.37s/it]\u001b[A\n",
      " 85% 115/136 [02:35<00:28,  1.36s/it]\u001b[A\n",
      " 85% 116/136 [02:37<00:27,  1.36s/it]\u001b[A\n",
      " 86% 117/136 [02:38<00:25,  1.36s/it]\u001b[A\n",
      " 87% 118/136 [02:40<00:24,  1.36s/it]\u001b[A\n",
      " 88% 119/136 [02:41<00:23,  1.37s/it]\u001b[A\n",
      " 88% 120/136 [02:42<00:21,  1.37s/it]\u001b[A\n",
      " 89% 121/136 [02:44<00:20,  1.37s/it]\u001b[A\n",
      " 90% 122/136 [02:45<00:19,  1.36s/it]\u001b[A\n",
      " 90% 123/136 [02:46<00:17,  1.36s/it]\u001b[A\n",
      " 91% 124/136 [02:48<00:16,  1.36s/it]\u001b[A\n",
      " 92% 125/136 [02:49<00:14,  1.36s/it]\u001b[A\n",
      " 93% 126/136 [02:50<00:13,  1.37s/it]\u001b[A\n",
      " 93% 127/136 [02:52<00:12,  1.37s/it]\u001b[A\n",
      " 94% 128/136 [02:53<00:10,  1.36s/it]\u001b[A\n",
      " 95% 129/136 [02:55<00:09,  1.36s/it]\u001b[A\n",
      " 96% 130/136 [02:56<00:08,  1.36s/it]\u001b[A\n",
      " 96% 131/136 [02:57<00:06,  1.36s/it]\u001b[A\n",
      " 97% 132/136 [02:59<00:05,  1.36s/it]\u001b[A\n",
      " 98% 133/136 [03:00<00:04,  1.36s/it]\u001b[A\n",
      " 99% 134/136 [03:01<00:02,  1.36s/it]\u001b[A\n",
      " 99% 135/136 [03:03<00:01,  1.36s/it]\u001b[A\n",
      "100% 136/136 [03:03<00:00,  1.10s/it]\u001b[A\n",
      "{'eval_loss': 1.8053231239318848, 'eval_runtime': 184.7649, 'eval_samples_per_second': 23.392, 'eval_steps_per_second': 0.736, 'epoch': 1.11}\n",
      "\n",
      " 56% 20/36 [1:33:07<1:18:06, 292.89s/it]\n",
      "                                     \u001b[A[INFO|trainer.py:1995] 2021-10-28 20:41:44,467 >> Saving model checkpoint to repretrainbertweet/checkpoint-20\n",
      "[INFO|configuration_utils.py:417] 2021-10-28 20:41:44,469 >> Configuration saved in repretrainbertweet/checkpoint-20/config.json\n",
      "[INFO|modeling_utils.py:1058] 2021-10-28 20:41:46,464 >> Model weights saved in repretrainbertweet/checkpoint-20/pytorch_model.bin\n",
      "[INFO|tokenization_utils_base.py:2034] 2021-10-28 20:41:46,464 >> tokenizer config file saved in repretrainbertweet/checkpoint-20/tokenizer_config.json\n",
      "[INFO|tokenization_utils_base.py:2040] 2021-10-28 20:41:46,464 >> Special tokens file saved in repretrainbertweet/checkpoint-20/special_tokens_map.json\n",
      "[INFO|tokenization_utils_base.py:2085] 2021-10-28 20:41:46,465 >> added tokens file saved in repretrainbertweet/checkpoint-20/added_tokens.json\n",
      "{'loss': 1.8459, 'learning_rate': 1.6666666666666667e-05, 'epoch': 1.64}\n",
      " 83% 30/36 [2:15:00<25:24, 254.11s/it][INFO|trainer.py:541] 2021-10-28 21:23:37,750 >> The following columns in the evaluation set  don't have a corresponding argument in `RobertaForMaskedLM.forward` and have been ignored: special_tokens_mask.\n",
      "[INFO|trainer.py:2243] 2021-10-28 21:23:37,753 >> ***** Running Evaluation *****\n",
      "[INFO|trainer.py:2245] 2021-10-28 21:23:37,753 >>   Num examples = 4322\n",
      "[INFO|trainer.py:2248] 2021-10-28 21:23:37,753 >>   Batch size = 32\n",
      "[W pthreadpool-cpp.cc:90] Warning: Leaking Caffe2 thread-pool after fork. (function pthreadpool)\n",
      "[W pthreadpool-cpp.cc:90] Warning: Leaking Caffe2 thread-pool after fork. (function pthreadpool)\n",
      "\n",
      "  0% 0/136 [00:00<?, ?it/s]\u001b[A\n",
      "  1% 2/136 [00:01<01:32,  1.45it/s]\u001b[A\n",
      "  2% 3/136 [00:02<02:08,  1.03it/s]\u001b[A\n",
      "  3% 4/136 [00:04<02:27,  1.12s/it]\u001b[A\n",
      "  4% 5/136 [00:05<02:37,  1.21s/it]\u001b[A\n",
      "  4% 6/136 [00:06<02:44,  1.27s/it]\u001b[A\n",
      "  5% 7/136 [00:08<02:48,  1.30s/it]\u001b[A\n",
      "  6% 8/136 [00:09<02:49,  1.32s/it]\u001b[A\n",
      "  7% 9/136 [00:10<02:49,  1.34s/it]\u001b[A\n",
      "  7% 10/136 [00:12<02:50,  1.35s/it]\u001b[A\n",
      "  8% 11/136 [00:13<02:48,  1.35s/it]\u001b[A\n",
      "  9% 12/136 [00:15<02:48,  1.36s/it]\u001b[A\n",
      " 10% 13/136 [00:16<02:47,  1.36s/it]\u001b[A\n",
      " 10% 14/136 [00:17<02:45,  1.36s/it]\u001b[A\n",
      " 11% 15/136 [00:19<02:44,  1.36s/it]\u001b[A\n",
      " 12% 16/136 [00:20<02:43,  1.36s/it]\u001b[A\n",
      " 12% 17/136 [00:21<02:42,  1.37s/it]\u001b[A\n",
      " 13% 18/136 [00:23<02:41,  1.37s/it]\u001b[A\n",
      " 14% 19/136 [00:24<02:40,  1.37s/it]\u001b[A\n",
      " 15% 20/136 [00:26<02:38,  1.37s/it]\u001b[A\n",
      " 15% 21/136 [00:27<02:37,  1.37s/it]\u001b[A\n",
      " 16% 22/136 [00:28<02:35,  1.36s/it]\u001b[A\n",
      " 17% 23/136 [00:30<02:35,  1.37s/it]\u001b[A\n",
      " 18% 24/136 [00:31<02:32,  1.37s/it]\u001b[A\n",
      " 18% 25/136 [00:32<02:31,  1.36s/it]\u001b[A\n",
      " 19% 26/136 [00:34<02:30,  1.37s/it]\u001b[A\n",
      " 20% 27/136 [00:35<02:29,  1.37s/it]\u001b[A\n",
      " 21% 28/136 [00:36<02:27,  1.37s/it]\u001b[A\n",
      " 21% 29/136 [00:38<02:26,  1.37s/it]\u001b[A\n",
      " 22% 30/136 [00:39<02:25,  1.37s/it]\u001b[A\n",
      " 23% 31/136 [00:41<02:24,  1.37s/it]\u001b[A\n",
      " 24% 32/136 [00:42<02:22,  1.37s/it]\u001b[A\n",
      " 24% 33/136 [00:43<02:21,  1.37s/it]\u001b[A\n",
      " 25% 34/136 [00:45<02:19,  1.37s/it]\u001b[A\n",
      " 26% 35/136 [00:46<02:18,  1.37s/it]\u001b[A\n",
      " 26% 36/136 [00:47<02:17,  1.37s/it]\u001b[A\n",
      " 27% 37/136 [00:49<02:15,  1.37s/it]\u001b[A\n",
      " 28% 38/136 [00:50<02:14,  1.37s/it]\u001b[A\n",
      " 29% 39/136 [00:52<02:12,  1.37s/it]\u001b[A\n",
      " 29% 40/136 [00:53<02:11,  1.37s/it]\u001b[A\n",
      " 30% 41/136 [00:54<02:09,  1.36s/it]\u001b[A\n",
      " 31% 42/136 [00:56<02:08,  1.37s/it]\u001b[A\n",
      " 32% 43/136 [00:57<02:07,  1.37s/it]\u001b[A\n",
      " 32% 44/136 [00:58<02:06,  1.37s/it]\u001b[A\n",
      " 33% 45/136 [01:00<02:04,  1.37s/it]\u001b[A\n",
      " 34% 46/136 [01:01<02:03,  1.37s/it]\u001b[A\n",
      " 35% 47/136 [01:03<02:01,  1.37s/it]\u001b[A\n",
      " 35% 48/136 [01:04<02:00,  1.37s/it]\u001b[A\n",
      " 36% 49/136 [01:05<01:58,  1.37s/it]\u001b[A\n",
      " 37% 50/136 [01:07<01:57,  1.37s/it]\u001b[A\n",
      " 38% 51/136 [01:08<01:56,  1.37s/it]\u001b[A\n",
      " 38% 52/136 [01:09<01:54,  1.36s/it]\u001b[A\n",
      " 39% 53/136 [01:11<01:53,  1.37s/it]\u001b[A\n",
      " 40% 54/136 [01:12<01:52,  1.37s/it]\u001b[A\n",
      " 40% 55/136 [01:13<01:51,  1.37s/it]\u001b[A\n",
      " 41% 56/136 [01:15<01:49,  1.37s/it]\u001b[A\n",
      " 42% 57/136 [01:16<01:48,  1.37s/it]\u001b[A\n",
      " 43% 58/136 [01:18<01:46,  1.37s/it]\u001b[A\n",
      " 43% 59/136 [01:19<01:45,  1.37s/it]\u001b[A\n",
      " 44% 60/136 [01:20<01:43,  1.37s/it]\u001b[A\n",
      " 45% 61/136 [01:22<01:42,  1.37s/it]\u001b[A\n",
      " 46% 62/136 [01:23<01:41,  1.37s/it]\u001b[A\n",
      " 46% 63/136 [01:24<01:40,  1.37s/it]\u001b[A\n",
      " 47% 64/136 [01:26<01:38,  1.37s/it]\u001b[A\n",
      " 48% 65/136 [01:27<01:36,  1.36s/it]\u001b[A\n",
      " 49% 66/136 [01:28<01:35,  1.37s/it]\u001b[A\n",
      " 49% 67/136 [01:30<01:34,  1.37s/it]\u001b[A\n",
      " 50% 68/136 [01:31<01:33,  1.37s/it]\u001b[A\n",
      " 51% 69/136 [01:33<01:31,  1.37s/it]\u001b[A\n",
      " 51% 70/136 [01:34<01:30,  1.37s/it]\u001b[A\n",
      " 52% 71/136 [01:35<01:29,  1.37s/it]\u001b[A\n",
      " 53% 72/136 [01:37<01:27,  1.37s/it]\u001b[A\n",
      " 54% 73/136 [01:38<01:26,  1.37s/it]\u001b[A\n",
      " 54% 74/136 [01:39<01:25,  1.37s/it]\u001b[A\n",
      " 55% 75/136 [01:41<01:23,  1.37s/it]\u001b[A\n",
      " 56% 76/136 [01:42<01:22,  1.37s/it]\u001b[A\n",
      " 57% 77/136 [01:44<01:21,  1.38s/it]\u001b[A\n",
      " 57% 78/136 [01:45<01:19,  1.38s/it]\u001b[A\n",
      " 58% 79/136 [01:46<01:18,  1.37s/it]\u001b[A\n",
      " 59% 80/136 [01:48<01:17,  1.38s/it]\u001b[A\n",
      " 60% 81/136 [01:49<01:15,  1.38s/it]\u001b[A\n",
      " 60% 82/136 [01:50<01:14,  1.37s/it]\u001b[A\n",
      " 61% 83/136 [01:52<01:12,  1.37s/it]\u001b[A\n",
      " 62% 84/136 [01:53<01:11,  1.37s/it]\u001b[A\n",
      " 62% 85/136 [01:55<01:09,  1.36s/it]\u001b[A\n",
      " 63% 86/136 [01:56<01:08,  1.37s/it]\u001b[A\n",
      " 64% 87/136 [01:57<01:06,  1.37s/it]\u001b[A\n",
      " 65% 88/136 [01:59<01:05,  1.37s/it]\u001b[A\n",
      " 65% 89/136 [02:00<01:04,  1.37s/it]\u001b[A\n",
      " 66% 90/136 [02:01<01:03,  1.37s/it]\u001b[A\n",
      " 67% 91/136 [02:03<01:01,  1.37s/it]\u001b[A\n",
      " 68% 92/136 [02:04<01:00,  1.37s/it]\u001b[A\n",
      " 68% 93/136 [02:06<00:59,  1.37s/it]\u001b[A\n",
      " 69% 94/136 [02:07<00:57,  1.37s/it]\u001b[A\n",
      " 70% 95/136 [02:08<00:56,  1.37s/it]\u001b[A\n",
      " 71% 96/136 [02:10<00:54,  1.37s/it]\u001b[A\n",
      " 71% 97/136 [02:11<00:53,  1.37s/it]\u001b[A\n",
      " 72% 98/136 [02:12<00:51,  1.36s/it]\u001b[A\n",
      " 73% 99/136 [02:14<00:50,  1.37s/it]\u001b[A\n",
      " 74% 100/136 [02:15<00:49,  1.36s/it]\u001b[A\n",
      " 74% 101/136 [02:16<00:47,  1.37s/it]\u001b[A\n",
      " 75% 102/136 [02:18<00:46,  1.37s/it]\u001b[A\n",
      " 76% 103/136 [02:19<00:45,  1.37s/it]\u001b[A\n",
      " 76% 104/136 [02:21<00:43,  1.37s/it]\u001b[A\n",
      " 77% 105/136 [02:22<00:42,  1.37s/it]\u001b[A\n",
      " 78% 106/136 [02:23<00:41,  1.37s/it]\u001b[A\n",
      " 79% 107/136 [02:25<00:39,  1.37s/it]\u001b[A\n",
      " 79% 108/136 [02:26<00:38,  1.37s/it]\u001b[A\n",
      " 80% 109/136 [02:27<00:36,  1.37s/it]\u001b[A\n",
      " 81% 110/136 [02:29<00:35,  1.37s/it]\u001b[A\n",
      " 82% 111/136 [02:30<00:34,  1.37s/it]\u001b[A\n",
      " 82% 112/136 [02:32<00:32,  1.36s/it]\u001b[A\n",
      " 83% 113/136 [02:33<00:31,  1.37s/it]\u001b[A\n",
      " 84% 114/136 [02:34<00:30,  1.37s/it]\u001b[A\n",
      " 85% 115/136 [02:36<00:28,  1.37s/it]\u001b[A\n",
      " 85% 116/136 [02:37<00:27,  1.37s/it]\u001b[A\n",
      " 86% 117/136 [02:38<00:26,  1.37s/it]\u001b[A\n",
      " 87% 118/136 [02:40<00:24,  1.37s/it]\u001b[A\n",
      " 88% 119/136 [02:41<00:23,  1.37s/it]\u001b[A\n",
      " 88% 120/136 [02:43<00:21,  1.37s/it]\u001b[A\n",
      " 89% 121/136 [02:44<00:20,  1.37s/it]\u001b[A\n",
      " 90% 122/136 [02:45<00:19,  1.37s/it]\u001b[A\n",
      " 90% 123/136 [02:47<00:17,  1.37s/it]\u001b[A\n",
      " 91% 124/136 [02:48<00:16,  1.36s/it]\u001b[A\n",
      " 92% 125/136 [02:49<00:15,  1.37s/it]\u001b[A\n",
      " 93% 126/136 [02:51<00:13,  1.36s/it]\u001b[A\n",
      " 93% 127/136 [02:52<00:12,  1.36s/it]\u001b[A\n",
      " 94% 128/136 [02:53<00:10,  1.36s/it]\u001b[A\n",
      " 95% 129/136 [02:55<00:09,  1.36s/it]\u001b[A\n",
      " 96% 130/136 [02:56<00:08,  1.36s/it]\u001b[A\n",
      " 96% 131/136 [02:58<00:06,  1.37s/it]\u001b[A\n",
      " 97% 132/136 [02:59<00:05,  1.37s/it]\u001b[A\n",
      " 98% 133/136 [03:00<00:04,  1.37s/it]\u001b[A\n",
      " 99% 134/136 [03:02<00:02,  1.37s/it]\u001b[A\n",
      " 99% 135/136 [03:03<00:01,  1.37s/it]\u001b[A\n",
      "100% 136/136 [03:03<00:00,  1.10s/it]\u001b[A\n",
      "{'eval_loss': 1.708449363708496, 'eval_runtime': 184.9987, 'eval_samples_per_second': 23.362, 'eval_steps_per_second': 0.735, 'epoch': 1.64}\n",
      "\n",
      " 83% 30/36 [2:18:05<25:24, 254.11s/it]\n",
      "                                     \u001b[A[INFO|trainer.py:1995] 2021-10-28 21:26:42,754 >> Saving model checkpoint to repretrainbertweet/checkpoint-30\n",
      "[INFO|configuration_utils.py:417] 2021-10-28 21:26:42,755 >> Configuration saved in repretrainbertweet/checkpoint-30/config.json\n",
      "[INFO|modeling_utils.py:1058] 2021-10-28 21:26:44,379 >> Model weights saved in repretrainbertweet/checkpoint-30/pytorch_model.bin\n",
      "[INFO|tokenization_utils_base.py:2034] 2021-10-28 21:26:44,379 >> tokenizer config file saved in repretrainbertweet/checkpoint-30/tokenizer_config.json\n",
      "[INFO|tokenization_utils_base.py:2040] 2021-10-28 21:26:44,379 >> Special tokens file saved in repretrainbertweet/checkpoint-30/special_tokens_map.json\n",
      "[INFO|tokenization_utils_base.py:2085] 2021-10-28 21:26:44,380 >> added tokens file saved in repretrainbertweet/checkpoint-30/added_tokens.json\n",
      " 94% 34/36 [2:34:54<09:02, 271.10s/it]"
     ]
    }
   ],
   "source": [
    "!python transformers/examples/pytorch/language-modeling/run_mlm.py \\\n",
    "    --model_name_or_path vinai/bertweet-base \\\n",
    "    --train_file /content/tweet_train.txt \\\n",
    "    --validation_file /content/tweets_validation.txt \\\n",
    "    --do_train \\\n",
    "    --do_eval \\\n",
    "    --output_dir='repretrainbertweet' \\\n",
    "    --model_type bert \\\n",
    "    --evaluation_strategy steps \\\n",
    "    --max_seq_length 128 \\\n",
    "    --per_device_train_batch_size 16 \\\n",
    "    --per_device_eval_batch_size 32 \\\n",
    "    --gradient_accumulation_steps 128 \\\n",
    "    --eval_accumulation_steps 10 \\\n",
    "    --learning_rate 1e-4 \\\n",
    "    --num_train_epochs 2 \\\n",
    "    --logging_steps 10 --eval_steps 10 --save_steps 10 \\\n",
    "    --save_total_limit 5 \\\n",
    "    --fp16 \\\n",
    "    --seed 20 \\\n",
    "    --line_by_line \\\n",
    "    --dataloader_num_workers 2 \\\n",
    "    --overwrite_output_dir"
   ]
  },
  {
   "cell_type": "code",
   "execution_count": null,
   "metadata": {
    "id": "YKG58aYdgmiI"
   },
   "outputs": [],
   "source": [
    "# !mv repretrainbertweet /content/drive/MyDrive/EWS/\n"
   ]
  },
  {
   "cell_type": "code",
   "execution_count": null,
   "metadata": {
    "id": "DqgJHVaEgJ1N"
   },
   "outputs": [],
   "source": [
    "%load_ext tensorboard"
   ]
  },
  {
   "cell_type": "code",
   "execution_count": null,
   "metadata": {
    "id": "pYdaUsV5JZ4D"
   },
   "outputs": [],
   "source": [
    "%tensorboard --logdir runs"
   ]
  },
  {
   "cell_type": "markdown",
   "metadata": {
    "id": "beGJBZsYvkZq"
   },
   "source": [
    "Acceso al modelo entrenado"
   ]
  },
  {
   "cell_type": "markdown",
   "metadata": {
    "id": "7fvd1bzAvo6v"
   },
   "source": [
    "Clasificaion"
   ]
  },
  {
   "cell_type": "code",
   "execution_count": null,
   "metadata": {
    "colab": {
     "base_uri": "https://localhost:8080/"
    },
    "executionInfo": {
     "elapsed": 524,
     "status": "ok",
     "timestamp": 1636737524123,
     "user": {
      "displayName": "Juan Alberto Arguello Garcia Pertusa",
      "photoUrl": "https://lh3.googleusercontent.com/a-/AOh14GgLNEssX-ZQ-3Wt21S35bSF4i8fDxb0sYwOKN6fjZdCGwyOSfhMFvAQ1UK3eBgEEMRvdXTIPi_toS8mrBJVBrh6nL2HBoRx4GFfZEgsqg-dybjyTTdUmdEKiu28y4qWKa_MfiUdINIpvp2H0XFbxKAvXYIUgAuwosan_sZ90lqXKduxKUNhQFQNm7AtLBxmQocFxa9lMw3e81yu_LnH1gMgy0BZqX98JkYD8Y6OeZpCpHNfCY8PdgFGTkd9T525ClQsm3NMjO2XoCbLAxinM-LUfPucjpKrPburF-lSAdi1UBbvrY2dGxzU6unNCVQdRV1JZhEgT4PC_DSSppMkPOdca_0ojf5cu4BkGCRd7EdfDDRP32kJuNGj8a1UZMW293DJRslrl4rxUJUZFOw7ZRTgsINR8d2EIyC78OFvW6oIfAqYZEg0fEw_F7v9KMBKidAgx0bR3qu5RjIY9HMHecjbr9rN7DyDScVfElKZ2fwHcnK2lhQrYcdZCfvqYDSZKl6e7nwABn1aq03nUn-pRUZyCRYQ6g3EfM5liOMpa-JP5Ab6nUHHRnYvGRUsyEw9izJR7TP0u_aVkBi51jK-wywGmz2RFIkF-Btte-1Vv2j4mkqrwRNuUqtn8v5NNE2N-141RaT839OGMOZWAqk3iSyIFsOrdjNeXsYPoAFbb2BZyFs3m02vIb-kRMrlQDbaQmrMSPPL2HfSXRgy5U9g2CKe4ak80dfZaX5xYEMa4BlHAANSm8DhC-opLInCtMLDBFelJw=s64",
      "userId": "11559378201574576734"
     },
     "user_tz": 300
    },
    "id": "t5Nnkk7_bu7G",
    "outputId": "d299d4cd-0e5a-4044-ec70-73260cc1deb3"
   },
   "outputs": [
    {
     "name": "stdout",
     "output_type": "stream",
     "text": [
      "added_tokens.json  config.json\t\t    tokenizer_config.json\n",
      "all_results.json   eval_results.json\t    trainer_state.json\n",
      "bpe.codes\t   pytorch_model.bin\t    training_args.bin\n",
      "checkpoint-10\t   README.md\t\t    train_results.json\n",
      "checkpoint-20\t   runs\t\t\t    vocab.txt\n",
      "checkpoint-30\t   special_tokens_map.json\n"
     ]
    }
   ],
   "source": [
    "!ls /content/drive/MyDrive/EWS/repretrainbertweet"
   ]
  },
  {
   "cell_type": "code",
   "execution_count": null,
   "metadata": {
    "colab": {
     "base_uri": "https://localhost:8080/"
    },
    "executionInfo": {
     "elapsed": 3783,
     "status": "ok",
     "timestamp": 1636737537699,
     "user": {
      "displayName": "Juan Alberto Arguello Garcia Pertusa",
      "photoUrl": "https://lh3.googleusercontent.com/a-/AOh14GgLNEssX-ZQ-3Wt21S35bSF4i8fDxb0sYwOKN6fjZdCGwyOSfhMFvAQ1UK3eBgEEMRvdXTIPi_toS8mrBJVBrh6nL2HBoRx4GFfZEgsqg-dybjyTTdUmdEKiu28y4qWKa_MfiUdINIpvp2H0XFbxKAvXYIUgAuwosan_sZ90lqXKduxKUNhQFQNm7AtLBxmQocFxa9lMw3e81yu_LnH1gMgy0BZqX98JkYD8Y6OeZpCpHNfCY8PdgFGTkd9T525ClQsm3NMjO2XoCbLAxinM-LUfPucjpKrPburF-lSAdi1UBbvrY2dGxzU6unNCVQdRV1JZhEgT4PC_DSSppMkPOdca_0ojf5cu4BkGCRd7EdfDDRP32kJuNGj8a1UZMW293DJRslrl4rxUJUZFOw7ZRTgsINR8d2EIyC78OFvW6oIfAqYZEg0fEw_F7v9KMBKidAgx0bR3qu5RjIY9HMHecjbr9rN7DyDScVfElKZ2fwHcnK2lhQrYcdZCfvqYDSZKl6e7nwABn1aq03nUn-pRUZyCRYQ6g3EfM5liOMpa-JP5Ab6nUHHRnYvGRUsyEw9izJR7TP0u_aVkBi51jK-wywGmz2RFIkF-Btte-1Vv2j4mkqrwRNuUqtn8v5NNE2N-141RaT839OGMOZWAqk3iSyIFsOrdjNeXsYPoAFbb2BZyFs3m02vIb-kRMrlQDbaQmrMSPPL2HfSXRgy5U9g2CKe4ak80dfZaX5xYEMa4BlHAANSm8DhC-opLInCtMLDBFelJw=s64",
      "userId": "11559378201574576734"
     },
     "user_tz": 300
    },
    "id": "5HsFZfqxwvAm",
    "outputId": "cf1d5745-a7e4-47df-b402-c532d191bbcb"
   },
   "outputs": [
    {
     "name": "stdout",
     "output_type": "stream",
     "text": [
      "Requirement already satisfied: transformers in /usr/local/lib/python3.7/dist-packages (4.12.3)\n",
      "Requirement already satisfied: tqdm>=4.27 in /usr/local/lib/python3.7/dist-packages (from transformers) (4.62.3)\n",
      "Requirement already satisfied: importlib-metadata in /usr/local/lib/python3.7/dist-packages (from transformers) (4.8.2)\n",
      "Requirement already satisfied: huggingface-hub<1.0,>=0.1.0 in /usr/local/lib/python3.7/dist-packages (from transformers) (0.1.2)\n",
      "Requirement already satisfied: packaging>=20.0 in /usr/local/lib/python3.7/dist-packages (from transformers) (21.2)\n",
      "Requirement already satisfied: filelock in /usr/local/lib/python3.7/dist-packages (from transformers) (3.3.2)\n",
      "Requirement already satisfied: sacremoses in /usr/local/lib/python3.7/dist-packages (from transformers) (0.0.46)\n",
      "Requirement already satisfied: numpy>=1.17 in /usr/local/lib/python3.7/dist-packages (from transformers) (1.19.5)\n",
      "Requirement already satisfied: tokenizers<0.11,>=0.10.1 in /usr/local/lib/python3.7/dist-packages (from transformers) (0.10.3)\n",
      "Requirement already satisfied: pyyaml>=5.1 in /usr/local/lib/python3.7/dist-packages (from transformers) (6.0)\n",
      "Requirement already satisfied: regex!=2019.12.17 in /usr/local/lib/python3.7/dist-packages (from transformers) (2019.12.20)\n",
      "Requirement already satisfied: requests in /usr/local/lib/python3.7/dist-packages (from transformers) (2.23.0)\n",
      "Requirement already satisfied: typing-extensions>=3.7.4.3 in /usr/local/lib/python3.7/dist-packages (from huggingface-hub<1.0,>=0.1.0->transformers) (3.10.0.2)\n",
      "Requirement already satisfied: pyparsing<3,>=2.0.2 in /usr/local/lib/python3.7/dist-packages (from packaging>=20.0->transformers) (2.4.7)\n",
      "Requirement already satisfied: zipp>=0.5 in /usr/local/lib/python3.7/dist-packages (from importlib-metadata->transformers) (3.6.0)\n",
      "Requirement already satisfied: urllib3!=1.25.0,!=1.25.1,<1.26,>=1.21.1 in /usr/local/lib/python3.7/dist-packages (from requests->transformers) (1.24.3)\n",
      "Requirement already satisfied: certifi>=2017.4.17 in /usr/local/lib/python3.7/dist-packages (from requests->transformers) (2021.10.8)\n",
      "Requirement already satisfied: idna<3,>=2.5 in /usr/local/lib/python3.7/dist-packages (from requests->transformers) (2.10)\n",
      "Requirement already satisfied: chardet<4,>=3.0.2 in /usr/local/lib/python3.7/dist-packages (from requests->transformers) (3.0.4)\n",
      "Requirement already satisfied: click in /usr/local/lib/python3.7/dist-packages (from sacremoses->transformers) (7.1.2)\n",
      "Requirement already satisfied: joblib in /usr/local/lib/python3.7/dist-packages (from sacremoses->transformers) (1.1.0)\n",
      "Requirement already satisfied: six in /usr/local/lib/python3.7/dist-packages (from sacremoses->transformers) (1.15.0)\n"
     ]
    }
   ],
   "source": [
    "!pip install transformers"
   ]
  },
  {
   "cell_type": "code",
   "execution_count": null,
   "metadata": {
    "id": "195RgCBDe0zt"
   },
   "outputs": [],
   "source": [
    "# model_name='vinai/bertweet-base'\n",
    "# model_name='bert-base-cased'\n",
    "model_name='/content/drive/MyDrive/EWS/repretrainbertweet'"
   ]
  },
  {
   "cell_type": "code",
   "execution_count": null,
   "metadata": {
    "id": "jS1Mqoqdvcmy"
   },
   "outputs": [],
   "source": [
    "import transformers\n",
    "from transformers import TrainingArguments, AutoModelForSequenceClassification, AutoTokenizer,Trainer, DataCollatorWithPadding, default_data_collator, EarlyStoppingCallback\n",
    "from datasets import load_dataset, DatasetDict "
   ]
  },
  {
   "cell_type": "code",
   "execution_count": null,
   "metadata": {
    "colab": {
     "base_uri": "https://localhost:8080/",
     "height": 183,
     "referenced_widgets": [
      "b60f6c3051b94234be38bce65fa24ddb",
      "ec7a9481821440bd9b498ed230fdabb1",
      "9ccdb9785665469e93a8ec953eb9cbc5",
      "94c2dbb415f54010836dab1b5090e29a",
      "342595fe3e0c4403ae3f084d3660ebf6",
      "a6443665566341eea97416a40095520b",
      "219150e8f68844e79ea39f743193e1fc",
      "0e62447c0ed5465dae36ae7efbc165d4",
      "a8c004afda604ec2a3b1ce61c7cd1ce7",
      "350d1a235c56465b8a7dd936b078fe9d",
      "93fec578b9b24d319dc6321319a6ece6",
      "451c3bb7d84745298c15aff940377282",
      "4cfaf16f556141f78025687862d6e83f",
      "f179ca3ae975489886b8f756fd25ebc9",
      "c14424d6610d4092b693ecfb8420ab85",
      "167032e5c279470088bfd9787ffc1f43",
      "8cde0393a1ed4a0abc1d2fd3cbb5018e",
      "25550cf137ed4baa86cb436aaf6d70e7",
      "3e9c95768f4148fba709d88e4c8194e9",
      "6496b90a0e664ca0ab4167dee861abb3",
      "e375cb9bd77042ce83edf3466f42d606",
      "24bac099e2d84014890cd14d8e10ec5b",
      "42f11e0a053a4d679d441d6d0ef85865",
      "a4b3b3bc726a4cbfb5bb25adffff0048",
      "f53974c7648d45ff90f3bcae3e2c4f49",
      "5f89c2e8300741c691bc750dfe9fb724",
      "bc1f6b9e49724f4889444e8d512488cd",
      "3c2c495c4549446daadc692fcd5dc438",
      "9cb5c0dc2f984cf7aedcafe95ab97974",
      "3cda833562bb41f58d943a0bdeed62b6",
      "95eb63e41e9647dcaa8eab029d89bb17",
      "29017ad36b6846319c2ddef2788f15c6",
      "f453b6526f074bd0b53357a29d7a8657"
     ]
    },
    "executionInfo": {
     "elapsed": 913,
     "status": "ok",
     "timestamp": 1636737576280,
     "user": {
      "displayName": "Juan Alberto Arguello Garcia Pertusa",
      "photoUrl": "https://lh3.googleusercontent.com/a-/AOh14GgLNEssX-ZQ-3Wt21S35bSF4i8fDxb0sYwOKN6fjZdCGwyOSfhMFvAQ1UK3eBgEEMRvdXTIPi_toS8mrBJVBrh6nL2HBoRx4GFfZEgsqg-dybjyTTdUmdEKiu28y4qWKa_MfiUdINIpvp2H0XFbxKAvXYIUgAuwosan_sZ90lqXKduxKUNhQFQNm7AtLBxmQocFxa9lMw3e81yu_LnH1gMgy0BZqX98JkYD8Y6OeZpCpHNfCY8PdgFGTkd9T525ClQsm3NMjO2XoCbLAxinM-LUfPucjpKrPburF-lSAdi1UBbvrY2dGxzU6unNCVQdRV1JZhEgT4PC_DSSppMkPOdca_0ojf5cu4BkGCRd7EdfDDRP32kJuNGj8a1UZMW293DJRslrl4rxUJUZFOw7ZRTgsINR8d2EIyC78OFvW6oIfAqYZEg0fEw_F7v9KMBKidAgx0bR3qu5RjIY9HMHecjbr9rN7DyDScVfElKZ2fwHcnK2lhQrYcdZCfvqYDSZKl6e7nwABn1aq03nUn-pRUZyCRYQ6g3EfM5liOMpa-JP5Ab6nUHHRnYvGRUsyEw9izJR7TP0u_aVkBi51jK-wywGmz2RFIkF-Btte-1Vv2j4mkqrwRNuUqtn8v5NNE2N-141RaT839OGMOZWAqk3iSyIFsOrdjNeXsYPoAFbb2BZyFs3m02vIb-kRMrlQDbaQmrMSPPL2HfSXRgy5U9g2CKe4ak80dfZaX5xYEMa4BlHAANSm8DhC-opLInCtMLDBFelJw=s64",
      "userId": "11559378201574576734"
     },
     "user_tz": 300
    },
    "id": "8ZciKZvFwEBE",
    "outputId": "f3047c1a-fb9c-48f6-c1c7-45bd8e339dc2"
   },
   "outputs": [
    {
     "name": "stderr",
     "output_type": "stream",
     "text": [
      "Using custom data configuration default-a157e4b6914d4887\n"
     ]
    },
    {
     "name": "stdout",
     "output_type": "stream",
     "text": [
      "Downloading and preparing dataset csv/default to /root/.cache/huggingface/datasets/csv/default-a157e4b6914d4887/0.0.0/bf68a4c4aefa545d0712b2fcbb1b327f905bbe2f6425fbc5e8c25234acb9e14a...\n"
     ]
    },
    {
     "data": {
      "application/vnd.jupyter.widget-view+json": {
       "model_id": "b60f6c3051b94234be38bce65fa24ddb",
       "version_major": 2,
       "version_minor": 0
      },
      "text/plain": [
       "  0%|          | 0/1 [00:00<?, ?it/s]"
      ]
     },
     "metadata": {},
     "output_type": "display_data"
    },
    {
     "data": {
      "application/vnd.jupyter.widget-view+json": {
       "model_id": "451c3bb7d84745298c15aff940377282",
       "version_major": 2,
       "version_minor": 0
      },
      "text/plain": [
       "  0%|          | 0/1 [00:00<?, ?it/s]"
      ]
     },
     "metadata": {},
     "output_type": "display_data"
    },
    {
     "name": "stdout",
     "output_type": "stream",
     "text": [
      "Dataset csv downloaded and prepared to /root/.cache/huggingface/datasets/csv/default-a157e4b6914d4887/0.0.0/bf68a4c4aefa545d0712b2fcbb1b327f905bbe2f6425fbc5e8c25234acb9e14a. Subsequent calls will reuse this data.\n"
     ]
    },
    {
     "data": {
      "application/vnd.jupyter.widget-view+json": {
       "model_id": "42f11e0a053a4d679d441d6d0ef85865",
       "version_major": 2,
       "version_minor": 0
      },
      "text/plain": [
       "  0%|          | 0/1 [00:00<?, ?it/s]"
      ]
     },
     "metadata": {},
     "output_type": "display_data"
    }
   ],
   "source": [
    "dataset=load_dataset('csv',data_files={'train':'/content/drive/MyDrive/EWS/Twitter/LABEL TWEETS/twitter_data_labeled/phase2_1.csv'})"
   ]
  },
  {
   "cell_type": "code",
   "execution_count": null,
   "metadata": {
    "colab": {
     "base_uri": "https://localhost:8080/"
    },
    "executionInfo": {
     "elapsed": 143,
     "status": "ok",
     "timestamp": 1636737578785,
     "user": {
      "displayName": "Juan Alberto Arguello Garcia Pertusa",
      "photoUrl": "https://lh3.googleusercontent.com/a-/AOh14GgLNEssX-ZQ-3Wt21S35bSF4i8fDxb0sYwOKN6fjZdCGwyOSfhMFvAQ1UK3eBgEEMRvdXTIPi_toS8mrBJVBrh6nL2HBoRx4GFfZEgsqg-dybjyTTdUmdEKiu28y4qWKa_MfiUdINIpvp2H0XFbxKAvXYIUgAuwosan_sZ90lqXKduxKUNhQFQNm7AtLBxmQocFxa9lMw3e81yu_LnH1gMgy0BZqX98JkYD8Y6OeZpCpHNfCY8PdgFGTkd9T525ClQsm3NMjO2XoCbLAxinM-LUfPucjpKrPburF-lSAdi1UBbvrY2dGxzU6unNCVQdRV1JZhEgT4PC_DSSppMkPOdca_0ojf5cu4BkGCRd7EdfDDRP32kJuNGj8a1UZMW293DJRslrl4rxUJUZFOw7ZRTgsINR8d2EIyC78OFvW6oIfAqYZEg0fEw_F7v9KMBKidAgx0bR3qu5RjIY9HMHecjbr9rN7DyDScVfElKZ2fwHcnK2lhQrYcdZCfvqYDSZKl6e7nwABn1aq03nUn-pRUZyCRYQ6g3EfM5liOMpa-JP5Ab6nUHHRnYvGRUsyEw9izJR7TP0u_aVkBi51jK-wywGmz2RFIkF-Btte-1Vv2j4mkqrwRNuUqtn8v5NNE2N-141RaT839OGMOZWAqk3iSyIFsOrdjNeXsYPoAFbb2BZyFs3m02vIb-kRMrlQDbaQmrMSPPL2HfSXRgy5U9g2CKe4ak80dfZaX5xYEMa4BlHAANSm8DhC-opLInCtMLDBFelJw=s64",
      "userId": "11559378201574576734"
     },
     "user_tz": 300
    },
    "id": "Eruxblw0yB1V",
    "outputId": "a1b7c13e-bb5a-4e02-934c-dc398d548654"
   },
   "outputs": [
    {
     "data": {
      "text/plain": [
       "DatasetDict({\n",
       "    train: Dataset({\n",
       "        features: ['ID', 'date', 'tweet', 'brand', 'relevance', 'label', 'check', 'flag'],\n",
       "        num_rows: 71316\n",
       "    })\n",
       "})"
      ]
     },
     "execution_count": 12,
     "metadata": {},
     "output_type": "execute_result"
    }
   ],
   "source": [
    "dataset"
   ]
  },
  {
   "cell_type": "code",
   "execution_count": null,
   "metadata": {
    "colab": {
     "base_uri": "https://localhost:8080/"
    },
    "executionInfo": {
     "elapsed": 105,
     "status": "ok",
     "timestamp": 1636737581058,
     "user": {
      "displayName": "Juan Alberto Arguello Garcia Pertusa",
      "photoUrl": "https://lh3.googleusercontent.com/a-/AOh14GgLNEssX-ZQ-3Wt21S35bSF4i8fDxb0sYwOKN6fjZdCGwyOSfhMFvAQ1UK3eBgEEMRvdXTIPi_toS8mrBJVBrh6nL2HBoRx4GFfZEgsqg-dybjyTTdUmdEKiu28y4qWKa_MfiUdINIpvp2H0XFbxKAvXYIUgAuwosan_sZ90lqXKduxKUNhQFQNm7AtLBxmQocFxa9lMw3e81yu_LnH1gMgy0BZqX98JkYD8Y6OeZpCpHNfCY8PdgFGTkd9T525ClQsm3NMjO2XoCbLAxinM-LUfPucjpKrPburF-lSAdi1UBbvrY2dGxzU6unNCVQdRV1JZhEgT4PC_DSSppMkPOdca_0ojf5cu4BkGCRd7EdfDDRP32kJuNGj8a1UZMW293DJRslrl4rxUJUZFOw7ZRTgsINR8d2EIyC78OFvW6oIfAqYZEg0fEw_F7v9KMBKidAgx0bR3qu5RjIY9HMHecjbr9rN7DyDScVfElKZ2fwHcnK2lhQrYcdZCfvqYDSZKl6e7nwABn1aq03nUn-pRUZyCRYQ6g3EfM5liOMpa-JP5Ab6nUHHRnYvGRUsyEw9izJR7TP0u_aVkBi51jK-wywGmz2RFIkF-Btte-1Vv2j4mkqrwRNuUqtn8v5NNE2N-141RaT839OGMOZWAqk3iSyIFsOrdjNeXsYPoAFbb2BZyFs3m02vIb-kRMrlQDbaQmrMSPPL2HfSXRgy5U9g2CKe4ak80dfZaX5xYEMa4BlHAANSm8DhC-opLInCtMLDBFelJw=s64",
      "userId": "11559378201574576734"
     },
     "user_tz": 300
    },
    "id": "C5ZlZx-vkIJH",
    "outputId": "05f4c85d-f8ba-4a88-e1c8-36e17cfdc814"
   },
   "outputs": [
    {
     "data": {
      "text/plain": [
       "1.0"
      ]
     },
     "execution_count": 13,
     "metadata": {},
     "output_type": "execute_result"
    }
   ],
   "source": [
    "dataset['train'][1]['label']"
   ]
  },
  {
   "cell_type": "code",
   "execution_count": null,
   "metadata": {
    "colab": {
     "base_uri": "https://localhost:8080/"
    },
    "executionInfo": {
     "elapsed": 13013,
     "status": "ok",
     "timestamp": 1636737594729,
     "user": {
      "displayName": "Juan Alberto Arguello Garcia Pertusa",
      "photoUrl": "https://lh3.googleusercontent.com/a-/AOh14GgLNEssX-ZQ-3Wt21S35bSF4i8fDxb0sYwOKN6fjZdCGwyOSfhMFvAQ1UK3eBgEEMRvdXTIPi_toS8mrBJVBrh6nL2HBoRx4GFfZEgsqg-dybjyTTdUmdEKiu28y4qWKa_MfiUdINIpvp2H0XFbxKAvXYIUgAuwosan_sZ90lqXKduxKUNhQFQNm7AtLBxmQocFxa9lMw3e81yu_LnH1gMgy0BZqX98JkYD8Y6OeZpCpHNfCY8PdgFGTkd9T525ClQsm3NMjO2XoCbLAxinM-LUfPucjpKrPburF-lSAdi1UBbvrY2dGxzU6unNCVQdRV1JZhEgT4PC_DSSppMkPOdca_0ojf5cu4BkGCRd7EdfDDRP32kJuNGj8a1UZMW293DJRslrl4rxUJUZFOw7ZRTgsINR8d2EIyC78OFvW6oIfAqYZEg0fEw_F7v9KMBKidAgx0bR3qu5RjIY9HMHecjbr9rN7DyDScVfElKZ2fwHcnK2lhQrYcdZCfvqYDSZKl6e7nwABn1aq03nUn-pRUZyCRYQ6g3EfM5liOMpa-JP5Ab6nUHHRnYvGRUsyEw9izJR7TP0u_aVkBi51jK-wywGmz2RFIkF-Btte-1Vv2j4mkqrwRNuUqtn8v5NNE2N-141RaT839OGMOZWAqk3iSyIFsOrdjNeXsYPoAFbb2BZyFs3m02vIb-kRMrlQDbaQmrMSPPL2HfSXRgy5U9g2CKe4ak80dfZaX5xYEMa4BlHAANSm8DhC-opLInCtMLDBFelJw=s64",
      "userId": "11559378201574576734"
     },
     "user_tz": 300
    },
    "id": "p1WxkKk4kd3G",
    "outputId": "4c53a490-41c8-4338-d50c-b1a6fb0d7522"
   },
   "outputs": [
    {
     "data": {
      "text/plain": [
       "{0.0, 1.0, 2.0, None}"
      ]
     },
     "execution_count": 14,
     "metadata": {},
     "output_type": "execute_result"
    }
   ],
   "source": [
    "set([dataset['train'][i]['label'] for i in range(len(dataset['train']))])"
   ]
  },
  {
   "cell_type": "code",
   "execution_count": null,
   "metadata": {
    "colab": {
     "base_uri": "https://localhost:8080/",
     "height": 49,
     "referenced_widgets": [
      "61082609313147fa80e292dc36d62e87",
      "d7847a7ce0974bac97bccc758b65df02",
      "e67376dd1a9d418289bdae91f54b37ca",
      "e2f6c41ae37a4d16918a9bce271ac1d9",
      "294971410aa749f08d31940d8b3ba16a",
      "3b74b631431c4f1db51572c0cdb6f849",
      "351546279c884212b71cbf5fb2a55456",
      "af4af6c61d0f491782e556dfe17ad66e",
      "cdb81518af1b40f98e6655f570bf87e4",
      "e16bdc74031e49359c30fa4175862013",
      "fa0e2667c8574b788a3808582cd10019"
     ]
    },
    "executionInfo": {
     "elapsed": 1606,
     "status": "ok",
     "timestamp": 1636737596327,
     "user": {
      "displayName": "Juan Alberto Arguello Garcia Pertusa",
      "photoUrl": "https://lh3.googleusercontent.com/a-/AOh14GgLNEssX-ZQ-3Wt21S35bSF4i8fDxb0sYwOKN6fjZdCGwyOSfhMFvAQ1UK3eBgEEMRvdXTIPi_toS8mrBJVBrh6nL2HBoRx4GFfZEgsqg-dybjyTTdUmdEKiu28y4qWKa_MfiUdINIpvp2H0XFbxKAvXYIUgAuwosan_sZ90lqXKduxKUNhQFQNm7AtLBxmQocFxa9lMw3e81yu_LnH1gMgy0BZqX98JkYD8Y6OeZpCpHNfCY8PdgFGTkd9T525ClQsm3NMjO2XoCbLAxinM-LUfPucjpKrPburF-lSAdi1UBbvrY2dGxzU6unNCVQdRV1JZhEgT4PC_DSSppMkPOdca_0ojf5cu4BkGCRd7EdfDDRP32kJuNGj8a1UZMW293DJRslrl4rxUJUZFOw7ZRTgsINR8d2EIyC78OFvW6oIfAqYZEg0fEw_F7v9KMBKidAgx0bR3qu5RjIY9HMHecjbr9rN7DyDScVfElKZ2fwHcnK2lhQrYcdZCfvqYDSZKl6e7nwABn1aq03nUn-pRUZyCRYQ6g3EfM5liOMpa-JP5Ab6nUHHRnYvGRUsyEw9izJR7TP0u_aVkBi51jK-wywGmz2RFIkF-Btte-1Vv2j4mkqrwRNuUqtn8v5NNE2N-141RaT839OGMOZWAqk3iSyIFsOrdjNeXsYPoAFbb2BZyFs3m02vIb-kRMrlQDbaQmrMSPPL2HfSXRgy5U9g2CKe4ak80dfZaX5xYEMa4BlHAANSm8DhC-opLInCtMLDBFelJw=s64",
      "userId": "11559378201574576734"
     },
     "user_tz": 300
    },
    "id": "3laSOMWbkyQc",
    "outputId": "12883aed-12a1-4e9e-88bf-463a452bf278"
   },
   "outputs": [
    {
     "data": {
      "application/vnd.jupyter.widget-view+json": {
       "model_id": "61082609313147fa80e292dc36d62e87",
       "version_major": 2,
       "version_minor": 0
      },
      "text/plain": [
       "  0%|          | 0/72 [00:00<?, ?ba/s]"
      ]
     },
     "metadata": {},
     "output_type": "display_data"
    }
   ],
   "source": [
    "dataset=dataset.filter(lambda x: x['label'] is not None)"
   ]
  },
  {
   "cell_type": "code",
   "execution_count": null,
   "metadata": {
    "id": "-IyUYDpWkQ4B"
   },
   "outputs": [],
   "source": [
    "# def change_labels(example):\n",
    "#   if example['label'] is not None:\n",
    "#     example['label']=int(example['label'])"
   ]
  },
  {
   "cell_type": "code",
   "execution_count": null,
   "metadata": {
    "id": "BSMxAae4V9Fm"
   },
   "outputs": [],
   "source": [
    "# [row['tweet'] for row in dataset['train'] if not isinstance(row['tweet'],str)]"
   ]
  },
  {
   "cell_type": "code",
   "execution_count": null,
   "metadata": {
    "id": "rAIL7ovzcMZp"
   },
   "outputs": [],
   "source": []
  },
  {
   "cell_type": "code",
   "execution_count": null,
   "metadata": {
    "id": "GwM2VR7TyEXp"
   },
   "outputs": [],
   "source": [
    "dataset_train_test=dataset['train'].train_test_split(test_size=0.1,seed=42)"
   ]
  },
  {
   "cell_type": "code",
   "execution_count": null,
   "metadata": {
    "id": "2fe4mfF4yyae"
   },
   "outputs": [],
   "source": [
    "dataset_train_val=dataset_train_test['train'].train_test_split(test_size=0.12,seed=42)"
   ]
  },
  {
   "cell_type": "code",
   "execution_count": null,
   "metadata": {
    "id": "qlOrTbpmzHfb"
   },
   "outputs": [],
   "source": [
    "dataset=DatasetDict(\n",
    "    {\n",
    "        'train':dataset_train_val['train'],\n",
    "        'validation':dataset_train_val['test'],\n",
    "        'test': dataset_train_test['test']\n",
    "    }\n",
    ")"
   ]
  },
  {
   "cell_type": "code",
   "execution_count": null,
   "metadata": {
    "colab": {
     "base_uri": "https://localhost:8080/"
    },
    "executionInfo": {
     "elapsed": 10,
     "status": "ok",
     "timestamp": 1636737596446,
     "user": {
      "displayName": "Juan Alberto Arguello Garcia Pertusa",
      "photoUrl": "https://lh3.googleusercontent.com/a-/AOh14GgLNEssX-ZQ-3Wt21S35bSF4i8fDxb0sYwOKN6fjZdCGwyOSfhMFvAQ1UK3eBgEEMRvdXTIPi_toS8mrBJVBrh6nL2HBoRx4GFfZEgsqg-dybjyTTdUmdEKiu28y4qWKa_MfiUdINIpvp2H0XFbxKAvXYIUgAuwosan_sZ90lqXKduxKUNhQFQNm7AtLBxmQocFxa9lMw3e81yu_LnH1gMgy0BZqX98JkYD8Y6OeZpCpHNfCY8PdgFGTkd9T525ClQsm3NMjO2XoCbLAxinM-LUfPucjpKrPburF-lSAdi1UBbvrY2dGxzU6unNCVQdRV1JZhEgT4PC_DSSppMkPOdca_0ojf5cu4BkGCRd7EdfDDRP32kJuNGj8a1UZMW293DJRslrl4rxUJUZFOw7ZRTgsINR8d2EIyC78OFvW6oIfAqYZEg0fEw_F7v9KMBKidAgx0bR3qu5RjIY9HMHecjbr9rN7DyDScVfElKZ2fwHcnK2lhQrYcdZCfvqYDSZKl6e7nwABn1aq03nUn-pRUZyCRYQ6g3EfM5liOMpa-JP5Ab6nUHHRnYvGRUsyEw9izJR7TP0u_aVkBi51jK-wywGmz2RFIkF-Btte-1Vv2j4mkqrwRNuUqtn8v5NNE2N-141RaT839OGMOZWAqk3iSyIFsOrdjNeXsYPoAFbb2BZyFs3m02vIb-kRMrlQDbaQmrMSPPL2HfSXRgy5U9g2CKe4ak80dfZaX5xYEMa4BlHAANSm8DhC-opLInCtMLDBFelJw=s64",
      "userId": "11559378201574576734"
     },
     "user_tz": 300
    },
    "id": "mlIrvQ18zkKm",
    "outputId": "71a045be-449e-4e62-d53f-6ecb9887f6a6"
   },
   "outputs": [
    {
     "data": {
      "text/plain": [
       "DatasetDict({\n",
       "    train: Dataset({\n",
       "        features: ['ID', 'date', 'tweet', 'brand', 'relevance', 'label', 'check', 'flag'],\n",
       "        num_rows: 2782\n",
       "    })\n",
       "    validation: Dataset({\n",
       "        features: ['ID', 'date', 'tweet', 'brand', 'relevance', 'label', 'check', 'flag'],\n",
       "        num_rows: 380\n",
       "    })\n",
       "    test: Dataset({\n",
       "        features: ['ID', 'date', 'tweet', 'brand', 'relevance', 'label', 'check', 'flag'],\n",
       "        num_rows: 352\n",
       "    })\n",
       "})"
      ]
     },
     "execution_count": 19,
     "metadata": {},
     "output_type": "execute_result"
    }
   ],
   "source": [
    "dataset"
   ]
  },
  {
   "cell_type": "code",
   "execution_count": null,
   "metadata": {
    "colab": {
     "base_uri": "https://localhost:8080/"
    },
    "executionInfo": {
     "elapsed": 2371,
     "status": "ok",
     "timestamp": 1636737598810,
     "user": {
      "displayName": "Juan Alberto Arguello Garcia Pertusa",
      "photoUrl": "https://lh3.googleusercontent.com/a-/AOh14GgLNEssX-ZQ-3Wt21S35bSF4i8fDxb0sYwOKN6fjZdCGwyOSfhMFvAQ1UK3eBgEEMRvdXTIPi_toS8mrBJVBrh6nL2HBoRx4GFfZEgsqg-dybjyTTdUmdEKiu28y4qWKa_MfiUdINIpvp2H0XFbxKAvXYIUgAuwosan_sZ90lqXKduxKUNhQFQNm7AtLBxmQocFxa9lMw3e81yu_LnH1gMgy0BZqX98JkYD8Y6OeZpCpHNfCY8PdgFGTkd9T525ClQsm3NMjO2XoCbLAxinM-LUfPucjpKrPburF-lSAdi1UBbvrY2dGxzU6unNCVQdRV1JZhEgT4PC_DSSppMkPOdca_0ojf5cu4BkGCRd7EdfDDRP32kJuNGj8a1UZMW293DJRslrl4rxUJUZFOw7ZRTgsINR8d2EIyC78OFvW6oIfAqYZEg0fEw_F7v9KMBKidAgx0bR3qu5RjIY9HMHecjbr9rN7DyDScVfElKZ2fwHcnK2lhQrYcdZCfvqYDSZKl6e7nwABn1aq03nUn-pRUZyCRYQ6g3EfM5liOMpa-JP5Ab6nUHHRnYvGRUsyEw9izJR7TP0u_aVkBi51jK-wywGmz2RFIkF-Btte-1Vv2j4mkqrwRNuUqtn8v5NNE2N-141RaT839OGMOZWAqk3iSyIFsOrdjNeXsYPoAFbb2BZyFs3m02vIb-kRMrlQDbaQmrMSPPL2HfSXRgy5U9g2CKe4ak80dfZaX5xYEMa4BlHAANSm8DhC-opLInCtMLDBFelJw=s64",
      "userId": "11559378201574576734"
     },
     "user_tz": 300
    },
    "id": "cKRq0vKlzmV0",
    "outputId": "0ec94b30-efd1-418c-a295-ea1980fc25c8"
   },
   "outputs": [
    {
     "name": "stderr",
     "output_type": "stream",
     "text": [
      "emoji is not installed, thus not converting emoticons or emojis into text. Please install emoji: pip3 install emoji\n"
     ]
    }
   ],
   "source": [
    "# tokenizer=AutoTokenizer.from_pretrained('/content/drive/MyDrive/EWS/repretrainbertweet',use_fast=True)\n",
    "tokenizer=AutoTokenizer.from_pretrained(model_name,use_fast=True)"
   ]
  },
  {
   "cell_type": "code",
   "execution_count": null,
   "metadata": {
    "id": "IsJRjRYH1J4K"
   },
   "outputs": [],
   "source": [
    "def process_data(examples):\n",
    "  tokenized=tokenizer(examples['tweet'],truncation=True)#padding=True)#,max_length=130)\n",
    "  tokenized['label']=[int(label) for label in examples['label']] \n",
    "  return tokenized"
   ]
  },
  {
   "cell_type": "code",
   "execution_count": null,
   "metadata": {
    "colab": {
     "base_uri": "https://localhost:8080/"
    },
    "executionInfo": {
     "elapsed": 109,
     "status": "ok",
     "timestamp": 1636737602356,
     "user": {
      "displayName": "Juan Alberto Arguello Garcia Pertusa",
      "photoUrl": "https://lh3.googleusercontent.com/a-/AOh14GgLNEssX-ZQ-3Wt21S35bSF4i8fDxb0sYwOKN6fjZdCGwyOSfhMFvAQ1UK3eBgEEMRvdXTIPi_toS8mrBJVBrh6nL2HBoRx4GFfZEgsqg-dybjyTTdUmdEKiu28y4qWKa_MfiUdINIpvp2H0XFbxKAvXYIUgAuwosan_sZ90lqXKduxKUNhQFQNm7AtLBxmQocFxa9lMw3e81yu_LnH1gMgy0BZqX98JkYD8Y6OeZpCpHNfCY8PdgFGTkd9T525ClQsm3NMjO2XoCbLAxinM-LUfPucjpKrPburF-lSAdi1UBbvrY2dGxzU6unNCVQdRV1JZhEgT4PC_DSSppMkPOdca_0ojf5cu4BkGCRd7EdfDDRP32kJuNGj8a1UZMW293DJRslrl4rxUJUZFOw7ZRTgsINR8d2EIyC78OFvW6oIfAqYZEg0fEw_F7v9KMBKidAgx0bR3qu5RjIY9HMHecjbr9rN7DyDScVfElKZ2fwHcnK2lhQrYcdZCfvqYDSZKl6e7nwABn1aq03nUn-pRUZyCRYQ6g3EfM5liOMpa-JP5Ab6nUHHRnYvGRUsyEw9izJR7TP0u_aVkBi51jK-wywGmz2RFIkF-Btte-1Vv2j4mkqrwRNuUqtn8v5NNE2N-141RaT839OGMOZWAqk3iSyIFsOrdjNeXsYPoAFbb2BZyFs3m02vIb-kRMrlQDbaQmrMSPPL2HfSXRgy5U9g2CKe4ak80dfZaX5xYEMa4BlHAANSm8DhC-opLInCtMLDBFelJw=s64",
      "userId": "11559378201574576734"
     },
     "user_tz": 300
    },
    "id": "Xd0nI-ELnWat",
    "outputId": "9524220b-da78-41a9-b390-0ab0ee7a3037"
   },
   "outputs": [
    {
     "data": {
      "text/plain": [
       "{0.0, 1.0, 2.0}"
      ]
     },
     "execution_count": 22,
     "metadata": {},
     "output_type": "execute_result"
    }
   ],
   "source": [
    "set(dataset['train'][:]['label'])"
   ]
  },
  {
   "cell_type": "code",
   "execution_count": null,
   "metadata": {
    "id": "hTJAjV85i9uj"
   },
   "outputs": [],
   "source": [
    "# dataset['train'][20]['tweet']"
   ]
  },
  {
   "cell_type": "code",
   "execution_count": null,
   "metadata": {
    "colab": {
     "base_uri": "https://localhost:8080/",
     "height": 35
    },
    "executionInfo": {
     "elapsed": 16,
     "status": "ok",
     "timestamp": 1636737608066,
     "user": {
      "displayName": "Juan Alberto Arguello Garcia Pertusa",
      "photoUrl": "https://lh3.googleusercontent.com/a-/AOh14GgLNEssX-ZQ-3Wt21S35bSF4i8fDxb0sYwOKN6fjZdCGwyOSfhMFvAQ1UK3eBgEEMRvdXTIPi_toS8mrBJVBrh6nL2HBoRx4GFfZEgsqg-dybjyTTdUmdEKiu28y4qWKa_MfiUdINIpvp2H0XFbxKAvXYIUgAuwosan_sZ90lqXKduxKUNhQFQNm7AtLBxmQocFxa9lMw3e81yu_LnH1gMgy0BZqX98JkYD8Y6OeZpCpHNfCY8PdgFGTkd9T525ClQsm3NMjO2XoCbLAxinM-LUfPucjpKrPburF-lSAdi1UBbvrY2dGxzU6unNCVQdRV1JZhEgT4PC_DSSppMkPOdca_0ojf5cu4BkGCRd7EdfDDRP32kJuNGj8a1UZMW293DJRslrl4rxUJUZFOw7ZRTgsINR8d2EIyC78OFvW6oIfAqYZEg0fEw_F7v9KMBKidAgx0bR3qu5RjIY9HMHecjbr9rN7DyDScVfElKZ2fwHcnK2lhQrYcdZCfvqYDSZKl6e7nwABn1aq03nUn-pRUZyCRYQ6g3EfM5liOMpa-JP5Ab6nUHHRnYvGRUsyEw9izJR7TP0u_aVkBi51jK-wywGmz2RFIkF-Btte-1Vv2j4mkqrwRNuUqtn8v5NNE2N-141RaT839OGMOZWAqk3iSyIFsOrdjNeXsYPoAFbb2BZyFs3m02vIb-kRMrlQDbaQmrMSPPL2HfSXRgy5U9g2CKe4ak80dfZaX5xYEMa4BlHAANSm8DhC-opLInCtMLDBFelJw=s64",
      "userId": "11559378201574576734"
     },
     "user_tz": 300
    },
    "id": "Tm-D80BRczJF",
    "outputId": "97823d54-9542-4b0b-c796-2f24e15cbf87"
   },
   "outputs": [
    {
     "data": {
      "application/vnd.google.colaboratory.intrinsic+json": {
       "type": "string"
      },
      "text/plain": [
       "'4.12.3'"
      ]
     },
     "execution_count": 24,
     "metadata": {},
     "output_type": "execute_result"
    }
   ],
   "source": [
    "import transformers\n",
    "transformers.__version__"
   ]
  },
  {
   "cell_type": "code",
   "execution_count": null,
   "metadata": {
    "id": "iPPqTJmRdACM"
   },
   "outputs": [],
   "source": [
    "# dataset=load_dataset('glue','cola')"
   ]
  },
  {
   "cell_type": "code",
   "execution_count": null,
   "metadata": {
    "colab": {
     "base_uri": "https://localhost:8080/",
     "height": 113,
     "referenced_widgets": [
      "f49e85e853264088b14a31f7f368266d",
      "3644fef5e3c943b4af7dd474c035d14d",
      "235d99928bef438cbd04f8d9d6c55a2d",
      "e3e85be79e064e39befa6ac24894dbe6",
      "5a0b2d8e15b34858be780c63e792097a",
      "2b8b7954bee64b7c8aecdc51d4f36113",
      "68231631c78049f6ae199d9a64df5098",
      "e89c8715bc0249de95032f01757664d0",
      "c395e68400a348d3b4c701d2cfab0674",
      "540a50229418480a98ead3e8f7016423",
      "c5fb8666bdb247ceabd09b73d09f8eed",
      "7eadeb8243f041fbb1fdada8dad40fef",
      "c18a41a1cdf24aa68aa55b1621182883",
      "8973f7ee6812428b91bebb5362c3bb16",
      "36a487e849bf480c9899c8233d5fc8b0",
      "388e9407899840dc99d08f6b095809a1",
      "a8245ce78d494e34a34483ec8c46e900",
      "26de1bf52d57461cb80638eb58c5f27e",
      "49da1ee886e141cf8ffa94fee059e447",
      "cb4e4b84993c42c4b36698980bd318cb",
      "38e55b4c8dd8473e9d79fd979ab9a190",
      "572422587f3240d7bd2798b61bd5cd92",
      "415d79f5afeb4de3b7a730d5f2095b5f",
      "ccabb3baca434069afc3eb54fca6a336",
      "772c5eacc3f54cc2ad21a9179013e0e1",
      "87fa5fb3592e40a8be97a73fb47e8e78",
      "9b4d37a8b8904af196cbc6a25201bdff",
      "786426ff24fd4bd7bf8a201fe8842507",
      "5f7d36131c214a17baf91c80d1bb4038",
      "300f8d43073f44148e534d6d608f3589",
      "b2809760e3e646fa96ef52c4195e06a4",
      "3ce33d947fc74588a5be27bd9cfcec23",
      "e57b2ab897d244999f68eeb509a90c16"
     ]
    },
    "executionInfo": {
     "elapsed": 6470,
     "status": "ok",
     "timestamp": 1636737618786,
     "user": {
      "displayName": "Juan Alberto Arguello Garcia Pertusa",
      "photoUrl": "https://lh3.googleusercontent.com/a-/AOh14GgLNEssX-ZQ-3Wt21S35bSF4i8fDxb0sYwOKN6fjZdCGwyOSfhMFvAQ1UK3eBgEEMRvdXTIPi_toS8mrBJVBrh6nL2HBoRx4GFfZEgsqg-dybjyTTdUmdEKiu28y4qWKa_MfiUdINIpvp2H0XFbxKAvXYIUgAuwosan_sZ90lqXKduxKUNhQFQNm7AtLBxmQocFxa9lMw3e81yu_LnH1gMgy0BZqX98JkYD8Y6OeZpCpHNfCY8PdgFGTkd9T525ClQsm3NMjO2XoCbLAxinM-LUfPucjpKrPburF-lSAdi1UBbvrY2dGxzU6unNCVQdRV1JZhEgT4PC_DSSppMkPOdca_0ojf5cu4BkGCRd7EdfDDRP32kJuNGj8a1UZMW293DJRslrl4rxUJUZFOw7ZRTgsINR8d2EIyC78OFvW6oIfAqYZEg0fEw_F7v9KMBKidAgx0bR3qu5RjIY9HMHecjbr9rN7DyDScVfElKZ2fwHcnK2lhQrYcdZCfvqYDSZKl6e7nwABn1aq03nUn-pRUZyCRYQ6g3EfM5liOMpa-JP5Ab6nUHHRnYvGRUsyEw9izJR7TP0u_aVkBi51jK-wywGmz2RFIkF-Btte-1Vv2j4mkqrwRNuUqtn8v5NNE2N-141RaT839OGMOZWAqk3iSyIFsOrdjNeXsYPoAFbb2BZyFs3m02vIb-kRMrlQDbaQmrMSPPL2HfSXRgy5U9g2CKe4ak80dfZaX5xYEMa4BlHAANSm8DhC-opLInCtMLDBFelJw=s64",
      "userId": "11559378201574576734"
     },
     "user_tz": 300
    },
    "id": "4JNZuRcB2LXS",
    "outputId": "e320be55-d523-4f8c-9f9f-b3d39bba0cf3"
   },
   "outputs": [
    {
     "data": {
      "application/vnd.jupyter.widget-view+json": {
       "model_id": "f49e85e853264088b14a31f7f368266d",
       "version_major": 2,
       "version_minor": 0
      },
      "text/plain": [
       "  0%|          | 0/3 [00:00<?, ?ba/s]"
      ]
     },
     "metadata": {},
     "output_type": "display_data"
    },
    {
     "data": {
      "application/vnd.jupyter.widget-view+json": {
       "model_id": "7eadeb8243f041fbb1fdada8dad40fef",
       "version_major": 2,
       "version_minor": 0
      },
      "text/plain": [
       "  0%|          | 0/1 [00:00<?, ?ba/s]"
      ]
     },
     "metadata": {},
     "output_type": "display_data"
    },
    {
     "data": {
      "application/vnd.jupyter.widget-view+json": {
       "model_id": "415d79f5afeb4de3b7a730d5f2095b5f",
       "version_major": 2,
       "version_minor": 0
      },
      "text/plain": [
       "  0%|          | 0/1 [00:00<?, ?ba/s]"
      ]
     },
     "metadata": {},
     "output_type": "display_data"
    }
   ],
   "source": [
    "dataset=dataset.map(process_data,batched=True,remove_columns=dataset['train'].column_names,load_from_cache_file=False)"
   ]
  },
  {
   "cell_type": "code",
   "execution_count": null,
   "metadata": {
    "colab": {
     "base_uri": "https://localhost:8080/"
    },
    "executionInfo": {
     "elapsed": 105,
     "status": "ok",
     "timestamp": 1636737619975,
     "user": {
      "displayName": "Juan Alberto Arguello Garcia Pertusa",
      "photoUrl": "https://lh3.googleusercontent.com/a-/AOh14GgLNEssX-ZQ-3Wt21S35bSF4i8fDxb0sYwOKN6fjZdCGwyOSfhMFvAQ1UK3eBgEEMRvdXTIPi_toS8mrBJVBrh6nL2HBoRx4GFfZEgsqg-dybjyTTdUmdEKiu28y4qWKa_MfiUdINIpvp2H0XFbxKAvXYIUgAuwosan_sZ90lqXKduxKUNhQFQNm7AtLBxmQocFxa9lMw3e81yu_LnH1gMgy0BZqX98JkYD8Y6OeZpCpHNfCY8PdgFGTkd9T525ClQsm3NMjO2XoCbLAxinM-LUfPucjpKrPburF-lSAdi1UBbvrY2dGxzU6unNCVQdRV1JZhEgT4PC_DSSppMkPOdca_0ojf5cu4BkGCRd7EdfDDRP32kJuNGj8a1UZMW293DJRslrl4rxUJUZFOw7ZRTgsINR8d2EIyC78OFvW6oIfAqYZEg0fEw_F7v9KMBKidAgx0bR3qu5RjIY9HMHecjbr9rN7DyDScVfElKZ2fwHcnK2lhQrYcdZCfvqYDSZKl6e7nwABn1aq03nUn-pRUZyCRYQ6g3EfM5liOMpa-JP5Ab6nUHHRnYvGRUsyEw9izJR7TP0u_aVkBi51jK-wywGmz2RFIkF-Btte-1Vv2j4mkqrwRNuUqtn8v5NNE2N-141RaT839OGMOZWAqk3iSyIFsOrdjNeXsYPoAFbb2BZyFs3m02vIb-kRMrlQDbaQmrMSPPL2HfSXRgy5U9g2CKe4ak80dfZaX5xYEMa4BlHAANSm8DhC-opLInCtMLDBFelJw=s64",
      "userId": "11559378201574576734"
     },
     "user_tz": 300
    },
    "id": "bJootuz12szF",
    "outputId": "227d8122-fbf1-474e-a92a-246a24ec9cad"
   },
   "outputs": [
    {
     "data": {
      "text/plain": [
       "DatasetDict({\n",
       "    train: Dataset({\n",
       "        features: ['attention_mask', 'input_ids', 'label', 'token_type_ids'],\n",
       "        num_rows: 2782\n",
       "    })\n",
       "    validation: Dataset({\n",
       "        features: ['attention_mask', 'input_ids', 'label', 'token_type_ids'],\n",
       "        num_rows: 380\n",
       "    })\n",
       "    test: Dataset({\n",
       "        features: ['attention_mask', 'input_ids', 'label', 'token_type_ids'],\n",
       "        num_rows: 352\n",
       "    })\n",
       "})"
      ]
     },
     "execution_count": 27,
     "metadata": {},
     "output_type": "execute_result"
    }
   ],
   "source": [
    "dataset"
   ]
  },
  {
   "cell_type": "code",
   "execution_count": null,
   "metadata": {
    "colab": {
     "base_uri": "https://localhost:8080/"
    },
    "executionInfo": {
     "elapsed": 148,
     "status": "ok",
     "timestamp": 1636737622392,
     "user": {
      "displayName": "Juan Alberto Arguello Garcia Pertusa",
      "photoUrl": "https://lh3.googleusercontent.com/a-/AOh14GgLNEssX-ZQ-3Wt21S35bSF4i8fDxb0sYwOKN6fjZdCGwyOSfhMFvAQ1UK3eBgEEMRvdXTIPi_toS8mrBJVBrh6nL2HBoRx4GFfZEgsqg-dybjyTTdUmdEKiu28y4qWKa_MfiUdINIpvp2H0XFbxKAvXYIUgAuwosan_sZ90lqXKduxKUNhQFQNm7AtLBxmQocFxa9lMw3e81yu_LnH1gMgy0BZqX98JkYD8Y6OeZpCpHNfCY8PdgFGTkd9T525ClQsm3NMjO2XoCbLAxinM-LUfPucjpKrPburF-lSAdi1UBbvrY2dGxzU6unNCVQdRV1JZhEgT4PC_DSSppMkPOdca_0ojf5cu4BkGCRd7EdfDDRP32kJuNGj8a1UZMW293DJRslrl4rxUJUZFOw7ZRTgsINR8d2EIyC78OFvW6oIfAqYZEg0fEw_F7v9KMBKidAgx0bR3qu5RjIY9HMHecjbr9rN7DyDScVfElKZ2fwHcnK2lhQrYcdZCfvqYDSZKl6e7nwABn1aq03nUn-pRUZyCRYQ6g3EfM5liOMpa-JP5Ab6nUHHRnYvGRUsyEw9izJR7TP0u_aVkBi51jK-wywGmz2RFIkF-Btte-1Vv2j4mkqrwRNuUqtn8v5NNE2N-141RaT839OGMOZWAqk3iSyIFsOrdjNeXsYPoAFbb2BZyFs3m02vIb-kRMrlQDbaQmrMSPPL2HfSXRgy5U9g2CKe4ak80dfZaX5xYEMa4BlHAANSm8DhC-opLInCtMLDBFelJw=s64",
      "userId": "11559378201574576734"
     },
     "user_tz": 300
    },
    "id": "ipT9kjrWcQZ2",
    "outputId": "2e9362fc-ba52-4290-bbfc-7a3f0c1dcf2c"
   },
   "outputs": [
    {
     "data": {
      "text/plain": [
       "1.0"
      ]
     },
     "execution_count": 28,
     "metadata": {},
     "output_type": "execute_result"
    }
   ],
   "source": [
    "dataset['train'][1]['label']"
   ]
  },
  {
   "cell_type": "code",
   "execution_count": null,
   "metadata": {
    "id": "h50i-uJ-XdR-"
   },
   "outputs": [],
   "source": [
    "columns_to_return = ['input_ids', 'labels', 'attention_mask']\n",
    "# dataset.set_format(type='torch', columns=columns_to_return)\n"
   ]
  },
  {
   "cell_type": "code",
   "execution_count": null,
   "metadata": {
    "colab": {
     "base_uri": "https://localhost:8080/"
    },
    "executionInfo": {
     "elapsed": 139,
     "status": "ok",
     "timestamp": 1636739200712,
     "user": {
      "displayName": "Juan Alberto Arguello Garcia Pertusa",
      "photoUrl": "https://lh3.googleusercontent.com/a-/AOh14GgLNEssX-ZQ-3Wt21S35bSF4i8fDxb0sYwOKN6fjZdCGwyOSfhMFvAQ1UK3eBgEEMRvdXTIPi_toS8mrBJVBrh6nL2HBoRx4GFfZEgsqg-dybjyTTdUmdEKiu28y4qWKa_MfiUdINIpvp2H0XFbxKAvXYIUgAuwosan_sZ90lqXKduxKUNhQFQNm7AtLBxmQocFxa9lMw3e81yu_LnH1gMgy0BZqX98JkYD8Y6OeZpCpHNfCY8PdgFGTkd9T525ClQsm3NMjO2XoCbLAxinM-LUfPucjpKrPburF-lSAdi1UBbvrY2dGxzU6unNCVQdRV1JZhEgT4PC_DSSppMkPOdca_0ojf5cu4BkGCRd7EdfDDRP32kJuNGj8a1UZMW293DJRslrl4rxUJUZFOw7ZRTgsINR8d2EIyC78OFvW6oIfAqYZEg0fEw_F7v9KMBKidAgx0bR3qu5RjIY9HMHecjbr9rN7DyDScVfElKZ2fwHcnK2lhQrYcdZCfvqYDSZKl6e7nwABn1aq03nUn-pRUZyCRYQ6g3EfM5liOMpa-JP5Ab6nUHHRnYvGRUsyEw9izJR7TP0u_aVkBi51jK-wywGmz2RFIkF-Btte-1Vv2j4mkqrwRNuUqtn8v5NNE2N-141RaT839OGMOZWAqk3iSyIFsOrdjNeXsYPoAFbb2BZyFs3m02vIb-kRMrlQDbaQmrMSPPL2HfSXRgy5U9g2CKe4ak80dfZaX5xYEMa4BlHAANSm8DhC-opLInCtMLDBFelJw=s64",
      "userId": "11559378201574576734"
     },
     "user_tz": 300
    },
    "id": "7esArK6b24T7",
    "outputId": "96995e9c-1324-4510-aa7b-ca5c76a01958"
   },
   "outputs": [
    {
     "name": "stderr",
     "output_type": "stream",
     "text": [
      "PyTorch: setting up devices\n",
      "The default value for the training argument `--report_to` will change in v5 (from all installed integrations to none). In v5, you will need to use `--report_to all` to get the same behavior as now. You should start updating your code and make this info disappear :-).\n"
     ]
    }
   ],
   "source": [
    "args=TrainingArguments(\n",
    "    output_dir='/content/drive/MyDrive/EWS/Class_Model',\n",
    "    per_device_train_batch_size=32,\n",
    "    per_device_eval_batch_size=128,\n",
    "    gradient_accumulation_steps=2,\n",
    "    evaluation_strategy='epoch',\n",
    "    save_strategy='epoch',\n",
    "    # save_steps=200,\n",
    "    # logging_steps=200,\n",
    "    # eval_steps=200,\n",
    "    fp16 = True,\n",
    "    metric_for_best_model='eval_f1-score',\n",
    "    greater_is_better=True,\n",
    "    num_train_epochs=10,\n",
    "    save_total_limit=5,\n",
    "    load_best_model_at_end=True\n",
    ")"
   ]
  },
  {
   "cell_type": "code",
   "execution_count": null,
   "metadata": {
    "id": "AU1Mevcp5qCv"
   },
   "outputs": [],
   "source": [
    "from sklearn.metrics import classification_report"
   ]
  },
  {
   "cell_type": "code",
   "execution_count": null,
   "metadata": {
    "id": "sT5n9fte518e"
   },
   "outputs": [],
   "source": [
    "def compute_metrics(pred):\n",
    "  preds,labels=pred.predictions,pred.label_ids\n",
    "  preds=np.argmax(preds,axis=1)\n",
    "  return classification_report(labels,preds,output_dict=True)['macro avg']\n",
    "  # import fbeta_score from\n",
    "  #{f1-score:fbeta_score(labels,preds,2)\n",
    "  #probar esto"
   ]
  },
  {
   "cell_type": "code",
   "execution_count": null,
   "metadata": {
    "id": "7DZ-K5BCSka6"
   },
   "outputs": [],
   "source": [
    "# data_collator=DataCollatorWithPadding(tokenizer, padding='longest',max_length=512)"
   ]
  },
  {
   "cell_type": "code",
   "execution_count": null,
   "metadata": {
    "id": "l35ZS7rnnlA7"
   },
   "outputs": [],
   "source": [
    "# dataset\n",
    "# for split in ['train','validation','test']:\n",
    "#   for i in range(len(dataset[split])):\n",
    "#     dataset[split][i]['label']=int(dataset[split][i]['label'])"
   ]
  },
  {
   "cell_type": "code",
   "execution_count": null,
   "metadata": {
    "colab": {
     "base_uri": "https://localhost:8080/",
     "height": 113,
     "referenced_widgets": [
      "0a2a9a609b524b01b4c4c246f631d9a6",
      "30ab3865395743328ae651eee7f16308",
      "430628947b6048ec848e829810eff2f8",
      "7a7d89d4462f40bd9df3f39062973492",
      "dc655aaa939c433aab07d76afc7840a6",
      "f079826b1d034c5399fa037698fb7faa",
      "702d8160c8c542a58201dbef3e390c78",
      "cdad531fe1fa4bd79181aafe358bcf0f",
      "589ee40fddba4cc6854d821cfb0ee495",
      "b0bbf4babc0b408f80a71c8b410d1208",
      "6488504819a84c97b4fcd918a60d9a31",
      "490b25bd4ce74cec9cf7fcd43dbac5c6",
      "c13264478ed541a197aa5729da73b6b0",
      "d70a98571cca45f2a98bab40ea9ad864",
      "89734883b73d41f5968a25c9beeb2541",
      "54d4e8c44140455e9e51afa6e8929589",
      "814d0af6161a448abfaaff8e56490d14",
      "562a08e3e1364467acfdbfbaaef6f185",
      "db5b5ba025484d9890cec48954178fb0",
      "216184b52bda47188aba63583d274f03",
      "c113380bc78e4d9bba91a6dd4188f4d9",
      "a720dbd40ba64d38975f96ddbbecbe6e",
      "54a43c72585f4ba0b3eef110a13eb97f",
      "8eac79885970422ebda743ea5ef65b65",
      "f995e4768ea6419d92611ba0a3e3a9cd",
      "e767f2eb1c8a481cb75fa6d802beb944",
      "bedcee58684c476d8dce8c74d3421719",
      "807c03e1409b47c28f28421a5237c1c5",
      "fd1c742f9338470ea2cf6d98f55fa583",
      "23fd4420f7dc4b15bca22cd49eec3461",
      "0a250091a17b42d1a89a52339d310da5",
      "eab891dc49f74145a3e486bc5595ecbb",
      "24e28c0ad9ed40458c534f4929f60456"
     ]
    },
    "executionInfo": {
     "elapsed": 1536,
     "status": "ok",
     "timestamp": 1636737642396,
     "user": {
      "displayName": "Juan Alberto Arguello Garcia Pertusa",
      "photoUrl": "https://lh3.googleusercontent.com/a-/AOh14GgLNEssX-ZQ-3Wt21S35bSF4i8fDxb0sYwOKN6fjZdCGwyOSfhMFvAQ1UK3eBgEEMRvdXTIPi_toS8mrBJVBrh6nL2HBoRx4GFfZEgsqg-dybjyTTdUmdEKiu28y4qWKa_MfiUdINIpvp2H0XFbxKAvXYIUgAuwosan_sZ90lqXKduxKUNhQFQNm7AtLBxmQocFxa9lMw3e81yu_LnH1gMgy0BZqX98JkYD8Y6OeZpCpHNfCY8PdgFGTkd9T525ClQsm3NMjO2XoCbLAxinM-LUfPucjpKrPburF-lSAdi1UBbvrY2dGxzU6unNCVQdRV1JZhEgT4PC_DSSppMkPOdca_0ojf5cu4BkGCRd7EdfDDRP32kJuNGj8a1UZMW293DJRslrl4rxUJUZFOw7ZRTgsINR8d2EIyC78OFvW6oIfAqYZEg0fEw_F7v9KMBKidAgx0bR3qu5RjIY9HMHecjbr9rN7DyDScVfElKZ2fwHcnK2lhQrYcdZCfvqYDSZKl6e7nwABn1aq03nUn-pRUZyCRYQ6g3EfM5liOMpa-JP5Ab6nUHHRnYvGRUsyEw9izJR7TP0u_aVkBi51jK-wywGmz2RFIkF-Btte-1Vv2j4mkqrwRNuUqtn8v5NNE2N-141RaT839OGMOZWAqk3iSyIFsOrdjNeXsYPoAFbb2BZyFs3m02vIb-kRMrlQDbaQmrMSPPL2HfSXRgy5U9g2CKe4ak80dfZaX5xYEMa4BlHAANSm8DhC-opLInCtMLDBFelJw=s64",
      "userId": "11559378201574576734"
     },
     "user_tz": 300
    },
    "id": "yoenf7-xoLuJ",
    "outputId": "64e275b4-482e-40b7-f9b8-0056af4f834b"
   },
   "outputs": [
    {
     "data": {
      "application/vnd.jupyter.widget-view+json": {
       "model_id": "0a2a9a609b524b01b4c4c246f631d9a6",
       "version_major": 2,
       "version_minor": 0
      },
      "text/plain": [
       "  0%|          | 0/2782 [00:00<?, ?ex/s]"
      ]
     },
     "metadata": {},
     "output_type": "display_data"
    },
    {
     "data": {
      "application/vnd.jupyter.widget-view+json": {
       "model_id": "490b25bd4ce74cec9cf7fcd43dbac5c6",
       "version_major": 2,
       "version_minor": 0
      },
      "text/plain": [
       "  0%|          | 0/380 [00:00<?, ?ex/s]"
      ]
     },
     "metadata": {},
     "output_type": "display_data"
    },
    {
     "data": {
      "application/vnd.jupyter.widget-view+json": {
       "model_id": "54a43c72585f4ba0b3eef110a13eb97f",
       "version_major": 2,
       "version_minor": 0
      },
      "text/plain": [
       "  0%|          | 0/352 [00:00<?, ?ex/s]"
      ]
     },
     "metadata": {},
     "output_type": "display_data"
    }
   ],
   "source": [
    "lab_to_id={l:i for i,l in enumerate(set(dataset['train'][:]['label']))}\n",
    "def _map(example):\n",
    "  example['labels']=lab_to_id[example['label']]\n",
    "  return example\n",
    "dataset=dataset.map(_map,remove_columns=['label'])"
   ]
  },
  {
   "cell_type": "code",
   "execution_count": null,
   "metadata": {
    "colab": {
     "base_uri": "https://localhost:8080/"
    },
    "executionInfo": {
     "elapsed": 106,
     "status": "ok",
     "timestamp": 1636737649148,
     "user": {
      "displayName": "Juan Alberto Arguello Garcia Pertusa",
      "photoUrl": "https://lh3.googleusercontent.com/a-/AOh14GgLNEssX-ZQ-3Wt21S35bSF4i8fDxb0sYwOKN6fjZdCGwyOSfhMFvAQ1UK3eBgEEMRvdXTIPi_toS8mrBJVBrh6nL2HBoRx4GFfZEgsqg-dybjyTTdUmdEKiu28y4qWKa_MfiUdINIpvp2H0XFbxKAvXYIUgAuwosan_sZ90lqXKduxKUNhQFQNm7AtLBxmQocFxa9lMw3e81yu_LnH1gMgy0BZqX98JkYD8Y6OeZpCpHNfCY8PdgFGTkd9T525ClQsm3NMjO2XoCbLAxinM-LUfPucjpKrPburF-lSAdi1UBbvrY2dGxzU6unNCVQdRV1JZhEgT4PC_DSSppMkPOdca_0ojf5cu4BkGCRd7EdfDDRP32kJuNGj8a1UZMW293DJRslrl4rxUJUZFOw7ZRTgsINR8d2EIyC78OFvW6oIfAqYZEg0fEw_F7v9KMBKidAgx0bR3qu5RjIY9HMHecjbr9rN7DyDScVfElKZ2fwHcnK2lhQrYcdZCfvqYDSZKl6e7nwABn1aq03nUn-pRUZyCRYQ6g3EfM5liOMpa-JP5Ab6nUHHRnYvGRUsyEw9izJR7TP0u_aVkBi51jK-wywGmz2RFIkF-Btte-1Vv2j4mkqrwRNuUqtn8v5NNE2N-141RaT839OGMOZWAqk3iSyIFsOrdjNeXsYPoAFbb2BZyFs3m02vIb-kRMrlQDbaQmrMSPPL2HfSXRgy5U9g2CKe4ak80dfZaX5xYEMa4BlHAANSm8DhC-opLInCtMLDBFelJw=s64",
      "userId": "11559378201574576734"
     },
     "user_tz": 300
    },
    "id": "hB5Vgl1spE5D",
    "outputId": "c07b36e2-718d-453b-e97d-95fc07a74213"
   },
   "outputs": [
    {
     "data": {
      "text/plain": [
       "int"
      ]
     },
     "execution_count": 36,
     "metadata": {},
     "output_type": "execute_result"
    }
   ],
   "source": [
    "type(dataset['train'][0]['labels'])"
   ]
  },
  {
   "cell_type": "code",
   "execution_count": null,
   "metadata": {
    "id": "fak15RoUpOKS"
   },
   "outputs": [],
   "source": [
    "import numpy as np"
   ]
  },
  {
   "cell_type": "code",
   "execution_count": null,
   "metadata": {
    "colab": {
     "base_uri": "https://localhost:8080/"
    },
    "executionInfo": {
     "elapsed": 2706,
     "status": "ok",
     "timestamp": 1636739214729,
     "user": {
      "displayName": "Juan Alberto Arguello Garcia Pertusa",
      "photoUrl": "https://lh3.googleusercontent.com/a-/AOh14GgLNEssX-ZQ-3Wt21S35bSF4i8fDxb0sYwOKN6fjZdCGwyOSfhMFvAQ1UK3eBgEEMRvdXTIPi_toS8mrBJVBrh6nL2HBoRx4GFfZEgsqg-dybjyTTdUmdEKiu28y4qWKa_MfiUdINIpvp2H0XFbxKAvXYIUgAuwosan_sZ90lqXKduxKUNhQFQNm7AtLBxmQocFxa9lMw3e81yu_LnH1gMgy0BZqX98JkYD8Y6OeZpCpHNfCY8PdgFGTkd9T525ClQsm3NMjO2XoCbLAxinM-LUfPucjpKrPburF-lSAdi1UBbvrY2dGxzU6unNCVQdRV1JZhEgT4PC_DSSppMkPOdca_0ojf5cu4BkGCRd7EdfDDRP32kJuNGj8a1UZMW293DJRslrl4rxUJUZFOw7ZRTgsINR8d2EIyC78OFvW6oIfAqYZEg0fEw_F7v9KMBKidAgx0bR3qu5RjIY9HMHecjbr9rN7DyDScVfElKZ2fwHcnK2lhQrYcdZCfvqYDSZKl6e7nwABn1aq03nUn-pRUZyCRYQ6g3EfM5liOMpa-JP5Ab6nUHHRnYvGRUsyEw9izJR7TP0u_aVkBi51jK-wywGmz2RFIkF-Btte-1Vv2j4mkqrwRNuUqtn8v5NNE2N-141RaT839OGMOZWAqk3iSyIFsOrdjNeXsYPoAFbb2BZyFs3m02vIb-kRMrlQDbaQmrMSPPL2HfSXRgy5U9g2CKe4ak80dfZaX5xYEMa4BlHAANSm8DhC-opLInCtMLDBFelJw=s64",
      "userId": "11559378201574576734"
     },
     "user_tz": 300
    },
    "id": "WlYfyHrz6saq",
    "outputId": "4fb6cd21-892b-41b4-8121-9cce310d2bc1"
   },
   "outputs": [
    {
     "name": "stderr",
     "output_type": "stream",
     "text": [
      "loading configuration file /content/drive/MyDrive/EWS/repretrainbertweet/config.json\n",
      "Model config RobertaConfig {\n",
      "  \"_name_or_path\": \"vinai/bertweet-base\",\n",
      "  \"architectures\": [\n",
      "    \"RobertaForMaskedLM\"\n",
      "  ],\n",
      "  \"attention_probs_dropout_prob\": 0.1,\n",
      "  \"bos_token_id\": 0,\n",
      "  \"classifier_dropout\": null,\n",
      "  \"eos_token_id\": 2,\n",
      "  \"gradient_checkpointing\": false,\n",
      "  \"hidden_act\": \"gelu\",\n",
      "  \"hidden_dropout_prob\": 0.1,\n",
      "  \"hidden_size\": 768,\n",
      "  \"id2label\": {\n",
      "    \"0\": \"LABEL_0\",\n",
      "    \"1\": \"LABEL_1\",\n",
      "    \"2\": \"LABEL_2\"\n",
      "  },\n",
      "  \"initializer_range\": 0.02,\n",
      "  \"intermediate_size\": 3072,\n",
      "  \"label2id\": {\n",
      "    \"LABEL_0\": 0,\n",
      "    \"LABEL_1\": 1,\n",
      "    \"LABEL_2\": 2\n",
      "  },\n",
      "  \"layer_norm_eps\": 1e-05,\n",
      "  \"max_position_embeddings\": 130,\n",
      "  \"model_type\": \"roberta\",\n",
      "  \"num_attention_heads\": 12,\n",
      "  \"num_hidden_layers\": 12,\n",
      "  \"pad_token_id\": 1,\n",
      "  \"position_embedding_type\": \"absolute\",\n",
      "  \"tokenizer_class\": \"BertweetTokenizer\",\n",
      "  \"torch_dtype\": \"float32\",\n",
      "  \"transformers_version\": \"4.12.3\",\n",
      "  \"type_vocab_size\": 1,\n",
      "  \"use_cache\": true,\n",
      "  \"vocab_size\": 64001\n",
      "}\n",
      "\n",
      "loading weights file /content/drive/MyDrive/EWS/repretrainbertweet/pytorch_model.bin\n",
      "Some weights of the model checkpoint at /content/drive/MyDrive/EWS/repretrainbertweet were not used when initializing RobertaForSequenceClassification: ['lm_head.dense.weight', 'lm_head.layer_norm.bias', 'lm_head.dense.bias', 'lm_head.bias', 'lm_head.layer_norm.weight']\n",
      "- This IS expected if you are initializing RobertaForSequenceClassification from the checkpoint of a model trained on another task or with another architecture (e.g. initializing a BertForSequenceClassification model from a BertForPreTraining model).\n",
      "- This IS NOT expected if you are initializing RobertaForSequenceClassification from the checkpoint of a model that you expect to be exactly identical (initializing a BertForSequenceClassification model from a BertForSequenceClassification model).\n",
      "Some weights of RobertaForSequenceClassification were not initialized from the model checkpoint at /content/drive/MyDrive/EWS/repretrainbertweet and are newly initialized: ['classifier.dense.weight', 'classifier.dense.bias', 'classifier.out_proj.bias', 'classifier.out_proj.weight']\n",
      "You should probably TRAIN this model on a down-stream task to be able to use it for predictions and inference.\n",
      "Using amp fp16 backend\n"
     ]
    }
   ],
   "source": [
    "trainer=Trainer(model=AutoModelForSequenceClassification.from_pretrained(model_name, num_labels=3), #('/content/drive/MyDrive/EWS/repretrainbertweet',),\n",
    "                args=args,\n",
    "                train_dataset=dataset['train'],\n",
    "                eval_dataset=dataset['validation'],\n",
    "                tokenizer=tokenizer,\n",
    "                compute_metrics=compute_metrics,\n",
    "                callbacks=[EarlyStoppingCallback(1,0.0001)]\n",
    "                # data_collator=None\n",
    "                )"
   ]
  },
  {
   "cell_type": "code",
   "execution_count": null,
   "metadata": {
    "colab": {
     "base_uri": "https://localhost:8080/"
    },
    "executionInfo": {
     "elapsed": 136,
     "status": "ok",
     "timestamp": 1636737679658,
     "user": {
      "displayName": "Juan Alberto Arguello Garcia Pertusa",
      "photoUrl": "https://lh3.googleusercontent.com/a-/AOh14GgLNEssX-ZQ-3Wt21S35bSF4i8fDxb0sYwOKN6fjZdCGwyOSfhMFvAQ1UK3eBgEEMRvdXTIPi_toS8mrBJVBrh6nL2HBoRx4GFfZEgsqg-dybjyTTdUmdEKiu28y4qWKa_MfiUdINIpvp2H0XFbxKAvXYIUgAuwosan_sZ90lqXKduxKUNhQFQNm7AtLBxmQocFxa9lMw3e81yu_LnH1gMgy0BZqX98JkYD8Y6OeZpCpHNfCY8PdgFGTkd9T525ClQsm3NMjO2XoCbLAxinM-LUfPucjpKrPburF-lSAdi1UBbvrY2dGxzU6unNCVQdRV1JZhEgT4PC_DSSppMkPOdca_0ojf5cu4BkGCRd7EdfDDRP32kJuNGj8a1UZMW293DJRslrl4rxUJUZFOw7ZRTgsINR8d2EIyC78OFvW6oIfAqYZEg0fEw_F7v9KMBKidAgx0bR3qu5RjIY9HMHecjbr9rN7DyDScVfElKZ2fwHcnK2lhQrYcdZCfvqYDSZKl6e7nwABn1aq03nUn-pRUZyCRYQ6g3EfM5liOMpa-JP5Ab6nUHHRnYvGRUsyEw9izJR7TP0u_aVkBi51jK-wywGmz2RFIkF-Btte-1Vv2j4mkqrwRNuUqtn8v5NNE2N-141RaT839OGMOZWAqk3iSyIFsOrdjNeXsYPoAFbb2BZyFs3m02vIb-kRMrlQDbaQmrMSPPL2HfSXRgy5U9g2CKe4ak80dfZaX5xYEMa4BlHAANSm8DhC-opLInCtMLDBFelJw=s64",
      "userId": "11559378201574576734"
     },
     "user_tz": 300
    },
    "id": "J958FqvvmS5t",
    "outputId": "3fec1805-1290-4d92-c3f8-38cd986a4b9e"
   },
   "outputs": [
    {
     "data": {
      "text/plain": [
       "{0, 1, 2}"
      ]
     },
     "execution_count": 39,
     "metadata": {},
     "output_type": "execute_result"
    }
   ],
   "source": [
    "set(dataset['train'][:]['labels'])"
   ]
  },
  {
   "cell_type": "code",
   "execution_count": null,
   "metadata": {
    "id": "x0cwOGk_njgA"
   },
   "outputs": [],
   "source": []
  },
  {
   "cell_type": "code",
   "execution_count": null,
   "metadata": {
    "colab": {
     "base_uri": "https://localhost:8080/",
     "height": 1000
    },
    "executionInfo": {
     "elapsed": 1699312,
     "status": "ok",
     "timestamp": 1636740917483,
     "user": {
      "displayName": "Juan Alberto Arguello Garcia Pertusa",
      "photoUrl": "https://lh3.googleusercontent.com/a-/AOh14GgLNEssX-ZQ-3Wt21S35bSF4i8fDxb0sYwOKN6fjZdCGwyOSfhMFvAQ1UK3eBgEEMRvdXTIPi_toS8mrBJVBrh6nL2HBoRx4GFfZEgsqg-dybjyTTdUmdEKiu28y4qWKa_MfiUdINIpvp2H0XFbxKAvXYIUgAuwosan_sZ90lqXKduxKUNhQFQNm7AtLBxmQocFxa9lMw3e81yu_LnH1gMgy0BZqX98JkYD8Y6OeZpCpHNfCY8PdgFGTkd9T525ClQsm3NMjO2XoCbLAxinM-LUfPucjpKrPburF-lSAdi1UBbvrY2dGxzU6unNCVQdRV1JZhEgT4PC_DSSppMkPOdca_0ojf5cu4BkGCRd7EdfDDRP32kJuNGj8a1UZMW293DJRslrl4rxUJUZFOw7ZRTgsINR8d2EIyC78OFvW6oIfAqYZEg0fEw_F7v9KMBKidAgx0bR3qu5RjIY9HMHecjbr9rN7DyDScVfElKZ2fwHcnK2lhQrYcdZCfvqYDSZKl6e7nwABn1aq03nUn-pRUZyCRYQ6g3EfM5liOMpa-JP5Ab6nUHHRnYvGRUsyEw9izJR7TP0u_aVkBi51jK-wywGmz2RFIkF-Btte-1Vv2j4mkqrwRNuUqtn8v5NNE2N-141RaT839OGMOZWAqk3iSyIFsOrdjNeXsYPoAFbb2BZyFs3m02vIb-kRMrlQDbaQmrMSPPL2HfSXRgy5U9g2CKe4ak80dfZaX5xYEMa4BlHAANSm8DhC-opLInCtMLDBFelJw=s64",
      "userId": "11559378201574576734"
     },
     "user_tz": 300
    },
    "id": "CO7Xhs947dSP",
    "outputId": "f39a3de9-ded1-408c-90c4-90d217fc564d"
   },
   "outputs": [
    {
     "name": "stderr",
     "output_type": "stream",
     "text": [
      "***** Running training *****\n",
      "  Num examples = 2782\n",
      "  Num Epochs = 10\n",
      "  Instantaneous batch size per device = 32\n",
      "  Total train batch size (w. parallel, distributed & accumulation) = 64\n",
      "  Gradient Accumulation steps = 2\n",
      "  Total optimization steps = 430\n"
     ]
    },
    {
     "data": {
      "text/html": [
       "\n",
       "    <div>\n",
       "      \n",
       "      <progress value='344' max='430' style='width:300px; height:20px; vertical-align: middle;'></progress>\n",
       "      [344/430 28:14 < 07:06, 0.20 it/s, Epoch 7/10]\n",
       "    </div>\n",
       "    <table border=\"1\" class=\"dataframe\">\n",
       "  <thead>\n",
       "    <tr style=\"text-align: left;\">\n",
       "      <th>Epoch</th>\n",
       "      <th>Training Loss</th>\n",
       "      <th>Validation Loss</th>\n",
       "      <th>Precision</th>\n",
       "      <th>Recall</th>\n",
       "      <th>F1-score</th>\n",
       "      <th>Support</th>\n",
       "    </tr>\n",
       "  </thead>\n",
       "  <tbody>\n",
       "    <tr>\n",
       "      <td>0</td>\n",
       "      <td>No log</td>\n",
       "      <td>0.380571</td>\n",
       "      <td>0.470588</td>\n",
       "      <td>0.528627</td>\n",
       "      <td>0.497021</td>\n",
       "      <td>380</td>\n",
       "    </tr>\n",
       "    <tr>\n",
       "      <td>1</td>\n",
       "      <td>No log</td>\n",
       "      <td>0.336007</td>\n",
       "      <td>0.809091</td>\n",
       "      <td>0.765397</td>\n",
       "      <td>0.782654</td>\n",
       "      <td>380</td>\n",
       "    </tr>\n",
       "    <tr>\n",
       "      <td>2</td>\n",
       "      <td>No log</td>\n",
       "      <td>0.325770</td>\n",
       "      <td>0.839785</td>\n",
       "      <td>0.768457</td>\n",
       "      <td>0.786080</td>\n",
       "      <td>380</td>\n",
       "    </tr>\n",
       "    <tr>\n",
       "      <td>3</td>\n",
       "      <td>No log</td>\n",
       "      <td>0.366954</td>\n",
       "      <td>0.823079</td>\n",
       "      <td>0.781012</td>\n",
       "      <td>0.798814</td>\n",
       "      <td>380</td>\n",
       "    </tr>\n",
       "    <tr>\n",
       "      <td>4</td>\n",
       "      <td>No log</td>\n",
       "      <td>0.318016</td>\n",
       "      <td>0.848027</td>\n",
       "      <td>0.783303</td>\n",
       "      <td>0.810038</td>\n",
       "      <td>380</td>\n",
       "    </tr>\n",
       "    <tr>\n",
       "      <td>5</td>\n",
       "      <td>No log</td>\n",
       "      <td>0.410919</td>\n",
       "      <td>0.841949</td>\n",
       "      <td>0.787807</td>\n",
       "      <td>0.811831</td>\n",
       "      <td>380</td>\n",
       "    </tr>\n",
       "    <tr>\n",
       "      <td>6</td>\n",
       "      <td>No log</td>\n",
       "      <td>0.404584</td>\n",
       "      <td>0.824066</td>\n",
       "      <td>0.806970</td>\n",
       "      <td>0.814997</td>\n",
       "      <td>380</td>\n",
       "    </tr>\n",
       "    <tr>\n",
       "      <td>7</td>\n",
       "      <td>No log</td>\n",
       "      <td>0.471158</td>\n",
       "      <td>0.828471</td>\n",
       "      <td>0.786285</td>\n",
       "      <td>0.794837</td>\n",
       "      <td>380</td>\n",
       "    </tr>\n",
       "  </tbody>\n",
       "</table><p>"
      ],
      "text/plain": [
       "<IPython.core.display.HTML object>"
      ]
     },
     "metadata": {},
     "output_type": "display_data"
    },
    {
     "name": "stderr",
     "output_type": "stream",
     "text": [
      "***** Running Evaluation *****\n",
      "  Num examples = 380\n",
      "  Batch size = 128\n",
      "/usr/local/lib/python3.7/dist-packages/sklearn/metrics/_classification.py:1272: UndefinedMetricWarning: Precision and F-score are ill-defined and being set to 0.0 in labels with no predicted samples. Use `zero_division` parameter to control this behavior.\n",
      "  _warn_prf(average, modifier, msg_start, len(result))\n",
      "Saving model checkpoint to /content/drive/MyDrive/EWS/Class_Model/checkpoint-43\n",
      "Configuration saved in /content/drive/MyDrive/EWS/Class_Model/checkpoint-43/config.json\n",
      "Model weights saved in /content/drive/MyDrive/EWS/Class_Model/checkpoint-43/pytorch_model.bin\n",
      "tokenizer config file saved in /content/drive/MyDrive/EWS/Class_Model/checkpoint-43/tokenizer_config.json\n",
      "Special tokens file saved in /content/drive/MyDrive/EWS/Class_Model/checkpoint-43/special_tokens_map.json\n",
      "added tokens file saved in /content/drive/MyDrive/EWS/Class_Model/checkpoint-43/added_tokens.json\n",
      "Deleting older checkpoint [/content/drive/MyDrive/EWS/Class_Model/checkpoint-86] due to args.save_total_limit\n",
      "***** Running Evaluation *****\n",
      "  Num examples = 380\n",
      "  Batch size = 128\n",
      "Saving model checkpoint to /content/drive/MyDrive/EWS/Class_Model/checkpoint-86\n",
      "Configuration saved in /content/drive/MyDrive/EWS/Class_Model/checkpoint-86/config.json\n",
      "Model weights saved in /content/drive/MyDrive/EWS/Class_Model/checkpoint-86/pytorch_model.bin\n",
      "tokenizer config file saved in /content/drive/MyDrive/EWS/Class_Model/checkpoint-86/tokenizer_config.json\n",
      "Special tokens file saved in /content/drive/MyDrive/EWS/Class_Model/checkpoint-86/special_tokens_map.json\n",
      "added tokens file saved in /content/drive/MyDrive/EWS/Class_Model/checkpoint-86/added_tokens.json\n",
      "Deleting older checkpoint [/content/drive/MyDrive/EWS/Class_Model/checkpoint-129] due to args.save_total_limit\n",
      "***** Running Evaluation *****\n",
      "  Num examples = 380\n",
      "  Batch size = 128\n",
      "Saving model checkpoint to /content/drive/MyDrive/EWS/Class_Model/checkpoint-129\n",
      "Configuration saved in /content/drive/MyDrive/EWS/Class_Model/checkpoint-129/config.json\n",
      "Model weights saved in /content/drive/MyDrive/EWS/Class_Model/checkpoint-129/pytorch_model.bin\n",
      "tokenizer config file saved in /content/drive/MyDrive/EWS/Class_Model/checkpoint-129/tokenizer_config.json\n",
      "Special tokens file saved in /content/drive/MyDrive/EWS/Class_Model/checkpoint-129/special_tokens_map.json\n",
      "added tokens file saved in /content/drive/MyDrive/EWS/Class_Model/checkpoint-129/added_tokens.json\n",
      "Deleting older checkpoint [/content/drive/MyDrive/EWS/Class_Model/checkpoint-172] due to args.save_total_limit\n",
      "***** Running Evaluation *****\n",
      "  Num examples = 380\n",
      "  Batch size = 128\n",
      "Saving model checkpoint to /content/drive/MyDrive/EWS/Class_Model/checkpoint-172\n",
      "Configuration saved in /content/drive/MyDrive/EWS/Class_Model/checkpoint-172/config.json\n",
      "Model weights saved in /content/drive/MyDrive/EWS/Class_Model/checkpoint-172/pytorch_model.bin\n",
      "tokenizer config file saved in /content/drive/MyDrive/EWS/Class_Model/checkpoint-172/tokenizer_config.json\n",
      "Special tokens file saved in /content/drive/MyDrive/EWS/Class_Model/checkpoint-172/special_tokens_map.json\n",
      "added tokens file saved in /content/drive/MyDrive/EWS/Class_Model/checkpoint-172/added_tokens.json\n",
      "Deleting older checkpoint [/content/drive/MyDrive/EWS/Class_Model/checkpoint-215] due to args.save_total_limit\n",
      "***** Running Evaluation *****\n",
      "  Num examples = 380\n",
      "  Batch size = 128\n",
      "Saving model checkpoint to /content/drive/MyDrive/EWS/Class_Model/checkpoint-215\n",
      "Configuration saved in /content/drive/MyDrive/EWS/Class_Model/checkpoint-215/config.json\n",
      "Model weights saved in /content/drive/MyDrive/EWS/Class_Model/checkpoint-215/pytorch_model.bin\n",
      "tokenizer config file saved in /content/drive/MyDrive/EWS/Class_Model/checkpoint-215/tokenizer_config.json\n",
      "Special tokens file saved in /content/drive/MyDrive/EWS/Class_Model/checkpoint-215/special_tokens_map.json\n",
      "added tokens file saved in /content/drive/MyDrive/EWS/Class_Model/checkpoint-215/added_tokens.json\n",
      "Deleting older checkpoint [/content/drive/MyDrive/EWS/Class_Model/checkpoint-258] due to args.save_total_limit\n",
      "***** Running Evaluation *****\n",
      "  Num examples = 380\n",
      "  Batch size = 128\n",
      "Saving model checkpoint to /content/drive/MyDrive/EWS/Class_Model/checkpoint-258\n",
      "Configuration saved in /content/drive/MyDrive/EWS/Class_Model/checkpoint-258/config.json\n",
      "Model weights saved in /content/drive/MyDrive/EWS/Class_Model/checkpoint-258/pytorch_model.bin\n",
      "tokenizer config file saved in /content/drive/MyDrive/EWS/Class_Model/checkpoint-258/tokenizer_config.json\n",
      "Special tokens file saved in /content/drive/MyDrive/EWS/Class_Model/checkpoint-258/special_tokens_map.json\n",
      "added tokens file saved in /content/drive/MyDrive/EWS/Class_Model/checkpoint-258/added_tokens.json\n",
      "Deleting older checkpoint [/content/drive/MyDrive/EWS/Class_Model/checkpoint-43] due to args.save_total_limit\n",
      "***** Running Evaluation *****\n",
      "  Num examples = 380\n",
      "  Batch size = 128\n",
      "Saving model checkpoint to /content/drive/MyDrive/EWS/Class_Model/checkpoint-301\n",
      "Configuration saved in /content/drive/MyDrive/EWS/Class_Model/checkpoint-301/config.json\n",
      "Model weights saved in /content/drive/MyDrive/EWS/Class_Model/checkpoint-301/pytorch_model.bin\n",
      "tokenizer config file saved in /content/drive/MyDrive/EWS/Class_Model/checkpoint-301/tokenizer_config.json\n",
      "Special tokens file saved in /content/drive/MyDrive/EWS/Class_Model/checkpoint-301/special_tokens_map.json\n",
      "added tokens file saved in /content/drive/MyDrive/EWS/Class_Model/checkpoint-301/added_tokens.json\n",
      "Deleting older checkpoint [/content/drive/MyDrive/EWS/Class_Model/checkpoint-86] due to args.save_total_limit\n",
      "***** Running Evaluation *****\n",
      "  Num examples = 380\n",
      "  Batch size = 128\n",
      "Saving model checkpoint to /content/drive/MyDrive/EWS/Class_Model/checkpoint-344\n",
      "Configuration saved in /content/drive/MyDrive/EWS/Class_Model/checkpoint-344/config.json\n",
      "Model weights saved in /content/drive/MyDrive/EWS/Class_Model/checkpoint-344/pytorch_model.bin\n",
      "tokenizer config file saved in /content/drive/MyDrive/EWS/Class_Model/checkpoint-344/tokenizer_config.json\n",
      "Special tokens file saved in /content/drive/MyDrive/EWS/Class_Model/checkpoint-344/special_tokens_map.json\n",
      "added tokens file saved in /content/drive/MyDrive/EWS/Class_Model/checkpoint-344/added_tokens.json\n",
      "Deleting older checkpoint [/content/drive/MyDrive/EWS/Class_Model/checkpoint-129] due to args.save_total_limit\n",
      "\n",
      "\n",
      "Training completed. Do not forget to share your model on huggingface.co/models =)\n",
      "\n",
      "\n",
      "Loading best model from /content/drive/MyDrive/EWS/Class_Model/checkpoint-301 (score: 0.8149971774551533).\n"
     ]
    },
    {
     "data": {
      "text/plain": [
       "TrainOutput(global_step=344, training_loss=0.17221918771433276, metrics={'train_runtime': 1699.0966, 'train_samples_per_second': 16.373, 'train_steps_per_second': 0.253, 'total_flos': 940891526221752.0, 'train_loss': 0.17221918771433276, 'epoch': 7.99})"
      ]
     },
     "execution_count": 47,
     "metadata": {},
     "output_type": "execute_result"
    }
   ],
   "source": [
    "trainer.train()"
   ]
  },
  {
   "cell_type": "code",
   "execution_count": null,
   "metadata": {
    "id": "knqiSuLe7tv5"
   },
   "outputs": [],
   "source": [
    "# ! transformers-cli env\n"
   ]
  },
  {
   "cell_type": "code",
   "execution_count": null,
   "metadata": {
    "id": "pxxP0RjYgXw0"
   },
   "outputs": [],
   "source": []
  }
 ],
 "metadata": {
  "accelerator": "GPU",
  "colab": {
   "collapsed_sections": [],
   "name": "BERTWEET_Transformers_ALEX_VACA.ipynb",
   "provenance": []
  },
  "kernelspec": {
   "display_name": "Python 3",
   "language": "python",
   "name": "python3"
  },
  "language_info": {
   "codemirror_mode": {
    "name": "ipython",
    "version": 3
   },
   "file_extension": ".py",
   "mimetype": "text/x-python",
   "name": "python",
   "nbconvert_exporter": "python",
   "pygments_lexer": "ipython3",
   "version": "3.6.12"
  },
  "widgets": {
   "application/vnd.jupyter.widget-state+json": {
    "0a250091a17b42d1a89a52339d310da5": {
     "model_module": "@jupyter-widgets/base",
     "model_module_version": "1.2.0",
     "model_name": "LayoutModel",
     "state": {
      "_model_module": "@jupyter-widgets/base",
      "_model_module_version": "1.2.0",
      "_model_name": "LayoutModel",
      "_view_count": null,
      "_view_module": "@jupyter-widgets/base",
      "_view_module_version": "1.2.0",
      "_view_name": "LayoutView",
      "align_content": null,
      "align_items": null,
      "align_self": null,
      "border": null,
      "bottom": null,
      "display": null,
      "flex": null,
      "flex_flow": null,
      "grid_area": null,
      "grid_auto_columns": null,
      "grid_auto_flow": null,
      "grid_auto_rows": null,
      "grid_column": null,
      "grid_gap": null,
      "grid_row": null,
      "grid_template_areas": null,
      "grid_template_columns": null,
      "grid_template_rows": null,
      "height": null,
      "justify_content": null,
      "justify_items": null,
      "left": null,
      "margin": null,
      "max_height": null,
      "max_width": null,
      "min_height": null,
      "min_width": null,
      "object_fit": null,
      "object_position": null,
      "order": null,
      "overflow": null,
      "overflow_x": null,
      "overflow_y": null,
      "padding": null,
      "right": null,
      "top": null,
      "visibility": null,
      "width": null
     }
    },
    "0a2a9a609b524b01b4c4c246f631d9a6": {
     "model_module": "@jupyter-widgets/controls",
     "model_module_version": "1.5.0",
     "model_name": "HBoxModel",
     "state": {
      "_dom_classes": [],
      "_model_module": "@jupyter-widgets/controls",
      "_model_module_version": "1.5.0",
      "_model_name": "HBoxModel",
      "_view_count": null,
      "_view_module": "@jupyter-widgets/controls",
      "_view_module_version": "1.5.0",
      "_view_name": "HBoxView",
      "box_style": "",
      "children": [
       "IPY_MODEL_430628947b6048ec848e829810eff2f8",
       "IPY_MODEL_7a7d89d4462f40bd9df3f39062973492",
       "IPY_MODEL_dc655aaa939c433aab07d76afc7840a6"
      ],
      "layout": "IPY_MODEL_30ab3865395743328ae651eee7f16308"
     }
    },
    "0e62447c0ed5465dae36ae7efbc165d4": {
     "model_module": "@jupyter-widgets/controls",
     "model_module_version": "1.5.0",
     "model_name": "ProgressStyleModel",
     "state": {
      "_model_module": "@jupyter-widgets/controls",
      "_model_module_version": "1.5.0",
      "_model_name": "ProgressStyleModel",
      "_view_count": null,
      "_view_module": "@jupyter-widgets/base",
      "_view_module_version": "1.2.0",
      "_view_name": "StyleView",
      "bar_color": null,
      "description_width": ""
     }
    },
    "167032e5c279470088bfd9787ffc1f43": {
     "model_module": "@jupyter-widgets/controls",
     "model_module_version": "1.5.0",
     "model_name": "HTMLModel",
     "state": {
      "_dom_classes": [],
      "_model_module": "@jupyter-widgets/controls",
      "_model_module_version": "1.5.0",
      "_model_name": "HTMLModel",
      "_view_count": null,
      "_view_module": "@jupyter-widgets/controls",
      "_view_module_version": "1.5.0",
      "_view_name": "HTMLView",
      "description": "",
      "description_tooltip": null,
      "layout": "IPY_MODEL_24bac099e2d84014890cd14d8e10ec5b",
      "placeholder": "​",
      "style": "IPY_MODEL_e375cb9bd77042ce83edf3466f42d606",
      "value": " 1/1 [00:00&lt;00:00, 11.98it/s]"
     }
    },
    "216184b52bda47188aba63583d274f03": {
     "model_module": "@jupyter-widgets/base",
     "model_module_version": "1.2.0",
     "model_name": "LayoutModel",
     "state": {
      "_model_module": "@jupyter-widgets/base",
      "_model_module_version": "1.2.0",
      "_model_name": "LayoutModel",
      "_view_count": null,
      "_view_module": "@jupyter-widgets/base",
      "_view_module_version": "1.2.0",
      "_view_name": "LayoutView",
      "align_content": null,
      "align_items": null,
      "align_self": null,
      "border": null,
      "bottom": null,
      "display": null,
      "flex": null,
      "flex_flow": null,
      "grid_area": null,
      "grid_auto_columns": null,
      "grid_auto_flow": null,
      "grid_auto_rows": null,
      "grid_column": null,
      "grid_gap": null,
      "grid_row": null,
      "grid_template_areas": null,
      "grid_template_columns": null,
      "grid_template_rows": null,
      "height": null,
      "justify_content": null,
      "justify_items": null,
      "left": null,
      "margin": null,
      "max_height": null,
      "max_width": null,
      "min_height": null,
      "min_width": null,
      "object_fit": null,
      "object_position": null,
      "order": null,
      "overflow": null,
      "overflow_x": null,
      "overflow_y": null,
      "padding": null,
      "right": null,
      "top": null,
      "visibility": null,
      "width": null
     }
    },
    "219150e8f68844e79ea39f743193e1fc": {
     "model_module": "@jupyter-widgets/base",
     "model_module_version": "1.2.0",
     "model_name": "LayoutModel",
     "state": {
      "_model_module": "@jupyter-widgets/base",
      "_model_module_version": "1.2.0",
      "_model_name": "LayoutModel",
      "_view_count": null,
      "_view_module": "@jupyter-widgets/base",
      "_view_module_version": "1.2.0",
      "_view_name": "LayoutView",
      "align_content": null,
      "align_items": null,
      "align_self": null,
      "border": null,
      "bottom": null,
      "display": null,
      "flex": null,
      "flex_flow": null,
      "grid_area": null,
      "grid_auto_columns": null,
      "grid_auto_flow": null,
      "grid_auto_rows": null,
      "grid_column": null,
      "grid_gap": null,
      "grid_row": null,
      "grid_template_areas": null,
      "grid_template_columns": null,
      "grid_template_rows": null,
      "height": null,
      "justify_content": null,
      "justify_items": null,
      "left": null,
      "margin": null,
      "max_height": null,
      "max_width": null,
      "min_height": null,
      "min_width": null,
      "object_fit": null,
      "object_position": null,
      "order": null,
      "overflow": null,
      "overflow_x": null,
      "overflow_y": null,
      "padding": null,
      "right": null,
      "top": null,
      "visibility": null,
      "width": null
     }
    },
    "235d99928bef438cbd04f8d9d6c55a2d": {
     "model_module": "@jupyter-widgets/controls",
     "model_module_version": "1.5.0",
     "model_name": "HTMLModel",
     "state": {
      "_dom_classes": [],
      "_model_module": "@jupyter-widgets/controls",
      "_model_module_version": "1.5.0",
      "_model_name": "HTMLModel",
      "_view_count": null,
      "_view_module": "@jupyter-widgets/controls",
      "_view_module_version": "1.5.0",
      "_view_name": "HTMLView",
      "description": "",
      "description_tooltip": null,
      "layout": "IPY_MODEL_68231631c78049f6ae199d9a64df5098",
      "placeholder": "​",
      "style": "IPY_MODEL_2b8b7954bee64b7c8aecdc51d4f36113",
      "value": "100%"
     }
    },
    "23fd4420f7dc4b15bca22cd49eec3461": {
     "model_module": "@jupyter-widgets/controls",
     "model_module_version": "1.5.0",
     "model_name": "ProgressStyleModel",
     "state": {
      "_model_module": "@jupyter-widgets/controls",
      "_model_module_version": "1.5.0",
      "_model_name": "ProgressStyleModel",
      "_view_count": null,
      "_view_module": "@jupyter-widgets/base",
      "_view_module_version": "1.2.0",
      "_view_name": "StyleView",
      "bar_color": null,
      "description_width": ""
     }
    },
    "24bac099e2d84014890cd14d8e10ec5b": {
     "model_module": "@jupyter-widgets/base",
     "model_module_version": "1.2.0",
     "model_name": "LayoutModel",
     "state": {
      "_model_module": "@jupyter-widgets/base",
      "_model_module_version": "1.2.0",
      "_model_name": "LayoutModel",
      "_view_count": null,
      "_view_module": "@jupyter-widgets/base",
      "_view_module_version": "1.2.0",
      "_view_name": "LayoutView",
      "align_content": null,
      "align_items": null,
      "align_self": null,
      "border": null,
      "bottom": null,
      "display": null,
      "flex": null,
      "flex_flow": null,
      "grid_area": null,
      "grid_auto_columns": null,
      "grid_auto_flow": null,
      "grid_auto_rows": null,
      "grid_column": null,
      "grid_gap": null,
      "grid_row": null,
      "grid_template_areas": null,
      "grid_template_columns": null,
      "grid_template_rows": null,
      "height": null,
      "justify_content": null,
      "justify_items": null,
      "left": null,
      "margin": null,
      "max_height": null,
      "max_width": null,
      "min_height": null,
      "min_width": null,
      "object_fit": null,
      "object_position": null,
      "order": null,
      "overflow": null,
      "overflow_x": null,
      "overflow_y": null,
      "padding": null,
      "right": null,
      "top": null,
      "visibility": null,
      "width": null
     }
    },
    "24e28c0ad9ed40458c534f4929f60456": {
     "model_module": "@jupyter-widgets/base",
     "model_module_version": "1.2.0",
     "model_name": "LayoutModel",
     "state": {
      "_model_module": "@jupyter-widgets/base",
      "_model_module_version": "1.2.0",
      "_model_name": "LayoutModel",
      "_view_count": null,
      "_view_module": "@jupyter-widgets/base",
      "_view_module_version": "1.2.0",
      "_view_name": "LayoutView",
      "align_content": null,
      "align_items": null,
      "align_self": null,
      "border": null,
      "bottom": null,
      "display": null,
      "flex": null,
      "flex_flow": null,
      "grid_area": null,
      "grid_auto_columns": null,
      "grid_auto_flow": null,
      "grid_auto_rows": null,
      "grid_column": null,
      "grid_gap": null,
      "grid_row": null,
      "grid_template_areas": null,
      "grid_template_columns": null,
      "grid_template_rows": null,
      "height": null,
      "justify_content": null,
      "justify_items": null,
      "left": null,
      "margin": null,
      "max_height": null,
      "max_width": null,
      "min_height": null,
      "min_width": null,
      "object_fit": null,
      "object_position": null,
      "order": null,
      "overflow": null,
      "overflow_x": null,
      "overflow_y": null,
      "padding": null,
      "right": null,
      "top": null,
      "visibility": null,
      "width": null
     }
    },
    "25550cf137ed4baa86cb436aaf6d70e7": {
     "model_module": "@jupyter-widgets/base",
     "model_module_version": "1.2.0",
     "model_name": "LayoutModel",
     "state": {
      "_model_module": "@jupyter-widgets/base",
      "_model_module_version": "1.2.0",
      "_model_name": "LayoutModel",
      "_view_count": null,
      "_view_module": "@jupyter-widgets/base",
      "_view_module_version": "1.2.0",
      "_view_name": "LayoutView",
      "align_content": null,
      "align_items": null,
      "align_self": null,
      "border": null,
      "bottom": null,
      "display": null,
      "flex": null,
      "flex_flow": null,
      "grid_area": null,
      "grid_auto_columns": null,
      "grid_auto_flow": null,
      "grid_auto_rows": null,
      "grid_column": null,
      "grid_gap": null,
      "grid_row": null,
      "grid_template_areas": null,
      "grid_template_columns": null,
      "grid_template_rows": null,
      "height": null,
      "justify_content": null,
      "justify_items": null,
      "left": null,
      "margin": null,
      "max_height": null,
      "max_width": null,
      "min_height": null,
      "min_width": null,
      "object_fit": null,
      "object_position": null,
      "order": null,
      "overflow": null,
      "overflow_x": null,
      "overflow_y": null,
      "padding": null,
      "right": null,
      "top": null,
      "visibility": null,
      "width": null
     }
    },
    "26de1bf52d57461cb80638eb58c5f27e": {
     "model_module": "@jupyter-widgets/base",
     "model_module_version": "1.2.0",
     "model_name": "LayoutModel",
     "state": {
      "_model_module": "@jupyter-widgets/base",
      "_model_module_version": "1.2.0",
      "_model_name": "LayoutModel",
      "_view_count": null,
      "_view_module": "@jupyter-widgets/base",
      "_view_module_version": "1.2.0",
      "_view_name": "LayoutView",
      "align_content": null,
      "align_items": null,
      "align_self": null,
      "border": null,
      "bottom": null,
      "display": null,
      "flex": null,
      "flex_flow": null,
      "grid_area": null,
      "grid_auto_columns": null,
      "grid_auto_flow": null,
      "grid_auto_rows": null,
      "grid_column": null,
      "grid_gap": null,
      "grid_row": null,
      "grid_template_areas": null,
      "grid_template_columns": null,
      "grid_template_rows": null,
      "height": null,
      "justify_content": null,
      "justify_items": null,
      "left": null,
      "margin": null,
      "max_height": null,
      "max_width": null,
      "min_height": null,
      "min_width": null,
      "object_fit": null,
      "object_position": null,
      "order": null,
      "overflow": null,
      "overflow_x": null,
      "overflow_y": null,
      "padding": null,
      "right": null,
      "top": null,
      "visibility": null,
      "width": null
     }
    },
    "29017ad36b6846319c2ddef2788f15c6": {
     "model_module": "@jupyter-widgets/controls",
     "model_module_version": "1.5.0",
     "model_name": "DescriptionStyleModel",
     "state": {
      "_model_module": "@jupyter-widgets/controls",
      "_model_module_version": "1.5.0",
      "_model_name": "DescriptionStyleModel",
      "_view_count": null,
      "_view_module": "@jupyter-widgets/base",
      "_view_module_version": "1.2.0",
      "_view_name": "StyleView",
      "description_width": ""
     }
    },
    "294971410aa749f08d31940d8b3ba16a": {
     "model_module": "@jupyter-widgets/controls",
     "model_module_version": "1.5.0",
     "model_name": "HTMLModel",
     "state": {
      "_dom_classes": [],
      "_model_module": "@jupyter-widgets/controls",
      "_model_module_version": "1.5.0",
      "_model_name": "HTMLModel",
      "_view_count": null,
      "_view_module": "@jupyter-widgets/controls",
      "_view_module_version": "1.5.0",
      "_view_name": "HTMLView",
      "description": "",
      "description_tooltip": null,
      "layout": "IPY_MODEL_fa0e2667c8574b788a3808582cd10019",
      "placeholder": "​",
      "style": "IPY_MODEL_e16bdc74031e49359c30fa4175862013",
      "value": " 72/72 [00:01&lt;00:00, 47.73ba/s]"
     }
    },
    "2b8b7954bee64b7c8aecdc51d4f36113": {
     "model_module": "@jupyter-widgets/controls",
     "model_module_version": "1.5.0",
     "model_name": "DescriptionStyleModel",
     "state": {
      "_model_module": "@jupyter-widgets/controls",
      "_model_module_version": "1.5.0",
      "_model_name": "DescriptionStyleModel",
      "_view_count": null,
      "_view_module": "@jupyter-widgets/base",
      "_view_module_version": "1.2.0",
      "_view_name": "StyleView",
      "description_width": ""
     }
    },
    "300f8d43073f44148e534d6d608f3589": {
     "model_module": "@jupyter-widgets/controls",
     "model_module_version": "1.5.0",
     "model_name": "ProgressStyleModel",
     "state": {
      "_model_module": "@jupyter-widgets/controls",
      "_model_module_version": "1.5.0",
      "_model_name": "ProgressStyleModel",
      "_view_count": null,
      "_view_module": "@jupyter-widgets/base",
      "_view_module_version": "1.2.0",
      "_view_name": "StyleView",
      "bar_color": null,
      "description_width": ""
     }
    },
    "30ab3865395743328ae651eee7f16308": {
     "model_module": "@jupyter-widgets/base",
     "model_module_version": "1.2.0",
     "model_name": "LayoutModel",
     "state": {
      "_model_module": "@jupyter-widgets/base",
      "_model_module_version": "1.2.0",
      "_model_name": "LayoutModel",
      "_view_count": null,
      "_view_module": "@jupyter-widgets/base",
      "_view_module_version": "1.2.0",
      "_view_name": "LayoutView",
      "align_content": null,
      "align_items": null,
      "align_self": null,
      "border": null,
      "bottom": null,
      "display": null,
      "flex": null,
      "flex_flow": null,
      "grid_area": null,
      "grid_auto_columns": null,
      "grid_auto_flow": null,
      "grid_auto_rows": null,
      "grid_column": null,
      "grid_gap": null,
      "grid_row": null,
      "grid_template_areas": null,
      "grid_template_columns": null,
      "grid_template_rows": null,
      "height": null,
      "justify_content": null,
      "justify_items": null,
      "left": null,
      "margin": null,
      "max_height": null,
      "max_width": null,
      "min_height": null,
      "min_width": null,
      "object_fit": null,
      "object_position": null,
      "order": null,
      "overflow": null,
      "overflow_x": null,
      "overflow_y": null,
      "padding": null,
      "right": null,
      "top": null,
      "visibility": null,
      "width": null
     }
    },
    "342595fe3e0c4403ae3f084d3660ebf6": {
     "model_module": "@jupyter-widgets/controls",
     "model_module_version": "1.5.0",
     "model_name": "HTMLModel",
     "state": {
      "_dom_classes": [],
      "_model_module": "@jupyter-widgets/controls",
      "_model_module_version": "1.5.0",
      "_model_name": "HTMLModel",
      "_view_count": null,
      "_view_module": "@jupyter-widgets/controls",
      "_view_module_version": "1.5.0",
      "_view_name": "HTMLView",
      "description": "",
      "description_tooltip": null,
      "layout": "IPY_MODEL_93fec578b9b24d319dc6321319a6ece6",
      "placeholder": "​",
      "style": "IPY_MODEL_350d1a235c56465b8a7dd936b078fe9d",
      "value": " 1/1 [00:00&lt;00:00, 15.46it/s]"
     }
    },
    "350d1a235c56465b8a7dd936b078fe9d": {
     "model_module": "@jupyter-widgets/controls",
     "model_module_version": "1.5.0",
     "model_name": "DescriptionStyleModel",
     "state": {
      "_model_module": "@jupyter-widgets/controls",
      "_model_module_version": "1.5.0",
      "_model_name": "DescriptionStyleModel",
      "_view_count": null,
      "_view_module": "@jupyter-widgets/base",
      "_view_module_version": "1.2.0",
      "_view_name": "StyleView",
      "description_width": ""
     }
    },
    "351546279c884212b71cbf5fb2a55456": {
     "model_module": "@jupyter-widgets/base",
     "model_module_version": "1.2.0",
     "model_name": "LayoutModel",
     "state": {
      "_model_module": "@jupyter-widgets/base",
      "_model_module_version": "1.2.0",
      "_model_name": "LayoutModel",
      "_view_count": null,
      "_view_module": "@jupyter-widgets/base",
      "_view_module_version": "1.2.0",
      "_view_name": "LayoutView",
      "align_content": null,
      "align_items": null,
      "align_self": null,
      "border": null,
      "bottom": null,
      "display": null,
      "flex": null,
      "flex_flow": null,
      "grid_area": null,
      "grid_auto_columns": null,
      "grid_auto_flow": null,
      "grid_auto_rows": null,
      "grid_column": null,
      "grid_gap": null,
      "grid_row": null,
      "grid_template_areas": null,
      "grid_template_columns": null,
      "grid_template_rows": null,
      "height": null,
      "justify_content": null,
      "justify_items": null,
      "left": null,
      "margin": null,
      "max_height": null,
      "max_width": null,
      "min_height": null,
      "min_width": null,
      "object_fit": null,
      "object_position": null,
      "order": null,
      "overflow": null,
      "overflow_x": null,
      "overflow_y": null,
      "padding": null,
      "right": null,
      "top": null,
      "visibility": null,
      "width": null
     }
    },
    "3644fef5e3c943b4af7dd474c035d14d": {
     "model_module": "@jupyter-widgets/base",
     "model_module_version": "1.2.0",
     "model_name": "LayoutModel",
     "state": {
      "_model_module": "@jupyter-widgets/base",
      "_model_module_version": "1.2.0",
      "_model_name": "LayoutModel",
      "_view_count": null,
      "_view_module": "@jupyter-widgets/base",
      "_view_module_version": "1.2.0",
      "_view_name": "LayoutView",
      "align_content": null,
      "align_items": null,
      "align_self": null,
      "border": null,
      "bottom": null,
      "display": null,
      "flex": null,
      "flex_flow": null,
      "grid_area": null,
      "grid_auto_columns": null,
      "grid_auto_flow": null,
      "grid_auto_rows": null,
      "grid_column": null,
      "grid_gap": null,
      "grid_row": null,
      "grid_template_areas": null,
      "grid_template_columns": null,
      "grid_template_rows": null,
      "height": null,
      "justify_content": null,
      "justify_items": null,
      "left": null,
      "margin": null,
      "max_height": null,
      "max_width": null,
      "min_height": null,
      "min_width": null,
      "object_fit": null,
      "object_position": null,
      "order": null,
      "overflow": null,
      "overflow_x": null,
      "overflow_y": null,
      "padding": null,
      "right": null,
      "top": null,
      "visibility": null,
      "width": null
     }
    },
    "36a487e849bf480c9899c8233d5fc8b0": {
     "model_module": "@jupyter-widgets/controls",
     "model_module_version": "1.5.0",
     "model_name": "FloatProgressModel",
     "state": {
      "_dom_classes": [],
      "_model_module": "@jupyter-widgets/controls",
      "_model_module_version": "1.5.0",
      "_model_name": "FloatProgressModel",
      "_view_count": null,
      "_view_module": "@jupyter-widgets/controls",
      "_view_module_version": "1.5.0",
      "_view_name": "ProgressView",
      "bar_style": "success",
      "description": "",
      "description_tooltip": null,
      "layout": "IPY_MODEL_cb4e4b84993c42c4b36698980bd318cb",
      "max": 1,
      "min": 0,
      "orientation": "horizontal",
      "style": "IPY_MODEL_49da1ee886e141cf8ffa94fee059e447",
      "value": 1
     }
    },
    "388e9407899840dc99d08f6b095809a1": {
     "model_module": "@jupyter-widgets/controls",
     "model_module_version": "1.5.0",
     "model_name": "HTMLModel",
     "state": {
      "_dom_classes": [],
      "_model_module": "@jupyter-widgets/controls",
      "_model_module_version": "1.5.0",
      "_model_name": "HTMLModel",
      "_view_count": null,
      "_view_module": "@jupyter-widgets/controls",
      "_view_module_version": "1.5.0",
      "_view_name": "HTMLView",
      "description": "",
      "description_tooltip": null,
      "layout": "IPY_MODEL_572422587f3240d7bd2798b61bd5cd92",
      "placeholder": "​",
      "style": "IPY_MODEL_38e55b4c8dd8473e9d79fd979ab9a190",
      "value": " 1/1 [00:00&lt;00:00,  3.52ba/s]"
     }
    },
    "38e55b4c8dd8473e9d79fd979ab9a190": {
     "model_module": "@jupyter-widgets/controls",
     "model_module_version": "1.5.0",
     "model_name": "DescriptionStyleModel",
     "state": {
      "_model_module": "@jupyter-widgets/controls",
      "_model_module_version": "1.5.0",
      "_model_name": "DescriptionStyleModel",
      "_view_count": null,
      "_view_module": "@jupyter-widgets/base",
      "_view_module_version": "1.2.0",
      "_view_name": "StyleView",
      "description_width": ""
     }
    },
    "3b74b631431c4f1db51572c0cdb6f849": {
     "model_module": "@jupyter-widgets/controls",
     "model_module_version": "1.5.0",
     "model_name": "DescriptionStyleModel",
     "state": {
      "_model_module": "@jupyter-widgets/controls",
      "_model_module_version": "1.5.0",
      "_model_name": "DescriptionStyleModel",
      "_view_count": null,
      "_view_module": "@jupyter-widgets/base",
      "_view_module_version": "1.2.0",
      "_view_name": "StyleView",
      "description_width": ""
     }
    },
    "3c2c495c4549446daadc692fcd5dc438": {
     "model_module": "@jupyter-widgets/controls",
     "model_module_version": "1.5.0",
     "model_name": "DescriptionStyleModel",
     "state": {
      "_model_module": "@jupyter-widgets/controls",
      "_model_module_version": "1.5.0",
      "_model_name": "DescriptionStyleModel",
      "_view_count": null,
      "_view_module": "@jupyter-widgets/base",
      "_view_module_version": "1.2.0",
      "_view_name": "StyleView",
      "description_width": ""
     }
    },
    "3cda833562bb41f58d943a0bdeed62b6": {
     "model_module": "@jupyter-widgets/controls",
     "model_module_version": "1.5.0",
     "model_name": "ProgressStyleModel",
     "state": {
      "_model_module": "@jupyter-widgets/controls",
      "_model_module_version": "1.5.0",
      "_model_name": "ProgressStyleModel",
      "_view_count": null,
      "_view_module": "@jupyter-widgets/base",
      "_view_module_version": "1.2.0",
      "_view_name": "StyleView",
      "bar_color": null,
      "description_width": ""
     }
    },
    "3ce33d947fc74588a5be27bd9cfcec23": {
     "model_module": "@jupyter-widgets/controls",
     "model_module_version": "1.5.0",
     "model_name": "DescriptionStyleModel",
     "state": {
      "_model_module": "@jupyter-widgets/controls",
      "_model_module_version": "1.5.0",
      "_model_name": "DescriptionStyleModel",
      "_view_count": null,
      "_view_module": "@jupyter-widgets/base",
      "_view_module_version": "1.2.0",
      "_view_name": "StyleView",
      "description_width": ""
     }
    },
    "3e9c95768f4148fba709d88e4c8194e9": {
     "model_module": "@jupyter-widgets/controls",
     "model_module_version": "1.5.0",
     "model_name": "ProgressStyleModel",
     "state": {
      "_model_module": "@jupyter-widgets/controls",
      "_model_module_version": "1.5.0",
      "_model_name": "ProgressStyleModel",
      "_view_count": null,
      "_view_module": "@jupyter-widgets/base",
      "_view_module_version": "1.2.0",
      "_view_name": "StyleView",
      "bar_color": null,
      "description_width": ""
     }
    },
    "415d79f5afeb4de3b7a730d5f2095b5f": {
     "model_module": "@jupyter-widgets/controls",
     "model_module_version": "1.5.0",
     "model_name": "HBoxModel",
     "state": {
      "_dom_classes": [],
      "_model_module": "@jupyter-widgets/controls",
      "_model_module_version": "1.5.0",
      "_model_name": "HBoxModel",
      "_view_count": null,
      "_view_module": "@jupyter-widgets/controls",
      "_view_module_version": "1.5.0",
      "_view_name": "HBoxView",
      "box_style": "",
      "children": [
       "IPY_MODEL_772c5eacc3f54cc2ad21a9179013e0e1",
       "IPY_MODEL_87fa5fb3592e40a8be97a73fb47e8e78",
       "IPY_MODEL_9b4d37a8b8904af196cbc6a25201bdff"
      ],
      "layout": "IPY_MODEL_ccabb3baca434069afc3eb54fca6a336"
     }
    },
    "42f11e0a053a4d679d441d6d0ef85865": {
     "model_module": "@jupyter-widgets/controls",
     "model_module_version": "1.5.0",
     "model_name": "HBoxModel",
     "state": {
      "_dom_classes": [],
      "_model_module": "@jupyter-widgets/controls",
      "_model_module_version": "1.5.0",
      "_model_name": "HBoxModel",
      "_view_count": null,
      "_view_module": "@jupyter-widgets/controls",
      "_view_module_version": "1.5.0",
      "_view_name": "HBoxView",
      "box_style": "",
      "children": [
       "IPY_MODEL_f53974c7648d45ff90f3bcae3e2c4f49",
       "IPY_MODEL_5f89c2e8300741c691bc750dfe9fb724",
       "IPY_MODEL_bc1f6b9e49724f4889444e8d512488cd"
      ],
      "layout": "IPY_MODEL_a4b3b3bc726a4cbfb5bb25adffff0048"
     }
    },
    "430628947b6048ec848e829810eff2f8": {
     "model_module": "@jupyter-widgets/controls",
     "model_module_version": "1.5.0",
     "model_name": "HTMLModel",
     "state": {
      "_dom_classes": [],
      "_model_module": "@jupyter-widgets/controls",
      "_model_module_version": "1.5.0",
      "_model_name": "HTMLModel",
      "_view_count": null,
      "_view_module": "@jupyter-widgets/controls",
      "_view_module_version": "1.5.0",
      "_view_name": "HTMLView",
      "description": "",
      "description_tooltip": null,
      "layout": "IPY_MODEL_702d8160c8c542a58201dbef3e390c78",
      "placeholder": "​",
      "style": "IPY_MODEL_f079826b1d034c5399fa037698fb7faa",
      "value": "100%"
     }
    },
    "451c3bb7d84745298c15aff940377282": {
     "model_module": "@jupyter-widgets/controls",
     "model_module_version": "1.5.0",
     "model_name": "HBoxModel",
     "state": {
      "_dom_classes": [],
      "_model_module": "@jupyter-widgets/controls",
      "_model_module_version": "1.5.0",
      "_model_name": "HBoxModel",
      "_view_count": null,
      "_view_module": "@jupyter-widgets/controls",
      "_view_module_version": "1.5.0",
      "_view_name": "HBoxView",
      "box_style": "",
      "children": [
       "IPY_MODEL_f179ca3ae975489886b8f756fd25ebc9",
       "IPY_MODEL_c14424d6610d4092b693ecfb8420ab85",
       "IPY_MODEL_167032e5c279470088bfd9787ffc1f43"
      ],
      "layout": "IPY_MODEL_4cfaf16f556141f78025687862d6e83f"
     }
    },
    "490b25bd4ce74cec9cf7fcd43dbac5c6": {
     "model_module": "@jupyter-widgets/controls",
     "model_module_version": "1.5.0",
     "model_name": "HBoxModel",
     "state": {
      "_dom_classes": [],
      "_model_module": "@jupyter-widgets/controls",
      "_model_module_version": "1.5.0",
      "_model_name": "HBoxModel",
      "_view_count": null,
      "_view_module": "@jupyter-widgets/controls",
      "_view_module_version": "1.5.0",
      "_view_name": "HBoxView",
      "box_style": "",
      "children": [
       "IPY_MODEL_d70a98571cca45f2a98bab40ea9ad864",
       "IPY_MODEL_89734883b73d41f5968a25c9beeb2541",
       "IPY_MODEL_54d4e8c44140455e9e51afa6e8929589"
      ],
      "layout": "IPY_MODEL_c13264478ed541a197aa5729da73b6b0"
     }
    },
    "49da1ee886e141cf8ffa94fee059e447": {
     "model_module": "@jupyter-widgets/controls",
     "model_module_version": "1.5.0",
     "model_name": "ProgressStyleModel",
     "state": {
      "_model_module": "@jupyter-widgets/controls",
      "_model_module_version": "1.5.0",
      "_model_name": "ProgressStyleModel",
      "_view_count": null,
      "_view_module": "@jupyter-widgets/base",
      "_view_module_version": "1.2.0",
      "_view_name": "StyleView",
      "bar_color": null,
      "description_width": ""
     }
    },
    "4cfaf16f556141f78025687862d6e83f": {
     "model_module": "@jupyter-widgets/base",
     "model_module_version": "1.2.0",
     "model_name": "LayoutModel",
     "state": {
      "_model_module": "@jupyter-widgets/base",
      "_model_module_version": "1.2.0",
      "_model_name": "LayoutModel",
      "_view_count": null,
      "_view_module": "@jupyter-widgets/base",
      "_view_module_version": "1.2.0",
      "_view_name": "LayoutView",
      "align_content": null,
      "align_items": null,
      "align_self": null,
      "border": null,
      "bottom": null,
      "display": null,
      "flex": null,
      "flex_flow": null,
      "grid_area": null,
      "grid_auto_columns": null,
      "grid_auto_flow": null,
      "grid_auto_rows": null,
      "grid_column": null,
      "grid_gap": null,
      "grid_row": null,
      "grid_template_areas": null,
      "grid_template_columns": null,
      "grid_template_rows": null,
      "height": null,
      "justify_content": null,
      "justify_items": null,
      "left": null,
      "margin": null,
      "max_height": null,
      "max_width": null,
      "min_height": null,
      "min_width": null,
      "object_fit": null,
      "object_position": null,
      "order": null,
      "overflow": null,
      "overflow_x": null,
      "overflow_y": null,
      "padding": null,
      "right": null,
      "top": null,
      "visibility": null,
      "width": null
     }
    },
    "540a50229418480a98ead3e8f7016423": {
     "model_module": "@jupyter-widgets/controls",
     "model_module_version": "1.5.0",
     "model_name": "DescriptionStyleModel",
     "state": {
      "_model_module": "@jupyter-widgets/controls",
      "_model_module_version": "1.5.0",
      "_model_name": "DescriptionStyleModel",
      "_view_count": null,
      "_view_module": "@jupyter-widgets/base",
      "_view_module_version": "1.2.0",
      "_view_name": "StyleView",
      "description_width": ""
     }
    },
    "54a43c72585f4ba0b3eef110a13eb97f": {
     "model_module": "@jupyter-widgets/controls",
     "model_module_version": "1.5.0",
     "model_name": "HBoxModel",
     "state": {
      "_dom_classes": [],
      "_model_module": "@jupyter-widgets/controls",
      "_model_module_version": "1.5.0",
      "_model_name": "HBoxModel",
      "_view_count": null,
      "_view_module": "@jupyter-widgets/controls",
      "_view_module_version": "1.5.0",
      "_view_name": "HBoxView",
      "box_style": "",
      "children": [
       "IPY_MODEL_f995e4768ea6419d92611ba0a3e3a9cd",
       "IPY_MODEL_e767f2eb1c8a481cb75fa6d802beb944",
       "IPY_MODEL_bedcee58684c476d8dce8c74d3421719"
      ],
      "layout": "IPY_MODEL_8eac79885970422ebda743ea5ef65b65"
     }
    },
    "54d4e8c44140455e9e51afa6e8929589": {
     "model_module": "@jupyter-widgets/controls",
     "model_module_version": "1.5.0",
     "model_name": "HTMLModel",
     "state": {
      "_dom_classes": [],
      "_model_module": "@jupyter-widgets/controls",
      "_model_module_version": "1.5.0",
      "_model_name": "HTMLModel",
      "_view_count": null,
      "_view_module": "@jupyter-widgets/controls",
      "_view_module_version": "1.5.0",
      "_view_name": "HTMLView",
      "description": "",
      "description_tooltip": null,
      "layout": "IPY_MODEL_a720dbd40ba64d38975f96ddbbecbe6e",
      "placeholder": "​",
      "style": "IPY_MODEL_c113380bc78e4d9bba91a6dd4188f4d9",
      "value": " 380/380 [00:00&lt;00:00, 1249.84ex/s]"
     }
    },
    "562a08e3e1364467acfdbfbaaef6f185": {
     "model_module": "@jupyter-widgets/base",
     "model_module_version": "1.2.0",
     "model_name": "LayoutModel",
     "state": {
      "_model_module": "@jupyter-widgets/base",
      "_model_module_version": "1.2.0",
      "_model_name": "LayoutModel",
      "_view_count": null,
      "_view_module": "@jupyter-widgets/base",
      "_view_module_version": "1.2.0",
      "_view_name": "LayoutView",
      "align_content": null,
      "align_items": null,
      "align_self": null,
      "border": null,
      "bottom": null,
      "display": null,
      "flex": null,
      "flex_flow": null,
      "grid_area": null,
      "grid_auto_columns": null,
      "grid_auto_flow": null,
      "grid_auto_rows": null,
      "grid_column": null,
      "grid_gap": null,
      "grid_row": null,
      "grid_template_areas": null,
      "grid_template_columns": null,
      "grid_template_rows": null,
      "height": null,
      "justify_content": null,
      "justify_items": null,
      "left": null,
      "margin": null,
      "max_height": null,
      "max_width": null,
      "min_height": null,
      "min_width": null,
      "object_fit": null,
      "object_position": null,
      "order": null,
      "overflow": null,
      "overflow_x": null,
      "overflow_y": null,
      "padding": null,
      "right": null,
      "top": null,
      "visibility": null,
      "width": null
     }
    },
    "572422587f3240d7bd2798b61bd5cd92": {
     "model_module": "@jupyter-widgets/base",
     "model_module_version": "1.2.0",
     "model_name": "LayoutModel",
     "state": {
      "_model_module": "@jupyter-widgets/base",
      "_model_module_version": "1.2.0",
      "_model_name": "LayoutModel",
      "_view_count": null,
      "_view_module": "@jupyter-widgets/base",
      "_view_module_version": "1.2.0",
      "_view_name": "LayoutView",
      "align_content": null,
      "align_items": null,
      "align_self": null,
      "border": null,
      "bottom": null,
      "display": null,
      "flex": null,
      "flex_flow": null,
      "grid_area": null,
      "grid_auto_columns": null,
      "grid_auto_flow": null,
      "grid_auto_rows": null,
      "grid_column": null,
      "grid_gap": null,
      "grid_row": null,
      "grid_template_areas": null,
      "grid_template_columns": null,
      "grid_template_rows": null,
      "height": null,
      "justify_content": null,
      "justify_items": null,
      "left": null,
      "margin": null,
      "max_height": null,
      "max_width": null,
      "min_height": null,
      "min_width": null,
      "object_fit": null,
      "object_position": null,
      "order": null,
      "overflow": null,
      "overflow_x": null,
      "overflow_y": null,
      "padding": null,
      "right": null,
      "top": null,
      "visibility": null,
      "width": null
     }
    },
    "589ee40fddba4cc6854d821cfb0ee495": {
     "model_module": "@jupyter-widgets/base",
     "model_module_version": "1.2.0",
     "model_name": "LayoutModel",
     "state": {
      "_model_module": "@jupyter-widgets/base",
      "_model_module_version": "1.2.0",
      "_model_name": "LayoutModel",
      "_view_count": null,
      "_view_module": "@jupyter-widgets/base",
      "_view_module_version": "1.2.0",
      "_view_name": "LayoutView",
      "align_content": null,
      "align_items": null,
      "align_self": null,
      "border": null,
      "bottom": null,
      "display": null,
      "flex": null,
      "flex_flow": null,
      "grid_area": null,
      "grid_auto_columns": null,
      "grid_auto_flow": null,
      "grid_auto_rows": null,
      "grid_column": null,
      "grid_gap": null,
      "grid_row": null,
      "grid_template_areas": null,
      "grid_template_columns": null,
      "grid_template_rows": null,
      "height": null,
      "justify_content": null,
      "justify_items": null,
      "left": null,
      "margin": null,
      "max_height": null,
      "max_width": null,
      "min_height": null,
      "min_width": null,
      "object_fit": null,
      "object_position": null,
      "order": null,
      "overflow": null,
      "overflow_x": null,
      "overflow_y": null,
      "padding": null,
      "right": null,
      "top": null,
      "visibility": null,
      "width": null
     }
    },
    "5a0b2d8e15b34858be780c63e792097a": {
     "model_module": "@jupyter-widgets/controls",
     "model_module_version": "1.5.0",
     "model_name": "HTMLModel",
     "state": {
      "_dom_classes": [],
      "_model_module": "@jupyter-widgets/controls",
      "_model_module_version": "1.5.0",
      "_model_name": "HTMLModel",
      "_view_count": null,
      "_view_module": "@jupyter-widgets/controls",
      "_view_module_version": "1.5.0",
      "_view_name": "HTMLView",
      "description": "",
      "description_tooltip": null,
      "layout": "IPY_MODEL_c5fb8666bdb247ceabd09b73d09f8eed",
      "placeholder": "​",
      "style": "IPY_MODEL_540a50229418480a98ead3e8f7016423",
      "value": " 3/3 [00:01&lt;00:00,  1.94ba/s]"
     }
    },
    "5f7d36131c214a17baf91c80d1bb4038": {
     "model_module": "@jupyter-widgets/base",
     "model_module_version": "1.2.0",
     "model_name": "LayoutModel",
     "state": {
      "_model_module": "@jupyter-widgets/base",
      "_model_module_version": "1.2.0",
      "_model_name": "LayoutModel",
      "_view_count": null,
      "_view_module": "@jupyter-widgets/base",
      "_view_module_version": "1.2.0",
      "_view_name": "LayoutView",
      "align_content": null,
      "align_items": null,
      "align_self": null,
      "border": null,
      "bottom": null,
      "display": null,
      "flex": null,
      "flex_flow": null,
      "grid_area": null,
      "grid_auto_columns": null,
      "grid_auto_flow": null,
      "grid_auto_rows": null,
      "grid_column": null,
      "grid_gap": null,
      "grid_row": null,
      "grid_template_areas": null,
      "grid_template_columns": null,
      "grid_template_rows": null,
      "height": null,
      "justify_content": null,
      "justify_items": null,
      "left": null,
      "margin": null,
      "max_height": null,
      "max_width": null,
      "min_height": null,
      "min_width": null,
      "object_fit": null,
      "object_position": null,
      "order": null,
      "overflow": null,
      "overflow_x": null,
      "overflow_y": null,
      "padding": null,
      "right": null,
      "top": null,
      "visibility": null,
      "width": null
     }
    },
    "5f89c2e8300741c691bc750dfe9fb724": {
     "model_module": "@jupyter-widgets/controls",
     "model_module_version": "1.5.0",
     "model_name": "FloatProgressModel",
     "state": {
      "_dom_classes": [],
      "_model_module": "@jupyter-widgets/controls",
      "_model_module_version": "1.5.0",
      "_model_name": "FloatProgressModel",
      "_view_count": null,
      "_view_module": "@jupyter-widgets/controls",
      "_view_module_version": "1.5.0",
      "_view_name": "ProgressView",
      "bar_style": "success",
      "description": "",
      "description_tooltip": null,
      "layout": "IPY_MODEL_95eb63e41e9647dcaa8eab029d89bb17",
      "max": 1,
      "min": 0,
      "orientation": "horizontal",
      "style": "IPY_MODEL_3cda833562bb41f58d943a0bdeed62b6",
      "value": 1
     }
    },
    "61082609313147fa80e292dc36d62e87": {
     "model_module": "@jupyter-widgets/controls",
     "model_module_version": "1.5.0",
     "model_name": "HBoxModel",
     "state": {
      "_dom_classes": [],
      "_model_module": "@jupyter-widgets/controls",
      "_model_module_version": "1.5.0",
      "_model_name": "HBoxModel",
      "_view_count": null,
      "_view_module": "@jupyter-widgets/controls",
      "_view_module_version": "1.5.0",
      "_view_name": "HBoxView",
      "box_style": "",
      "children": [
       "IPY_MODEL_e67376dd1a9d418289bdae91f54b37ca",
       "IPY_MODEL_e2f6c41ae37a4d16918a9bce271ac1d9",
       "IPY_MODEL_294971410aa749f08d31940d8b3ba16a"
      ],
      "layout": "IPY_MODEL_d7847a7ce0974bac97bccc758b65df02"
     }
    },
    "6488504819a84c97b4fcd918a60d9a31": {
     "model_module": "@jupyter-widgets/base",
     "model_module_version": "1.2.0",
     "model_name": "LayoutModel",
     "state": {
      "_model_module": "@jupyter-widgets/base",
      "_model_module_version": "1.2.0",
      "_model_name": "LayoutModel",
      "_view_count": null,
      "_view_module": "@jupyter-widgets/base",
      "_view_module_version": "1.2.0",
      "_view_name": "LayoutView",
      "align_content": null,
      "align_items": null,
      "align_self": null,
      "border": null,
      "bottom": null,
      "display": null,
      "flex": null,
      "flex_flow": null,
      "grid_area": null,
      "grid_auto_columns": null,
      "grid_auto_flow": null,
      "grid_auto_rows": null,
      "grid_column": null,
      "grid_gap": null,
      "grid_row": null,
      "grid_template_areas": null,
      "grid_template_columns": null,
      "grid_template_rows": null,
      "height": null,
      "justify_content": null,
      "justify_items": null,
      "left": null,
      "margin": null,
      "max_height": null,
      "max_width": null,
      "min_height": null,
      "min_width": null,
      "object_fit": null,
      "object_position": null,
      "order": null,
      "overflow": null,
      "overflow_x": null,
      "overflow_y": null,
      "padding": null,
      "right": null,
      "top": null,
      "visibility": null,
      "width": null
     }
    },
    "6496b90a0e664ca0ab4167dee861abb3": {
     "model_module": "@jupyter-widgets/base",
     "model_module_version": "1.2.0",
     "model_name": "LayoutModel",
     "state": {
      "_model_module": "@jupyter-widgets/base",
      "_model_module_version": "1.2.0",
      "_model_name": "LayoutModel",
      "_view_count": null,
      "_view_module": "@jupyter-widgets/base",
      "_view_module_version": "1.2.0",
      "_view_name": "LayoutView",
      "align_content": null,
      "align_items": null,
      "align_self": null,
      "border": null,
      "bottom": null,
      "display": null,
      "flex": null,
      "flex_flow": null,
      "grid_area": null,
      "grid_auto_columns": null,
      "grid_auto_flow": null,
      "grid_auto_rows": null,
      "grid_column": null,
      "grid_gap": null,
      "grid_row": null,
      "grid_template_areas": null,
      "grid_template_columns": null,
      "grid_template_rows": null,
      "height": null,
      "justify_content": null,
      "justify_items": null,
      "left": null,
      "margin": null,
      "max_height": null,
      "max_width": null,
      "min_height": null,
      "min_width": null,
      "object_fit": null,
      "object_position": null,
      "order": null,
      "overflow": null,
      "overflow_x": null,
      "overflow_y": null,
      "padding": null,
      "right": null,
      "top": null,
      "visibility": null,
      "width": null
     }
    },
    "68231631c78049f6ae199d9a64df5098": {
     "model_module": "@jupyter-widgets/base",
     "model_module_version": "1.2.0",
     "model_name": "LayoutModel",
     "state": {
      "_model_module": "@jupyter-widgets/base",
      "_model_module_version": "1.2.0",
      "_model_name": "LayoutModel",
      "_view_count": null,
      "_view_module": "@jupyter-widgets/base",
      "_view_module_version": "1.2.0",
      "_view_name": "LayoutView",
      "align_content": null,
      "align_items": null,
      "align_self": null,
      "border": null,
      "bottom": null,
      "display": null,
      "flex": null,
      "flex_flow": null,
      "grid_area": null,
      "grid_auto_columns": null,
      "grid_auto_flow": null,
      "grid_auto_rows": null,
      "grid_column": null,
      "grid_gap": null,
      "grid_row": null,
      "grid_template_areas": null,
      "grid_template_columns": null,
      "grid_template_rows": null,
      "height": null,
      "justify_content": null,
      "justify_items": null,
      "left": null,
      "margin": null,
      "max_height": null,
      "max_width": null,
      "min_height": null,
      "min_width": null,
      "object_fit": null,
      "object_position": null,
      "order": null,
      "overflow": null,
      "overflow_x": null,
      "overflow_y": null,
      "padding": null,
      "right": null,
      "top": null,
      "visibility": null,
      "width": null
     }
    },
    "702d8160c8c542a58201dbef3e390c78": {
     "model_module": "@jupyter-widgets/base",
     "model_module_version": "1.2.0",
     "model_name": "LayoutModel",
     "state": {
      "_model_module": "@jupyter-widgets/base",
      "_model_module_version": "1.2.0",
      "_model_name": "LayoutModel",
      "_view_count": null,
      "_view_module": "@jupyter-widgets/base",
      "_view_module_version": "1.2.0",
      "_view_name": "LayoutView",
      "align_content": null,
      "align_items": null,
      "align_self": null,
      "border": null,
      "bottom": null,
      "display": null,
      "flex": null,
      "flex_flow": null,
      "grid_area": null,
      "grid_auto_columns": null,
      "grid_auto_flow": null,
      "grid_auto_rows": null,
      "grid_column": null,
      "grid_gap": null,
      "grid_row": null,
      "grid_template_areas": null,
      "grid_template_columns": null,
      "grid_template_rows": null,
      "height": null,
      "justify_content": null,
      "justify_items": null,
      "left": null,
      "margin": null,
      "max_height": null,
      "max_width": null,
      "min_height": null,
      "min_width": null,
      "object_fit": null,
      "object_position": null,
      "order": null,
      "overflow": null,
      "overflow_x": null,
      "overflow_y": null,
      "padding": null,
      "right": null,
      "top": null,
      "visibility": null,
      "width": null
     }
    },
    "772c5eacc3f54cc2ad21a9179013e0e1": {
     "model_module": "@jupyter-widgets/controls",
     "model_module_version": "1.5.0",
     "model_name": "HTMLModel",
     "state": {
      "_dom_classes": [],
      "_model_module": "@jupyter-widgets/controls",
      "_model_module_version": "1.5.0",
      "_model_name": "HTMLModel",
      "_view_count": null,
      "_view_module": "@jupyter-widgets/controls",
      "_view_module_version": "1.5.0",
      "_view_name": "HTMLView",
      "description": "",
      "description_tooltip": null,
      "layout": "IPY_MODEL_5f7d36131c214a17baf91c80d1bb4038",
      "placeholder": "​",
      "style": "IPY_MODEL_786426ff24fd4bd7bf8a201fe8842507",
      "value": "100%"
     }
    },
    "786426ff24fd4bd7bf8a201fe8842507": {
     "model_module": "@jupyter-widgets/controls",
     "model_module_version": "1.5.0",
     "model_name": "DescriptionStyleModel",
     "state": {
      "_model_module": "@jupyter-widgets/controls",
      "_model_module_version": "1.5.0",
      "_model_name": "DescriptionStyleModel",
      "_view_count": null,
      "_view_module": "@jupyter-widgets/base",
      "_view_module_version": "1.2.0",
      "_view_name": "StyleView",
      "description_width": ""
     }
    },
    "7a7d89d4462f40bd9df3f39062973492": {
     "model_module": "@jupyter-widgets/controls",
     "model_module_version": "1.5.0",
     "model_name": "FloatProgressModel",
     "state": {
      "_dom_classes": [],
      "_model_module": "@jupyter-widgets/controls",
      "_model_module_version": "1.5.0",
      "_model_name": "FloatProgressModel",
      "_view_count": null,
      "_view_module": "@jupyter-widgets/controls",
      "_view_module_version": "1.5.0",
      "_view_name": "ProgressView",
      "bar_style": "success",
      "description": "",
      "description_tooltip": null,
      "layout": "IPY_MODEL_589ee40fddba4cc6854d821cfb0ee495",
      "max": 2782,
      "min": 0,
      "orientation": "horizontal",
      "style": "IPY_MODEL_cdad531fe1fa4bd79181aafe358bcf0f",
      "value": 2782
     }
    },
    "7eadeb8243f041fbb1fdada8dad40fef": {
     "model_module": "@jupyter-widgets/controls",
     "model_module_version": "1.5.0",
     "model_name": "HBoxModel",
     "state": {
      "_dom_classes": [],
      "_model_module": "@jupyter-widgets/controls",
      "_model_module_version": "1.5.0",
      "_model_name": "HBoxModel",
      "_view_count": null,
      "_view_module": "@jupyter-widgets/controls",
      "_view_module_version": "1.5.0",
      "_view_name": "HBoxView",
      "box_style": "",
      "children": [
       "IPY_MODEL_8973f7ee6812428b91bebb5362c3bb16",
       "IPY_MODEL_36a487e849bf480c9899c8233d5fc8b0",
       "IPY_MODEL_388e9407899840dc99d08f6b095809a1"
      ],
      "layout": "IPY_MODEL_c18a41a1cdf24aa68aa55b1621182883"
     }
    },
    "807c03e1409b47c28f28421a5237c1c5": {
     "model_module": "@jupyter-widgets/controls",
     "model_module_version": "1.5.0",
     "model_name": "DescriptionStyleModel",
     "state": {
      "_model_module": "@jupyter-widgets/controls",
      "_model_module_version": "1.5.0",
      "_model_name": "DescriptionStyleModel",
      "_view_count": null,
      "_view_module": "@jupyter-widgets/base",
      "_view_module_version": "1.2.0",
      "_view_name": "StyleView",
      "description_width": ""
     }
    },
    "814d0af6161a448abfaaff8e56490d14": {
     "model_module": "@jupyter-widgets/controls",
     "model_module_version": "1.5.0",
     "model_name": "DescriptionStyleModel",
     "state": {
      "_model_module": "@jupyter-widgets/controls",
      "_model_module_version": "1.5.0",
      "_model_name": "DescriptionStyleModel",
      "_view_count": null,
      "_view_module": "@jupyter-widgets/base",
      "_view_module_version": "1.2.0",
      "_view_name": "StyleView",
      "description_width": ""
     }
    },
    "87fa5fb3592e40a8be97a73fb47e8e78": {
     "model_module": "@jupyter-widgets/controls",
     "model_module_version": "1.5.0",
     "model_name": "FloatProgressModel",
     "state": {
      "_dom_classes": [],
      "_model_module": "@jupyter-widgets/controls",
      "_model_module_version": "1.5.0",
      "_model_name": "FloatProgressModel",
      "_view_count": null,
      "_view_module": "@jupyter-widgets/controls",
      "_view_module_version": "1.5.0",
      "_view_name": "ProgressView",
      "bar_style": "success",
      "description": "",
      "description_tooltip": null,
      "layout": "IPY_MODEL_b2809760e3e646fa96ef52c4195e06a4",
      "max": 1,
      "min": 0,
      "orientation": "horizontal",
      "style": "IPY_MODEL_300f8d43073f44148e534d6d608f3589",
      "value": 1
     }
    },
    "89734883b73d41f5968a25c9beeb2541": {
     "model_module": "@jupyter-widgets/controls",
     "model_module_version": "1.5.0",
     "model_name": "FloatProgressModel",
     "state": {
      "_dom_classes": [],
      "_model_module": "@jupyter-widgets/controls",
      "_model_module_version": "1.5.0",
      "_model_name": "FloatProgressModel",
      "_view_count": null,
      "_view_module": "@jupyter-widgets/controls",
      "_view_module_version": "1.5.0",
      "_view_name": "ProgressView",
      "bar_style": "success",
      "description": "",
      "description_tooltip": null,
      "layout": "IPY_MODEL_216184b52bda47188aba63583d274f03",
      "max": 380,
      "min": 0,
      "orientation": "horizontal",
      "style": "IPY_MODEL_db5b5ba025484d9890cec48954178fb0",
      "value": 380
     }
    },
    "8973f7ee6812428b91bebb5362c3bb16": {
     "model_module": "@jupyter-widgets/controls",
     "model_module_version": "1.5.0",
     "model_name": "HTMLModel",
     "state": {
      "_dom_classes": [],
      "_model_module": "@jupyter-widgets/controls",
      "_model_module_version": "1.5.0",
      "_model_name": "HTMLModel",
      "_view_count": null,
      "_view_module": "@jupyter-widgets/controls",
      "_view_module_version": "1.5.0",
      "_view_name": "HTMLView",
      "description": "",
      "description_tooltip": null,
      "layout": "IPY_MODEL_26de1bf52d57461cb80638eb58c5f27e",
      "placeholder": "​",
      "style": "IPY_MODEL_a8245ce78d494e34a34483ec8c46e900",
      "value": "100%"
     }
    },
    "8cde0393a1ed4a0abc1d2fd3cbb5018e": {
     "model_module": "@jupyter-widgets/controls",
     "model_module_version": "1.5.0",
     "model_name": "DescriptionStyleModel",
     "state": {
      "_model_module": "@jupyter-widgets/controls",
      "_model_module_version": "1.5.0",
      "_model_name": "DescriptionStyleModel",
      "_view_count": null,
      "_view_module": "@jupyter-widgets/base",
      "_view_module_version": "1.2.0",
      "_view_name": "StyleView",
      "description_width": ""
     }
    },
    "8eac79885970422ebda743ea5ef65b65": {
     "model_module": "@jupyter-widgets/base",
     "model_module_version": "1.2.0",
     "model_name": "LayoutModel",
     "state": {
      "_model_module": "@jupyter-widgets/base",
      "_model_module_version": "1.2.0",
      "_model_name": "LayoutModel",
      "_view_count": null,
      "_view_module": "@jupyter-widgets/base",
      "_view_module_version": "1.2.0",
      "_view_name": "LayoutView",
      "align_content": null,
      "align_items": null,
      "align_self": null,
      "border": null,
      "bottom": null,
      "display": null,
      "flex": null,
      "flex_flow": null,
      "grid_area": null,
      "grid_auto_columns": null,
      "grid_auto_flow": null,
      "grid_auto_rows": null,
      "grid_column": null,
      "grid_gap": null,
      "grid_row": null,
      "grid_template_areas": null,
      "grid_template_columns": null,
      "grid_template_rows": null,
      "height": null,
      "justify_content": null,
      "justify_items": null,
      "left": null,
      "margin": null,
      "max_height": null,
      "max_width": null,
      "min_height": null,
      "min_width": null,
      "object_fit": null,
      "object_position": null,
      "order": null,
      "overflow": null,
      "overflow_x": null,
      "overflow_y": null,
      "padding": null,
      "right": null,
      "top": null,
      "visibility": null,
      "width": null
     }
    },
    "93fec578b9b24d319dc6321319a6ece6": {
     "model_module": "@jupyter-widgets/base",
     "model_module_version": "1.2.0",
     "model_name": "LayoutModel",
     "state": {
      "_model_module": "@jupyter-widgets/base",
      "_model_module_version": "1.2.0",
      "_model_name": "LayoutModel",
      "_view_count": null,
      "_view_module": "@jupyter-widgets/base",
      "_view_module_version": "1.2.0",
      "_view_name": "LayoutView",
      "align_content": null,
      "align_items": null,
      "align_self": null,
      "border": null,
      "bottom": null,
      "display": null,
      "flex": null,
      "flex_flow": null,
      "grid_area": null,
      "grid_auto_columns": null,
      "grid_auto_flow": null,
      "grid_auto_rows": null,
      "grid_column": null,
      "grid_gap": null,
      "grid_row": null,
      "grid_template_areas": null,
      "grid_template_columns": null,
      "grid_template_rows": null,
      "height": null,
      "justify_content": null,
      "justify_items": null,
      "left": null,
      "margin": null,
      "max_height": null,
      "max_width": null,
      "min_height": null,
      "min_width": null,
      "object_fit": null,
      "object_position": null,
      "order": null,
      "overflow": null,
      "overflow_x": null,
      "overflow_y": null,
      "padding": null,
      "right": null,
      "top": null,
      "visibility": null,
      "width": null
     }
    },
    "94c2dbb415f54010836dab1b5090e29a": {
     "model_module": "@jupyter-widgets/controls",
     "model_module_version": "1.5.0",
     "model_name": "FloatProgressModel",
     "state": {
      "_dom_classes": [],
      "_model_module": "@jupyter-widgets/controls",
      "_model_module_version": "1.5.0",
      "_model_name": "FloatProgressModel",
      "_view_count": null,
      "_view_module": "@jupyter-widgets/controls",
      "_view_module_version": "1.5.0",
      "_view_name": "ProgressView",
      "bar_style": "success",
      "description": "",
      "description_tooltip": null,
      "layout": "IPY_MODEL_a8c004afda604ec2a3b1ce61c7cd1ce7",
      "max": 1,
      "min": 0,
      "orientation": "horizontal",
      "style": "IPY_MODEL_0e62447c0ed5465dae36ae7efbc165d4",
      "value": 1
     }
    },
    "95eb63e41e9647dcaa8eab029d89bb17": {
     "model_module": "@jupyter-widgets/base",
     "model_module_version": "1.2.0",
     "model_name": "LayoutModel",
     "state": {
      "_model_module": "@jupyter-widgets/base",
      "_model_module_version": "1.2.0",
      "_model_name": "LayoutModel",
      "_view_count": null,
      "_view_module": "@jupyter-widgets/base",
      "_view_module_version": "1.2.0",
      "_view_name": "LayoutView",
      "align_content": null,
      "align_items": null,
      "align_self": null,
      "border": null,
      "bottom": null,
      "display": null,
      "flex": null,
      "flex_flow": null,
      "grid_area": null,
      "grid_auto_columns": null,
      "grid_auto_flow": null,
      "grid_auto_rows": null,
      "grid_column": null,
      "grid_gap": null,
      "grid_row": null,
      "grid_template_areas": null,
      "grid_template_columns": null,
      "grid_template_rows": null,
      "height": null,
      "justify_content": null,
      "justify_items": null,
      "left": null,
      "margin": null,
      "max_height": null,
      "max_width": null,
      "min_height": null,
      "min_width": null,
      "object_fit": null,
      "object_position": null,
      "order": null,
      "overflow": null,
      "overflow_x": null,
      "overflow_y": null,
      "padding": null,
      "right": null,
      "top": null,
      "visibility": null,
      "width": null
     }
    },
    "9b4d37a8b8904af196cbc6a25201bdff": {
     "model_module": "@jupyter-widgets/controls",
     "model_module_version": "1.5.0",
     "model_name": "HTMLModel",
     "state": {
      "_dom_classes": [],
      "_model_module": "@jupyter-widgets/controls",
      "_model_module_version": "1.5.0",
      "_model_name": "HTMLModel",
      "_view_count": null,
      "_view_module": "@jupyter-widgets/controls",
      "_view_module_version": "1.5.0",
      "_view_name": "HTMLView",
      "description": "",
      "description_tooltip": null,
      "layout": "IPY_MODEL_e57b2ab897d244999f68eeb509a90c16",
      "placeholder": "​",
      "style": "IPY_MODEL_3ce33d947fc74588a5be27bd9cfcec23",
      "value": " 1/1 [00:00&lt;00:00,  3.96ba/s]"
     }
    },
    "9cb5c0dc2f984cf7aedcafe95ab97974": {
     "model_module": "@jupyter-widgets/base",
     "model_module_version": "1.2.0",
     "model_name": "LayoutModel",
     "state": {
      "_model_module": "@jupyter-widgets/base",
      "_model_module_version": "1.2.0",
      "_model_name": "LayoutModel",
      "_view_count": null,
      "_view_module": "@jupyter-widgets/base",
      "_view_module_version": "1.2.0",
      "_view_name": "LayoutView",
      "align_content": null,
      "align_items": null,
      "align_self": null,
      "border": null,
      "bottom": null,
      "display": null,
      "flex": null,
      "flex_flow": null,
      "grid_area": null,
      "grid_auto_columns": null,
      "grid_auto_flow": null,
      "grid_auto_rows": null,
      "grid_column": null,
      "grid_gap": null,
      "grid_row": null,
      "grid_template_areas": null,
      "grid_template_columns": null,
      "grid_template_rows": null,
      "height": null,
      "justify_content": null,
      "justify_items": null,
      "left": null,
      "margin": null,
      "max_height": null,
      "max_width": null,
      "min_height": null,
      "min_width": null,
      "object_fit": null,
      "object_position": null,
      "order": null,
      "overflow": null,
      "overflow_x": null,
      "overflow_y": null,
      "padding": null,
      "right": null,
      "top": null,
      "visibility": null,
      "width": null
     }
    },
    "9ccdb9785665469e93a8ec953eb9cbc5": {
     "model_module": "@jupyter-widgets/controls",
     "model_module_version": "1.5.0",
     "model_name": "HTMLModel",
     "state": {
      "_dom_classes": [],
      "_model_module": "@jupyter-widgets/controls",
      "_model_module_version": "1.5.0",
      "_model_name": "HTMLModel",
      "_view_count": null,
      "_view_module": "@jupyter-widgets/controls",
      "_view_module_version": "1.5.0",
      "_view_name": "HTMLView",
      "description": "",
      "description_tooltip": null,
      "layout": "IPY_MODEL_219150e8f68844e79ea39f743193e1fc",
      "placeholder": "​",
      "style": "IPY_MODEL_a6443665566341eea97416a40095520b",
      "value": "100%"
     }
    },
    "a4b3b3bc726a4cbfb5bb25adffff0048": {
     "model_module": "@jupyter-widgets/base",
     "model_module_version": "1.2.0",
     "model_name": "LayoutModel",
     "state": {
      "_model_module": "@jupyter-widgets/base",
      "_model_module_version": "1.2.0",
      "_model_name": "LayoutModel",
      "_view_count": null,
      "_view_module": "@jupyter-widgets/base",
      "_view_module_version": "1.2.0",
      "_view_name": "LayoutView",
      "align_content": null,
      "align_items": null,
      "align_self": null,
      "border": null,
      "bottom": null,
      "display": null,
      "flex": null,
      "flex_flow": null,
      "grid_area": null,
      "grid_auto_columns": null,
      "grid_auto_flow": null,
      "grid_auto_rows": null,
      "grid_column": null,
      "grid_gap": null,
      "grid_row": null,
      "grid_template_areas": null,
      "grid_template_columns": null,
      "grid_template_rows": null,
      "height": null,
      "justify_content": null,
      "justify_items": null,
      "left": null,
      "margin": null,
      "max_height": null,
      "max_width": null,
      "min_height": null,
      "min_width": null,
      "object_fit": null,
      "object_position": null,
      "order": null,
      "overflow": null,
      "overflow_x": null,
      "overflow_y": null,
      "padding": null,
      "right": null,
      "top": null,
      "visibility": null,
      "width": null
     }
    },
    "a6443665566341eea97416a40095520b": {
     "model_module": "@jupyter-widgets/controls",
     "model_module_version": "1.5.0",
     "model_name": "DescriptionStyleModel",
     "state": {
      "_model_module": "@jupyter-widgets/controls",
      "_model_module_version": "1.5.0",
      "_model_name": "DescriptionStyleModel",
      "_view_count": null,
      "_view_module": "@jupyter-widgets/base",
      "_view_module_version": "1.2.0",
      "_view_name": "StyleView",
      "description_width": ""
     }
    },
    "a720dbd40ba64d38975f96ddbbecbe6e": {
     "model_module": "@jupyter-widgets/base",
     "model_module_version": "1.2.0",
     "model_name": "LayoutModel",
     "state": {
      "_model_module": "@jupyter-widgets/base",
      "_model_module_version": "1.2.0",
      "_model_name": "LayoutModel",
      "_view_count": null,
      "_view_module": "@jupyter-widgets/base",
      "_view_module_version": "1.2.0",
      "_view_name": "LayoutView",
      "align_content": null,
      "align_items": null,
      "align_self": null,
      "border": null,
      "bottom": null,
      "display": null,
      "flex": null,
      "flex_flow": null,
      "grid_area": null,
      "grid_auto_columns": null,
      "grid_auto_flow": null,
      "grid_auto_rows": null,
      "grid_column": null,
      "grid_gap": null,
      "grid_row": null,
      "grid_template_areas": null,
      "grid_template_columns": null,
      "grid_template_rows": null,
      "height": null,
      "justify_content": null,
      "justify_items": null,
      "left": null,
      "margin": null,
      "max_height": null,
      "max_width": null,
      "min_height": null,
      "min_width": null,
      "object_fit": null,
      "object_position": null,
      "order": null,
      "overflow": null,
      "overflow_x": null,
      "overflow_y": null,
      "padding": null,
      "right": null,
      "top": null,
      "visibility": null,
      "width": null
     }
    },
    "a8245ce78d494e34a34483ec8c46e900": {
     "model_module": "@jupyter-widgets/controls",
     "model_module_version": "1.5.0",
     "model_name": "DescriptionStyleModel",
     "state": {
      "_model_module": "@jupyter-widgets/controls",
      "_model_module_version": "1.5.0",
      "_model_name": "DescriptionStyleModel",
      "_view_count": null,
      "_view_module": "@jupyter-widgets/base",
      "_view_module_version": "1.2.0",
      "_view_name": "StyleView",
      "description_width": ""
     }
    },
    "a8c004afda604ec2a3b1ce61c7cd1ce7": {
     "model_module": "@jupyter-widgets/base",
     "model_module_version": "1.2.0",
     "model_name": "LayoutModel",
     "state": {
      "_model_module": "@jupyter-widgets/base",
      "_model_module_version": "1.2.0",
      "_model_name": "LayoutModel",
      "_view_count": null,
      "_view_module": "@jupyter-widgets/base",
      "_view_module_version": "1.2.0",
      "_view_name": "LayoutView",
      "align_content": null,
      "align_items": null,
      "align_self": null,
      "border": null,
      "bottom": null,
      "display": null,
      "flex": null,
      "flex_flow": null,
      "grid_area": null,
      "grid_auto_columns": null,
      "grid_auto_flow": null,
      "grid_auto_rows": null,
      "grid_column": null,
      "grid_gap": null,
      "grid_row": null,
      "grid_template_areas": null,
      "grid_template_columns": null,
      "grid_template_rows": null,
      "height": null,
      "justify_content": null,
      "justify_items": null,
      "left": null,
      "margin": null,
      "max_height": null,
      "max_width": null,
      "min_height": null,
      "min_width": null,
      "object_fit": null,
      "object_position": null,
      "order": null,
      "overflow": null,
      "overflow_x": null,
      "overflow_y": null,
      "padding": null,
      "right": null,
      "top": null,
      "visibility": null,
      "width": null
     }
    },
    "af4af6c61d0f491782e556dfe17ad66e": {
     "model_module": "@jupyter-widgets/controls",
     "model_module_version": "1.5.0",
     "model_name": "ProgressStyleModel",
     "state": {
      "_model_module": "@jupyter-widgets/controls",
      "_model_module_version": "1.5.0",
      "_model_name": "ProgressStyleModel",
      "_view_count": null,
      "_view_module": "@jupyter-widgets/base",
      "_view_module_version": "1.2.0",
      "_view_name": "StyleView",
      "bar_color": null,
      "description_width": ""
     }
    },
    "b0bbf4babc0b408f80a71c8b410d1208": {
     "model_module": "@jupyter-widgets/controls",
     "model_module_version": "1.5.0",
     "model_name": "DescriptionStyleModel",
     "state": {
      "_model_module": "@jupyter-widgets/controls",
      "_model_module_version": "1.5.0",
      "_model_name": "DescriptionStyleModel",
      "_view_count": null,
      "_view_module": "@jupyter-widgets/base",
      "_view_module_version": "1.2.0",
      "_view_name": "StyleView",
      "description_width": ""
     }
    },
    "b2809760e3e646fa96ef52c4195e06a4": {
     "model_module": "@jupyter-widgets/base",
     "model_module_version": "1.2.0",
     "model_name": "LayoutModel",
     "state": {
      "_model_module": "@jupyter-widgets/base",
      "_model_module_version": "1.2.0",
      "_model_name": "LayoutModel",
      "_view_count": null,
      "_view_module": "@jupyter-widgets/base",
      "_view_module_version": "1.2.0",
      "_view_name": "LayoutView",
      "align_content": null,
      "align_items": null,
      "align_self": null,
      "border": null,
      "bottom": null,
      "display": null,
      "flex": null,
      "flex_flow": null,
      "grid_area": null,
      "grid_auto_columns": null,
      "grid_auto_flow": null,
      "grid_auto_rows": null,
      "grid_column": null,
      "grid_gap": null,
      "grid_row": null,
      "grid_template_areas": null,
      "grid_template_columns": null,
      "grid_template_rows": null,
      "height": null,
      "justify_content": null,
      "justify_items": null,
      "left": null,
      "margin": null,
      "max_height": null,
      "max_width": null,
      "min_height": null,
      "min_width": null,
      "object_fit": null,
      "object_position": null,
      "order": null,
      "overflow": null,
      "overflow_x": null,
      "overflow_y": null,
      "padding": null,
      "right": null,
      "top": null,
      "visibility": null,
      "width": null
     }
    },
    "b60f6c3051b94234be38bce65fa24ddb": {
     "model_module": "@jupyter-widgets/controls",
     "model_module_version": "1.5.0",
     "model_name": "HBoxModel",
     "state": {
      "_dom_classes": [],
      "_model_module": "@jupyter-widgets/controls",
      "_model_module_version": "1.5.0",
      "_model_name": "HBoxModel",
      "_view_count": null,
      "_view_module": "@jupyter-widgets/controls",
      "_view_module_version": "1.5.0",
      "_view_name": "HBoxView",
      "box_style": "",
      "children": [
       "IPY_MODEL_9ccdb9785665469e93a8ec953eb9cbc5",
       "IPY_MODEL_94c2dbb415f54010836dab1b5090e29a",
       "IPY_MODEL_342595fe3e0c4403ae3f084d3660ebf6"
      ],
      "layout": "IPY_MODEL_ec7a9481821440bd9b498ed230fdabb1"
     }
    },
    "bc1f6b9e49724f4889444e8d512488cd": {
     "model_module": "@jupyter-widgets/controls",
     "model_module_version": "1.5.0",
     "model_name": "HTMLModel",
     "state": {
      "_dom_classes": [],
      "_model_module": "@jupyter-widgets/controls",
      "_model_module_version": "1.5.0",
      "_model_name": "HTMLModel",
      "_view_count": null,
      "_view_module": "@jupyter-widgets/controls",
      "_view_module_version": "1.5.0",
      "_view_name": "HTMLView",
      "description": "",
      "description_tooltip": null,
      "layout": "IPY_MODEL_f453b6526f074bd0b53357a29d7a8657",
      "placeholder": "​",
      "style": "IPY_MODEL_29017ad36b6846319c2ddef2788f15c6",
      "value": " 1/1 [00:00&lt;00:00, 22.11it/s]"
     }
    },
    "bedcee58684c476d8dce8c74d3421719": {
     "model_module": "@jupyter-widgets/controls",
     "model_module_version": "1.5.0",
     "model_name": "HTMLModel",
     "state": {
      "_dom_classes": [],
      "_model_module": "@jupyter-widgets/controls",
      "_model_module_version": "1.5.0",
      "_model_name": "HTMLModel",
      "_view_count": null,
      "_view_module": "@jupyter-widgets/controls",
      "_view_module_version": "1.5.0",
      "_view_name": "HTMLView",
      "description": "",
      "description_tooltip": null,
      "layout": "IPY_MODEL_24e28c0ad9ed40458c534f4929f60456",
      "placeholder": "​",
      "style": "IPY_MODEL_eab891dc49f74145a3e486bc5595ecbb",
      "value": " 352/352 [00:00&lt;00:00, 1038.70ex/s]"
     }
    },
    "c113380bc78e4d9bba91a6dd4188f4d9": {
     "model_module": "@jupyter-widgets/controls",
     "model_module_version": "1.5.0",
     "model_name": "DescriptionStyleModel",
     "state": {
      "_model_module": "@jupyter-widgets/controls",
      "_model_module_version": "1.5.0",
      "_model_name": "DescriptionStyleModel",
      "_view_count": null,
      "_view_module": "@jupyter-widgets/base",
      "_view_module_version": "1.2.0",
      "_view_name": "StyleView",
      "description_width": ""
     }
    },
    "c13264478ed541a197aa5729da73b6b0": {
     "model_module": "@jupyter-widgets/base",
     "model_module_version": "1.2.0",
     "model_name": "LayoutModel",
     "state": {
      "_model_module": "@jupyter-widgets/base",
      "_model_module_version": "1.2.0",
      "_model_name": "LayoutModel",
      "_view_count": null,
      "_view_module": "@jupyter-widgets/base",
      "_view_module_version": "1.2.0",
      "_view_name": "LayoutView",
      "align_content": null,
      "align_items": null,
      "align_self": null,
      "border": null,
      "bottom": null,
      "display": null,
      "flex": null,
      "flex_flow": null,
      "grid_area": null,
      "grid_auto_columns": null,
      "grid_auto_flow": null,
      "grid_auto_rows": null,
      "grid_column": null,
      "grid_gap": null,
      "grid_row": null,
      "grid_template_areas": null,
      "grid_template_columns": null,
      "grid_template_rows": null,
      "height": null,
      "justify_content": null,
      "justify_items": null,
      "left": null,
      "margin": null,
      "max_height": null,
      "max_width": null,
      "min_height": null,
      "min_width": null,
      "object_fit": null,
      "object_position": null,
      "order": null,
      "overflow": null,
      "overflow_x": null,
      "overflow_y": null,
      "padding": null,
      "right": null,
      "top": null,
      "visibility": null,
      "width": null
     }
    },
    "c14424d6610d4092b693ecfb8420ab85": {
     "model_module": "@jupyter-widgets/controls",
     "model_module_version": "1.5.0",
     "model_name": "FloatProgressModel",
     "state": {
      "_dom_classes": [],
      "_model_module": "@jupyter-widgets/controls",
      "_model_module_version": "1.5.0",
      "_model_name": "FloatProgressModel",
      "_view_count": null,
      "_view_module": "@jupyter-widgets/controls",
      "_view_module_version": "1.5.0",
      "_view_name": "ProgressView",
      "bar_style": "success",
      "description": "",
      "description_tooltip": null,
      "layout": "IPY_MODEL_6496b90a0e664ca0ab4167dee861abb3",
      "max": 1,
      "min": 0,
      "orientation": "horizontal",
      "style": "IPY_MODEL_3e9c95768f4148fba709d88e4c8194e9",
      "value": 1
     }
    },
    "c18a41a1cdf24aa68aa55b1621182883": {
     "model_module": "@jupyter-widgets/base",
     "model_module_version": "1.2.0",
     "model_name": "LayoutModel",
     "state": {
      "_model_module": "@jupyter-widgets/base",
      "_model_module_version": "1.2.0",
      "_model_name": "LayoutModel",
      "_view_count": null,
      "_view_module": "@jupyter-widgets/base",
      "_view_module_version": "1.2.0",
      "_view_name": "LayoutView",
      "align_content": null,
      "align_items": null,
      "align_self": null,
      "border": null,
      "bottom": null,
      "display": null,
      "flex": null,
      "flex_flow": null,
      "grid_area": null,
      "grid_auto_columns": null,
      "grid_auto_flow": null,
      "grid_auto_rows": null,
      "grid_column": null,
      "grid_gap": null,
      "grid_row": null,
      "grid_template_areas": null,
      "grid_template_columns": null,
      "grid_template_rows": null,
      "height": null,
      "justify_content": null,
      "justify_items": null,
      "left": null,
      "margin": null,
      "max_height": null,
      "max_width": null,
      "min_height": null,
      "min_width": null,
      "object_fit": null,
      "object_position": null,
      "order": null,
      "overflow": null,
      "overflow_x": null,
      "overflow_y": null,
      "padding": null,
      "right": null,
      "top": null,
      "visibility": null,
      "width": null
     }
    },
    "c395e68400a348d3b4c701d2cfab0674": {
     "model_module": "@jupyter-widgets/base",
     "model_module_version": "1.2.0",
     "model_name": "LayoutModel",
     "state": {
      "_model_module": "@jupyter-widgets/base",
      "_model_module_version": "1.2.0",
      "_model_name": "LayoutModel",
      "_view_count": null,
      "_view_module": "@jupyter-widgets/base",
      "_view_module_version": "1.2.0",
      "_view_name": "LayoutView",
      "align_content": null,
      "align_items": null,
      "align_self": null,
      "border": null,
      "bottom": null,
      "display": null,
      "flex": null,
      "flex_flow": null,
      "grid_area": null,
      "grid_auto_columns": null,
      "grid_auto_flow": null,
      "grid_auto_rows": null,
      "grid_column": null,
      "grid_gap": null,
      "grid_row": null,
      "grid_template_areas": null,
      "grid_template_columns": null,
      "grid_template_rows": null,
      "height": null,
      "justify_content": null,
      "justify_items": null,
      "left": null,
      "margin": null,
      "max_height": null,
      "max_width": null,
      "min_height": null,
      "min_width": null,
      "object_fit": null,
      "object_position": null,
      "order": null,
      "overflow": null,
      "overflow_x": null,
      "overflow_y": null,
      "padding": null,
      "right": null,
      "top": null,
      "visibility": null,
      "width": null
     }
    },
    "c5fb8666bdb247ceabd09b73d09f8eed": {
     "model_module": "@jupyter-widgets/base",
     "model_module_version": "1.2.0",
     "model_name": "LayoutModel",
     "state": {
      "_model_module": "@jupyter-widgets/base",
      "_model_module_version": "1.2.0",
      "_model_name": "LayoutModel",
      "_view_count": null,
      "_view_module": "@jupyter-widgets/base",
      "_view_module_version": "1.2.0",
      "_view_name": "LayoutView",
      "align_content": null,
      "align_items": null,
      "align_self": null,
      "border": null,
      "bottom": null,
      "display": null,
      "flex": null,
      "flex_flow": null,
      "grid_area": null,
      "grid_auto_columns": null,
      "grid_auto_flow": null,
      "grid_auto_rows": null,
      "grid_column": null,
      "grid_gap": null,
      "grid_row": null,
      "grid_template_areas": null,
      "grid_template_columns": null,
      "grid_template_rows": null,
      "height": null,
      "justify_content": null,
      "justify_items": null,
      "left": null,
      "margin": null,
      "max_height": null,
      "max_width": null,
      "min_height": null,
      "min_width": null,
      "object_fit": null,
      "object_position": null,
      "order": null,
      "overflow": null,
      "overflow_x": null,
      "overflow_y": null,
      "padding": null,
      "right": null,
      "top": null,
      "visibility": null,
      "width": null
     }
    },
    "cb4e4b84993c42c4b36698980bd318cb": {
     "model_module": "@jupyter-widgets/base",
     "model_module_version": "1.2.0",
     "model_name": "LayoutModel",
     "state": {
      "_model_module": "@jupyter-widgets/base",
      "_model_module_version": "1.2.0",
      "_model_name": "LayoutModel",
      "_view_count": null,
      "_view_module": "@jupyter-widgets/base",
      "_view_module_version": "1.2.0",
      "_view_name": "LayoutView",
      "align_content": null,
      "align_items": null,
      "align_self": null,
      "border": null,
      "bottom": null,
      "display": null,
      "flex": null,
      "flex_flow": null,
      "grid_area": null,
      "grid_auto_columns": null,
      "grid_auto_flow": null,
      "grid_auto_rows": null,
      "grid_column": null,
      "grid_gap": null,
      "grid_row": null,
      "grid_template_areas": null,
      "grid_template_columns": null,
      "grid_template_rows": null,
      "height": null,
      "justify_content": null,
      "justify_items": null,
      "left": null,
      "margin": null,
      "max_height": null,
      "max_width": null,
      "min_height": null,
      "min_width": null,
      "object_fit": null,
      "object_position": null,
      "order": null,
      "overflow": null,
      "overflow_x": null,
      "overflow_y": null,
      "padding": null,
      "right": null,
      "top": null,
      "visibility": null,
      "width": null
     }
    },
    "ccabb3baca434069afc3eb54fca6a336": {
     "model_module": "@jupyter-widgets/base",
     "model_module_version": "1.2.0",
     "model_name": "LayoutModel",
     "state": {
      "_model_module": "@jupyter-widgets/base",
      "_model_module_version": "1.2.0",
      "_model_name": "LayoutModel",
      "_view_count": null,
      "_view_module": "@jupyter-widgets/base",
      "_view_module_version": "1.2.0",
      "_view_name": "LayoutView",
      "align_content": null,
      "align_items": null,
      "align_self": null,
      "border": null,
      "bottom": null,
      "display": null,
      "flex": null,
      "flex_flow": null,
      "grid_area": null,
      "grid_auto_columns": null,
      "grid_auto_flow": null,
      "grid_auto_rows": null,
      "grid_column": null,
      "grid_gap": null,
      "grid_row": null,
      "grid_template_areas": null,
      "grid_template_columns": null,
      "grid_template_rows": null,
      "height": null,
      "justify_content": null,
      "justify_items": null,
      "left": null,
      "margin": null,
      "max_height": null,
      "max_width": null,
      "min_height": null,
      "min_width": null,
      "object_fit": null,
      "object_position": null,
      "order": null,
      "overflow": null,
      "overflow_x": null,
      "overflow_y": null,
      "padding": null,
      "right": null,
      "top": null,
      "visibility": null,
      "width": null
     }
    },
    "cdad531fe1fa4bd79181aafe358bcf0f": {
     "model_module": "@jupyter-widgets/controls",
     "model_module_version": "1.5.0",
     "model_name": "ProgressStyleModel",
     "state": {
      "_model_module": "@jupyter-widgets/controls",
      "_model_module_version": "1.5.0",
      "_model_name": "ProgressStyleModel",
      "_view_count": null,
      "_view_module": "@jupyter-widgets/base",
      "_view_module_version": "1.2.0",
      "_view_name": "StyleView",
      "bar_color": null,
      "description_width": ""
     }
    },
    "cdb81518af1b40f98e6655f570bf87e4": {
     "model_module": "@jupyter-widgets/base",
     "model_module_version": "1.2.0",
     "model_name": "LayoutModel",
     "state": {
      "_model_module": "@jupyter-widgets/base",
      "_model_module_version": "1.2.0",
      "_model_name": "LayoutModel",
      "_view_count": null,
      "_view_module": "@jupyter-widgets/base",
      "_view_module_version": "1.2.0",
      "_view_name": "LayoutView",
      "align_content": null,
      "align_items": null,
      "align_self": null,
      "border": null,
      "bottom": null,
      "display": null,
      "flex": null,
      "flex_flow": null,
      "grid_area": null,
      "grid_auto_columns": null,
      "grid_auto_flow": null,
      "grid_auto_rows": null,
      "grid_column": null,
      "grid_gap": null,
      "grid_row": null,
      "grid_template_areas": null,
      "grid_template_columns": null,
      "grid_template_rows": null,
      "height": null,
      "justify_content": null,
      "justify_items": null,
      "left": null,
      "margin": null,
      "max_height": null,
      "max_width": null,
      "min_height": null,
      "min_width": null,
      "object_fit": null,
      "object_position": null,
      "order": null,
      "overflow": null,
      "overflow_x": null,
      "overflow_y": null,
      "padding": null,
      "right": null,
      "top": null,
      "visibility": null,
      "width": null
     }
    },
    "d70a98571cca45f2a98bab40ea9ad864": {
     "model_module": "@jupyter-widgets/controls",
     "model_module_version": "1.5.0",
     "model_name": "HTMLModel",
     "state": {
      "_dom_classes": [],
      "_model_module": "@jupyter-widgets/controls",
      "_model_module_version": "1.5.0",
      "_model_name": "HTMLModel",
      "_view_count": null,
      "_view_module": "@jupyter-widgets/controls",
      "_view_module_version": "1.5.0",
      "_view_name": "HTMLView",
      "description": "",
      "description_tooltip": null,
      "layout": "IPY_MODEL_562a08e3e1364467acfdbfbaaef6f185",
      "placeholder": "​",
      "style": "IPY_MODEL_814d0af6161a448abfaaff8e56490d14",
      "value": "100%"
     }
    },
    "d7847a7ce0974bac97bccc758b65df02": {
     "model_module": "@jupyter-widgets/base",
     "model_module_version": "1.2.0",
     "model_name": "LayoutModel",
     "state": {
      "_model_module": "@jupyter-widgets/base",
      "_model_module_version": "1.2.0",
      "_model_name": "LayoutModel",
      "_view_count": null,
      "_view_module": "@jupyter-widgets/base",
      "_view_module_version": "1.2.0",
      "_view_name": "LayoutView",
      "align_content": null,
      "align_items": null,
      "align_self": null,
      "border": null,
      "bottom": null,
      "display": null,
      "flex": null,
      "flex_flow": null,
      "grid_area": null,
      "grid_auto_columns": null,
      "grid_auto_flow": null,
      "grid_auto_rows": null,
      "grid_column": null,
      "grid_gap": null,
      "grid_row": null,
      "grid_template_areas": null,
      "grid_template_columns": null,
      "grid_template_rows": null,
      "height": null,
      "justify_content": null,
      "justify_items": null,
      "left": null,
      "margin": null,
      "max_height": null,
      "max_width": null,
      "min_height": null,
      "min_width": null,
      "object_fit": null,
      "object_position": null,
      "order": null,
      "overflow": null,
      "overflow_x": null,
      "overflow_y": null,
      "padding": null,
      "right": null,
      "top": null,
      "visibility": null,
      "width": null
     }
    },
    "db5b5ba025484d9890cec48954178fb0": {
     "model_module": "@jupyter-widgets/controls",
     "model_module_version": "1.5.0",
     "model_name": "ProgressStyleModel",
     "state": {
      "_model_module": "@jupyter-widgets/controls",
      "_model_module_version": "1.5.0",
      "_model_name": "ProgressStyleModel",
      "_view_count": null,
      "_view_module": "@jupyter-widgets/base",
      "_view_module_version": "1.2.0",
      "_view_name": "StyleView",
      "bar_color": null,
      "description_width": ""
     }
    },
    "dc655aaa939c433aab07d76afc7840a6": {
     "model_module": "@jupyter-widgets/controls",
     "model_module_version": "1.5.0",
     "model_name": "HTMLModel",
     "state": {
      "_dom_classes": [],
      "_model_module": "@jupyter-widgets/controls",
      "_model_module_version": "1.5.0",
      "_model_name": "HTMLModel",
      "_view_count": null,
      "_view_module": "@jupyter-widgets/controls",
      "_view_module_version": "1.5.0",
      "_view_name": "HTMLView",
      "description": "",
      "description_tooltip": null,
      "layout": "IPY_MODEL_6488504819a84c97b4fcd918a60d9a31",
      "placeholder": "​",
      "style": "IPY_MODEL_b0bbf4babc0b408f80a71c8b410d1208",
      "value": " 2782/2782 [00:00&lt;00:00, 3857.93ex/s]"
     }
    },
    "e16bdc74031e49359c30fa4175862013": {
     "model_module": "@jupyter-widgets/controls",
     "model_module_version": "1.5.0",
     "model_name": "DescriptionStyleModel",
     "state": {
      "_model_module": "@jupyter-widgets/controls",
      "_model_module_version": "1.5.0",
      "_model_name": "DescriptionStyleModel",
      "_view_count": null,
      "_view_module": "@jupyter-widgets/base",
      "_view_module_version": "1.2.0",
      "_view_name": "StyleView",
      "description_width": ""
     }
    },
    "e2f6c41ae37a4d16918a9bce271ac1d9": {
     "model_module": "@jupyter-widgets/controls",
     "model_module_version": "1.5.0",
     "model_name": "FloatProgressModel",
     "state": {
      "_dom_classes": [],
      "_model_module": "@jupyter-widgets/controls",
      "_model_module_version": "1.5.0",
      "_model_name": "FloatProgressModel",
      "_view_count": null,
      "_view_module": "@jupyter-widgets/controls",
      "_view_module_version": "1.5.0",
      "_view_name": "ProgressView",
      "bar_style": "success",
      "description": "",
      "description_tooltip": null,
      "layout": "IPY_MODEL_cdb81518af1b40f98e6655f570bf87e4",
      "max": 72,
      "min": 0,
      "orientation": "horizontal",
      "style": "IPY_MODEL_af4af6c61d0f491782e556dfe17ad66e",
      "value": 72
     }
    },
    "e375cb9bd77042ce83edf3466f42d606": {
     "model_module": "@jupyter-widgets/controls",
     "model_module_version": "1.5.0",
     "model_name": "DescriptionStyleModel",
     "state": {
      "_model_module": "@jupyter-widgets/controls",
      "_model_module_version": "1.5.0",
      "_model_name": "DescriptionStyleModel",
      "_view_count": null,
      "_view_module": "@jupyter-widgets/base",
      "_view_module_version": "1.2.0",
      "_view_name": "StyleView",
      "description_width": ""
     }
    },
    "e3e85be79e064e39befa6ac24894dbe6": {
     "model_module": "@jupyter-widgets/controls",
     "model_module_version": "1.5.0",
     "model_name": "FloatProgressModel",
     "state": {
      "_dom_classes": [],
      "_model_module": "@jupyter-widgets/controls",
      "_model_module_version": "1.5.0",
      "_model_name": "FloatProgressModel",
      "_view_count": null,
      "_view_module": "@jupyter-widgets/controls",
      "_view_module_version": "1.5.0",
      "_view_name": "ProgressView",
      "bar_style": "success",
      "description": "",
      "description_tooltip": null,
      "layout": "IPY_MODEL_c395e68400a348d3b4c701d2cfab0674",
      "max": 3,
      "min": 0,
      "orientation": "horizontal",
      "style": "IPY_MODEL_e89c8715bc0249de95032f01757664d0",
      "value": 3
     }
    },
    "e57b2ab897d244999f68eeb509a90c16": {
     "model_module": "@jupyter-widgets/base",
     "model_module_version": "1.2.0",
     "model_name": "LayoutModel",
     "state": {
      "_model_module": "@jupyter-widgets/base",
      "_model_module_version": "1.2.0",
      "_model_name": "LayoutModel",
      "_view_count": null,
      "_view_module": "@jupyter-widgets/base",
      "_view_module_version": "1.2.0",
      "_view_name": "LayoutView",
      "align_content": null,
      "align_items": null,
      "align_self": null,
      "border": null,
      "bottom": null,
      "display": null,
      "flex": null,
      "flex_flow": null,
      "grid_area": null,
      "grid_auto_columns": null,
      "grid_auto_flow": null,
      "grid_auto_rows": null,
      "grid_column": null,
      "grid_gap": null,
      "grid_row": null,
      "grid_template_areas": null,
      "grid_template_columns": null,
      "grid_template_rows": null,
      "height": null,
      "justify_content": null,
      "justify_items": null,
      "left": null,
      "margin": null,
      "max_height": null,
      "max_width": null,
      "min_height": null,
      "min_width": null,
      "object_fit": null,
      "object_position": null,
      "order": null,
      "overflow": null,
      "overflow_x": null,
      "overflow_y": null,
      "padding": null,
      "right": null,
      "top": null,
      "visibility": null,
      "width": null
     }
    },
    "e67376dd1a9d418289bdae91f54b37ca": {
     "model_module": "@jupyter-widgets/controls",
     "model_module_version": "1.5.0",
     "model_name": "HTMLModel",
     "state": {
      "_dom_classes": [],
      "_model_module": "@jupyter-widgets/controls",
      "_model_module_version": "1.5.0",
      "_model_name": "HTMLModel",
      "_view_count": null,
      "_view_module": "@jupyter-widgets/controls",
      "_view_module_version": "1.5.0",
      "_view_name": "HTMLView",
      "description": "",
      "description_tooltip": null,
      "layout": "IPY_MODEL_351546279c884212b71cbf5fb2a55456",
      "placeholder": "​",
      "style": "IPY_MODEL_3b74b631431c4f1db51572c0cdb6f849",
      "value": "100%"
     }
    },
    "e767f2eb1c8a481cb75fa6d802beb944": {
     "model_module": "@jupyter-widgets/controls",
     "model_module_version": "1.5.0",
     "model_name": "FloatProgressModel",
     "state": {
      "_dom_classes": [],
      "_model_module": "@jupyter-widgets/controls",
      "_model_module_version": "1.5.0",
      "_model_name": "FloatProgressModel",
      "_view_count": null,
      "_view_module": "@jupyter-widgets/controls",
      "_view_module_version": "1.5.0",
      "_view_name": "ProgressView",
      "bar_style": "success",
      "description": "",
      "description_tooltip": null,
      "layout": "IPY_MODEL_0a250091a17b42d1a89a52339d310da5",
      "max": 352,
      "min": 0,
      "orientation": "horizontal",
      "style": "IPY_MODEL_23fd4420f7dc4b15bca22cd49eec3461",
      "value": 352
     }
    },
    "e89c8715bc0249de95032f01757664d0": {
     "model_module": "@jupyter-widgets/controls",
     "model_module_version": "1.5.0",
     "model_name": "ProgressStyleModel",
     "state": {
      "_model_module": "@jupyter-widgets/controls",
      "_model_module_version": "1.5.0",
      "_model_name": "ProgressStyleModel",
      "_view_count": null,
      "_view_module": "@jupyter-widgets/base",
      "_view_module_version": "1.2.0",
      "_view_name": "StyleView",
      "bar_color": null,
      "description_width": ""
     }
    },
    "eab891dc49f74145a3e486bc5595ecbb": {
     "model_module": "@jupyter-widgets/controls",
     "model_module_version": "1.5.0",
     "model_name": "DescriptionStyleModel",
     "state": {
      "_model_module": "@jupyter-widgets/controls",
      "_model_module_version": "1.5.0",
      "_model_name": "DescriptionStyleModel",
      "_view_count": null,
      "_view_module": "@jupyter-widgets/base",
      "_view_module_version": "1.2.0",
      "_view_name": "StyleView",
      "description_width": ""
     }
    },
    "ec7a9481821440bd9b498ed230fdabb1": {
     "model_module": "@jupyter-widgets/base",
     "model_module_version": "1.2.0",
     "model_name": "LayoutModel",
     "state": {
      "_model_module": "@jupyter-widgets/base",
      "_model_module_version": "1.2.0",
      "_model_name": "LayoutModel",
      "_view_count": null,
      "_view_module": "@jupyter-widgets/base",
      "_view_module_version": "1.2.0",
      "_view_name": "LayoutView",
      "align_content": null,
      "align_items": null,
      "align_self": null,
      "border": null,
      "bottom": null,
      "display": null,
      "flex": null,
      "flex_flow": null,
      "grid_area": null,
      "grid_auto_columns": null,
      "grid_auto_flow": null,
      "grid_auto_rows": null,
      "grid_column": null,
      "grid_gap": null,
      "grid_row": null,
      "grid_template_areas": null,
      "grid_template_columns": null,
      "grid_template_rows": null,
      "height": null,
      "justify_content": null,
      "justify_items": null,
      "left": null,
      "margin": null,
      "max_height": null,
      "max_width": null,
      "min_height": null,
      "min_width": null,
      "object_fit": null,
      "object_position": null,
      "order": null,
      "overflow": null,
      "overflow_x": null,
      "overflow_y": null,
      "padding": null,
      "right": null,
      "top": null,
      "visibility": null,
      "width": null
     }
    },
    "f079826b1d034c5399fa037698fb7faa": {
     "model_module": "@jupyter-widgets/controls",
     "model_module_version": "1.5.0",
     "model_name": "DescriptionStyleModel",
     "state": {
      "_model_module": "@jupyter-widgets/controls",
      "_model_module_version": "1.5.0",
      "_model_name": "DescriptionStyleModel",
      "_view_count": null,
      "_view_module": "@jupyter-widgets/base",
      "_view_module_version": "1.2.0",
      "_view_name": "StyleView",
      "description_width": ""
     }
    },
    "f179ca3ae975489886b8f756fd25ebc9": {
     "model_module": "@jupyter-widgets/controls",
     "model_module_version": "1.5.0",
     "model_name": "HTMLModel",
     "state": {
      "_dom_classes": [],
      "_model_module": "@jupyter-widgets/controls",
      "_model_module_version": "1.5.0",
      "_model_name": "HTMLModel",
      "_view_count": null,
      "_view_module": "@jupyter-widgets/controls",
      "_view_module_version": "1.5.0",
      "_view_name": "HTMLView",
      "description": "",
      "description_tooltip": null,
      "layout": "IPY_MODEL_25550cf137ed4baa86cb436aaf6d70e7",
      "placeholder": "​",
      "style": "IPY_MODEL_8cde0393a1ed4a0abc1d2fd3cbb5018e",
      "value": "100%"
     }
    },
    "f453b6526f074bd0b53357a29d7a8657": {
     "model_module": "@jupyter-widgets/base",
     "model_module_version": "1.2.0",
     "model_name": "LayoutModel",
     "state": {
      "_model_module": "@jupyter-widgets/base",
      "_model_module_version": "1.2.0",
      "_model_name": "LayoutModel",
      "_view_count": null,
      "_view_module": "@jupyter-widgets/base",
      "_view_module_version": "1.2.0",
      "_view_name": "LayoutView",
      "align_content": null,
      "align_items": null,
      "align_self": null,
      "border": null,
      "bottom": null,
      "display": null,
      "flex": null,
      "flex_flow": null,
      "grid_area": null,
      "grid_auto_columns": null,
      "grid_auto_flow": null,
      "grid_auto_rows": null,
      "grid_column": null,
      "grid_gap": null,
      "grid_row": null,
      "grid_template_areas": null,
      "grid_template_columns": null,
      "grid_template_rows": null,
      "height": null,
      "justify_content": null,
      "justify_items": null,
      "left": null,
      "margin": null,
      "max_height": null,
      "max_width": null,
      "min_height": null,
      "min_width": null,
      "object_fit": null,
      "object_position": null,
      "order": null,
      "overflow": null,
      "overflow_x": null,
      "overflow_y": null,
      "padding": null,
      "right": null,
      "top": null,
      "visibility": null,
      "width": null
     }
    },
    "f49e85e853264088b14a31f7f368266d": {
     "model_module": "@jupyter-widgets/controls",
     "model_module_version": "1.5.0",
     "model_name": "HBoxModel",
     "state": {
      "_dom_classes": [],
      "_model_module": "@jupyter-widgets/controls",
      "_model_module_version": "1.5.0",
      "_model_name": "HBoxModel",
      "_view_count": null,
      "_view_module": "@jupyter-widgets/controls",
      "_view_module_version": "1.5.0",
      "_view_name": "HBoxView",
      "box_style": "",
      "children": [
       "IPY_MODEL_235d99928bef438cbd04f8d9d6c55a2d",
       "IPY_MODEL_e3e85be79e064e39befa6ac24894dbe6",
       "IPY_MODEL_5a0b2d8e15b34858be780c63e792097a"
      ],
      "layout": "IPY_MODEL_3644fef5e3c943b4af7dd474c035d14d"
     }
    },
    "f53974c7648d45ff90f3bcae3e2c4f49": {
     "model_module": "@jupyter-widgets/controls",
     "model_module_version": "1.5.0",
     "model_name": "HTMLModel",
     "state": {
      "_dom_classes": [],
      "_model_module": "@jupyter-widgets/controls",
      "_model_module_version": "1.5.0",
      "_model_name": "HTMLModel",
      "_view_count": null,
      "_view_module": "@jupyter-widgets/controls",
      "_view_module_version": "1.5.0",
      "_view_name": "HTMLView",
      "description": "",
      "description_tooltip": null,
      "layout": "IPY_MODEL_9cb5c0dc2f984cf7aedcafe95ab97974",
      "placeholder": "​",
      "style": "IPY_MODEL_3c2c495c4549446daadc692fcd5dc438",
      "value": "100%"
     }
    },
    "f995e4768ea6419d92611ba0a3e3a9cd": {
     "model_module": "@jupyter-widgets/controls",
     "model_module_version": "1.5.0",
     "model_name": "HTMLModel",
     "state": {
      "_dom_classes": [],
      "_model_module": "@jupyter-widgets/controls",
      "_model_module_version": "1.5.0",
      "_model_name": "HTMLModel",
      "_view_count": null,
      "_view_module": "@jupyter-widgets/controls",
      "_view_module_version": "1.5.0",
      "_view_name": "HTMLView",
      "description": "",
      "description_tooltip": null,
      "layout": "IPY_MODEL_fd1c742f9338470ea2cf6d98f55fa583",
      "placeholder": "​",
      "style": "IPY_MODEL_807c03e1409b47c28f28421a5237c1c5",
      "value": "100%"
     }
    },
    "fa0e2667c8574b788a3808582cd10019": {
     "model_module": "@jupyter-widgets/base",
     "model_module_version": "1.2.0",
     "model_name": "LayoutModel",
     "state": {
      "_model_module": "@jupyter-widgets/base",
      "_model_module_version": "1.2.0",
      "_model_name": "LayoutModel",
      "_view_count": null,
      "_view_module": "@jupyter-widgets/base",
      "_view_module_version": "1.2.0",
      "_view_name": "LayoutView",
      "align_content": null,
      "align_items": null,
      "align_self": null,
      "border": null,
      "bottom": null,
      "display": null,
      "flex": null,
      "flex_flow": null,
      "grid_area": null,
      "grid_auto_columns": null,
      "grid_auto_flow": null,
      "grid_auto_rows": null,
      "grid_column": null,
      "grid_gap": null,
      "grid_row": null,
      "grid_template_areas": null,
      "grid_template_columns": null,
      "grid_template_rows": null,
      "height": null,
      "justify_content": null,
      "justify_items": null,
      "left": null,
      "margin": null,
      "max_height": null,
      "max_width": null,
      "min_height": null,
      "min_width": null,
      "object_fit": null,
      "object_position": null,
      "order": null,
      "overflow": null,
      "overflow_x": null,
      "overflow_y": null,
      "padding": null,
      "right": null,
      "top": null,
      "visibility": null,
      "width": null
     }
    },
    "fd1c742f9338470ea2cf6d98f55fa583": {
     "model_module": "@jupyter-widgets/base",
     "model_module_version": "1.2.0",
     "model_name": "LayoutModel",
     "state": {
      "_model_module": "@jupyter-widgets/base",
      "_model_module_version": "1.2.0",
      "_model_name": "LayoutModel",
      "_view_count": null,
      "_view_module": "@jupyter-widgets/base",
      "_view_module_version": "1.2.0",
      "_view_name": "LayoutView",
      "align_content": null,
      "align_items": null,
      "align_self": null,
      "border": null,
      "bottom": null,
      "display": null,
      "flex": null,
      "flex_flow": null,
      "grid_area": null,
      "grid_auto_columns": null,
      "grid_auto_flow": null,
      "grid_auto_rows": null,
      "grid_column": null,
      "grid_gap": null,
      "grid_row": null,
      "grid_template_areas": null,
      "grid_template_columns": null,
      "grid_template_rows": null,
      "height": null,
      "justify_content": null,
      "justify_items": null,
      "left": null,
      "margin": null,
      "max_height": null,
      "max_width": null,
      "min_height": null,
      "min_width": null,
      "object_fit": null,
      "object_position": null,
      "order": null,
      "overflow": null,
      "overflow_x": null,
      "overflow_y": null,
      "padding": null,
      "right": null,
      "top": null,
      "visibility": null,
      "width": null
     }
    }
   }
  }
 },
 "nbformat": 4,
 "nbformat_minor": 1
}
